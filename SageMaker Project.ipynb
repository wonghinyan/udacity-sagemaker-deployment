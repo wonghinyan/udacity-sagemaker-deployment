{
 "cells": [
  {
   "cell_type": "markdown",
   "metadata": {},
   "source": [
    "# Creating a Sentiment Analysis Web App\n",
    "## Using PyTorch and SageMaker\n",
    "\n",
    "_Deep Learning Nanodegree Program | Deployment_\n",
    "\n",
    "---\n",
    "\n",
    "Now that we have a basic understanding of how SageMaker works we will try to use it to construct a complete project from end to end. Our goal will be to have a simple web page which a user can use to enter a movie review. The web page will then send the review off to our deployed model which will predict the sentiment of the entered review.\n",
    "\n",
    "## Instructions\n",
    "\n",
    "Some template code has already been provided for you, and you will need to implement additional functionality to successfully complete this notebook. You will not need to modify the included code beyond what is requested. Sections that begin with '**TODO**' in the header indicate that you need to complete or implement some portion within them. Instructions will be provided for each section and the specifics of the implementation are marked in the code block with a `# TODO: ...` comment. Please be sure to read the instructions carefully!\n",
    "\n",
    "In addition to implementing code, there will be questions for you to answer which relate to the task and your implementation. Each section where you will answer a question is preceded by a '**Question:**' header. Carefully read each question and provide your answer below the '**Answer:**' header by editing the Markdown cell.\n",
    "\n",
    "> **Note**: Code and Markdown cells can be executed using the **Shift+Enter** keyboard shortcut. In addition, a cell can be edited by typically clicking it (double-click for Markdown cells) or by pressing **Enter** while it is highlighted.\n",
    "\n",
    "## General Outline\n",
    "\n",
    "Recall the general outline for SageMaker projects using a notebook instance.\n",
    "\n",
    "1. Download or otherwise retrieve the data.\n",
    "2. Process / Prepare the data.\n",
    "3. Upload the processed data to S3.\n",
    "4. Train a chosen model.\n",
    "5. Test the trained model (typically using a batch transform job).\n",
    "6. Deploy the trained model.\n",
    "7. Use the deployed model.\n",
    "\n",
    "For this project, you will be following the steps in the general outline with some modifications. \n",
    "\n",
    "First, you will not be testing the model in its own step. You will still be testing the model, however, you will do it by deploying your model and then using the deployed model by sending the test data to it. One of the reasons for doing this is so that you can make sure that your deployed model is working correctly before moving forward.\n",
    "\n",
    "In addition, you will deploy and use your trained model a second time. In the second iteration you will customize the way that your trained model is deployed by including some of your own code. In addition, your newly deployed model will be used in the sentiment analysis web app."
   ]
  },
  {
   "cell_type": "markdown",
   "metadata": {},
   "source": [
    "## Step 1: Downloading the data\n",
    "\n",
    "As in the XGBoost in SageMaker notebook, we will be using the [IMDb dataset](http://ai.stanford.edu/~amaas/data/sentiment/)\n",
    "\n",
    "> Maas, Andrew L., et al. [Learning Word Vectors for Sentiment Analysis](http://ai.stanford.edu/~amaas/data/sentiment/). In _Proceedings of the 49th Annual Meeting of the Association for Computational Linguistics: Human Language Technologies_. Association for Computational Linguistics, 2011."
   ]
  },
  {
   "cell_type": "code",
   "execution_count": 1,
   "metadata": {},
   "outputs": [
    {
     "name": "stdout",
     "output_type": "stream",
     "text": [
      "mkdir: cannot create directory ‘../data’: File exists\n",
      "--2019-05-27 08:35:19--  http://ai.stanford.edu/~amaas/data/sentiment/aclImdb_v1.tar.gz\n",
      "Resolving ai.stanford.edu (ai.stanford.edu)... 171.64.68.10\n",
      "Connecting to ai.stanford.edu (ai.stanford.edu)|171.64.68.10|:80... connected.\n",
      "HTTP request sent, awaiting response... 200 OK\n",
      "Length: 84125825 (80M) [application/x-gzip]\n",
      "Saving to: ‘../data/aclImdb_v1.tar.gz’\n",
      "\n",
      "../data/aclImdb_v1. 100%[===================>]  80.23M  2.48MB/s    in 36s     \n",
      "\n",
      "2019-05-27 08:35:56 (2.21 MB/s) - ‘../data/aclImdb_v1.tar.gz’ saved [84125825/84125825]\n",
      "\n"
     ]
    }
   ],
   "source": [
    "%mkdir ../data\n",
    "!wget -O ../data/aclImdb_v1.tar.gz http://ai.stanford.edu/~amaas/data/sentiment/aclImdb_v1.tar.gz\n",
    "!tar -zxf ../data/aclImdb_v1.tar.gz -C ../data"
   ]
  },
  {
   "cell_type": "markdown",
   "metadata": {},
   "source": [
    "## Step 2: Preparing and Processing the data\n",
    "\n",
    "Also, as in the XGBoost notebook, we will be doing some initial data processing. The first few steps are the same as in the XGBoost example. To begin with, we will read in each of the reviews and combine them into a single input structure. Then, we will split the dataset into a training set and a testing set."
   ]
  },
  {
   "cell_type": "code",
   "execution_count": 2,
   "metadata": {},
   "outputs": [],
   "source": [
    "import os\n",
    "import glob\n",
    "\n",
    "def read_imdb_data(data_dir='../data/aclImdb'):\n",
    "    data = {}\n",
    "    labels = {}\n",
    "    \n",
    "    for data_type in ['train', 'test']:\n",
    "        data[data_type] = {}\n",
    "        labels[data_type] = {}\n",
    "        \n",
    "        for sentiment in ['pos', 'neg']:\n",
    "            data[data_type][sentiment] = []\n",
    "            labels[data_type][sentiment] = []\n",
    "            \n",
    "            path = os.path.join(data_dir, data_type, sentiment, '*.txt')\n",
    "            print(\"path is:\", path)\n",
    "            files = glob.glob(path)\n",
    "            \n",
    "            for f in files:\n",
    "                with open(f) as review:\n",
    "                    data[data_type][sentiment].append(review.read())\n",
    "                    # Here we represent a positive review by '1' and a negative review by '0'\n",
    "                    labels[data_type][sentiment].append(1 if sentiment == 'pos' else 0)\n",
    "                    \n",
    "            assert len(data[data_type][sentiment]) == len(labels[data_type][sentiment]), \\\n",
    "                    \"{}/{} data size does not match labels size\".format(data_type, sentiment)\n",
    "                \n",
    "    return data, labels"
   ]
  },
  {
   "cell_type": "code",
   "execution_count": 3,
   "metadata": {},
   "outputs": [
    {
     "name": "stdout",
     "output_type": "stream",
     "text": [
      "path is: ../data/aclImdb/train/pos/*.txt\n",
      "path is: ../data/aclImdb/train/neg/*.txt\n",
      "path is: ../data/aclImdb/test/pos/*.txt\n",
      "path is: ../data/aclImdb/test/neg/*.txt\n",
      "IMDB reviews: train = 12500 pos / 12500 neg, test = 12500 pos / 12500 neg\n"
     ]
    }
   ],
   "source": [
    "data, labels = read_imdb_data()\n",
    "print(\"IMDB reviews: train = {} pos / {} neg, test = {} pos / {} neg\".format(\n",
    "            len(data['train']['pos']), len(data['train']['neg']),\n",
    "            len(data['test']['pos']), len(data['test']['neg'])))"
   ]
  },
  {
   "cell_type": "markdown",
   "metadata": {},
   "source": [
    "Now that we've read the raw training and testing data from the downloaded dataset, we will combine the positive and negative reviews and shuffle the resulting records."
   ]
  },
  {
   "cell_type": "code",
   "execution_count": 4,
   "metadata": {},
   "outputs": [],
   "source": [
    "from sklearn.utils import shuffle\n",
    "\n",
    "def prepare_imdb_data(data, labels):\n",
    "    \"\"\"Prepare training and test sets from IMDb movie reviews.\"\"\"\n",
    "    \n",
    "    #Combine positive and negative reviews and labels\n",
    "    data_train = data['train']['pos'] + data['train']['neg']\n",
    "    data_test = data['test']['pos'] + data['test']['neg']\n",
    "    labels_train = labels['train']['pos'] + labels['train']['neg']\n",
    "    labels_test = labels['test']['pos'] + labels['test']['neg']\n",
    "    \n",
    "    #Shuffle reviews and corresponding labels within training and test sets\n",
    "    data_train, labels_train = shuffle(data_train, labels_train)\n",
    "    data_test, labels_test = shuffle(data_test, labels_test)\n",
    "    \n",
    "    # Return a unified training data, test data, training labels, test labets\n",
    "    return data_train, data_test, labels_train, labels_test"
   ]
  },
  {
   "cell_type": "code",
   "execution_count": 63,
   "metadata": {},
   "outputs": [
    {
     "name": "stdout",
     "output_type": "stream",
     "text": [
      "IMDb reviews (combined): train = 25000, test = 25000\n"
     ]
    }
   ],
   "source": [
    "train_X, test_X, train_y, test_y = prepare_imdb_data(data, labels)\n",
    "print(\"IMDb reviews (combined): train = {}, test = {}\".format(len(train_X), len(test_X)))"
   ]
  },
  {
   "cell_type": "markdown",
   "metadata": {},
   "source": [
    "Now that we have our training and testing sets unified and prepared, we should do a quick check and see an example of the data our model will be trained on. This is generally a good idea as it allows you to see how each of the further processing steps affects the reviews and it also ensures that the data has been loaded correctly."
   ]
  },
  {
   "cell_type": "code",
   "execution_count": 64,
   "metadata": {},
   "outputs": [
    {
     "name": "stdout",
     "output_type": "stream",
     "text": [
      "Review:  I thought this movie was excellent,for the fact that Corrine and Sean are newcomers to the business.It was packed with action and a little romance,but there were some points when Corrine didn't speak very clearly (when she threatened Sean with the gun) and she clenched her teeth...maybe she was supposed to?I think the roles of Joseph and Sonny were portrayed very well,and there was an obvious contrast.Also,because i watched next action star,i am certain that Corrine and Sean did their own stunts,which were performed very well.I am looking forward to another movie by the pair,as they make a great team,or perhaps a sequel to bet your life-possibly called 'making it big in the big apple',it could this time be about Carmen..Bet your life is EXCELLENT!\n",
      "\n",
      "Sentiment:  1\n"
     ]
    }
   ],
   "source": [
    "print(\"Review: \", train_X[100])\n",
    "print(\"\\nSentiment: \", train_y[100])"
   ]
  },
  {
   "cell_type": "markdown",
   "metadata": {},
   "source": [
    "The first step in processing the reviews is to make sure that any html tags that appear should be removed. In addition we wish to tokenize our input, that way words such as *entertained* and *entertaining* are considered the same with regard to sentiment analysis."
   ]
  },
  {
   "cell_type": "code",
   "execution_count": 65,
   "metadata": {},
   "outputs": [],
   "source": [
    "import nltk\n",
    "from nltk.corpus import stopwords\n",
    "from nltk.stem.porter import *\n",
    "\n",
    "import re\n",
    "from bs4 import BeautifulSoup\n",
    "\n",
    "def review_to_words(review):\n",
    "    nltk.download(\"stopwords\", quiet=True)\n",
    "    stemmer = PorterStemmer()\n",
    "    \n",
    "    text = BeautifulSoup(review, \"html.parser\").get_text() # Remove HTML tags\n",
    "    text = re.sub(r\"[^a-zA-Z0-9]\", \" \", text.lower()) # Convert to lower case\n",
    "    words = text.split() # Split string into words\n",
    "    words = [w for w in words if w not in stopwords.words(\"english\")] # Remove stopwords\n",
    "    words = [PorterStemmer().stem(w) for w in words] # stem\n",
    "    \n",
    "    return words"
   ]
  },
  {
   "cell_type": "markdown",
   "metadata": {},
   "source": [
    "The `review_to_words` method defined above uses `BeautifulSoup` to remove any html tags that appear and uses the `nltk` package to tokenize the reviews. As a check to ensure we know how everything is working, try applying `review_to_words` to one of the reviews in the training set."
   ]
  },
  {
   "cell_type": "code",
   "execution_count": 66,
   "metadata": {},
   "outputs": [
    {
     "data": {
      "text/plain": [
       "['thought',\n",
       " 'movi',\n",
       " 'excel',\n",
       " 'fact',\n",
       " 'corrin',\n",
       " 'sean',\n",
       " 'newcom',\n",
       " 'busi',\n",
       " 'pack',\n",
       " 'action',\n",
       " 'littl',\n",
       " 'romanc',\n",
       " 'point',\n",
       " 'corrin',\n",
       " 'speak',\n",
       " 'clearli',\n",
       " 'threaten',\n",
       " 'sean',\n",
       " 'gun',\n",
       " 'clench',\n",
       " 'teeth',\n",
       " 'mayb',\n",
       " 'suppos',\n",
       " 'think',\n",
       " 'role',\n",
       " 'joseph',\n",
       " 'sonni',\n",
       " 'portray',\n",
       " 'well',\n",
       " 'obviou',\n",
       " 'contrast',\n",
       " 'also',\n",
       " 'watch',\n",
       " 'next',\n",
       " 'action',\n",
       " 'star',\n",
       " 'certain',\n",
       " 'corrin',\n",
       " 'sean',\n",
       " 'stunt',\n",
       " 'perform',\n",
       " 'well',\n",
       " 'look',\n",
       " 'forward',\n",
       " 'anoth',\n",
       " 'movi',\n",
       " 'pair',\n",
       " 'make',\n",
       " 'great',\n",
       " 'team',\n",
       " 'perhap',\n",
       " 'sequel',\n",
       " 'bet',\n",
       " 'life',\n",
       " 'possibl',\n",
       " 'call',\n",
       " 'make',\n",
       " 'big',\n",
       " 'big',\n",
       " 'appl',\n",
       " 'could',\n",
       " 'time',\n",
       " 'carmen',\n",
       " 'bet',\n",
       " 'life',\n",
       " 'excel']"
      ]
     },
     "execution_count": 66,
     "metadata": {},
     "output_type": "execute_result"
    }
   ],
   "source": [
    "# TODO: Apply review_to_words to a review (train_X[100] or any other review)\n",
    "review_to_words(train_X[100])"
   ]
  },
  {
   "cell_type": "markdown",
   "metadata": {},
   "source": [
    "**Question:** Above we mentioned that `review_to_words` method removes html formatting and allows us to tokenize the words found in a review, for example, converting *entertained* and *entertaining* into *entertain* so that they are treated as though they are the same word. What else, if anything, does this method do to the input?"
   ]
  },
  {
   "cell_type": "markdown",
   "metadata": {},
   "source": [
    "**Answer:**\n",
    "- Removing all HTML tags with BeautifulSoup\n",
    "- Converting all text to lower case\n",
    "- Removing all stop words such as \"he\", \"the\", etc. "
   ]
  },
  {
   "cell_type": "markdown",
   "metadata": {},
   "source": [
    "The method below applies the `review_to_words` method to each of the reviews in the training and testing datasets. In addition it caches the results. This is because performing this processing step can take a long time. This way if you are unable to complete the notebook in the current session, you can come back without needing to process the data a second time."
   ]
  },
  {
   "cell_type": "code",
   "execution_count": 67,
   "metadata": {},
   "outputs": [],
   "source": [
    "import pickle\n",
    "\n",
    "cache_dir = os.path.join(\"../cache\", \"sentiment_analysis\")  # where to store cache files\n",
    "\n",
    "os.makedirs(cache_dir, exist_ok=True)  # ensure cache directory exists\n",
    "\n",
    "def preprocess_data(data_train, data_test, labels_train, labels_test,\n",
    "                    cache_dir=cache_dir, cache_file=\"preprocessed_data.pkl\"):\n",
    "    \"\"\"Convert each review to words; read from cache if available.\"\"\"\n",
    "\n",
    "    # If cache_file is not None, try to read from it first\n",
    "    cache_data = None\n",
    "    if cache_file is not None:\n",
    "        try:\n",
    "            with open(os.path.join(cache_dir, cache_file), \"rb\") as f:\n",
    "                cache_data = pickle.load(f)\n",
    "            print(\"Read preprocessed data from cache file:\", cache_file)\n",
    "        except:\n",
    "            pass  # unable to read from cache, but that's okay\n",
    "    \n",
    "    # If cache is missing, then do the heavy lifting\n",
    "    if cache_data is None:\n",
    "        # Preprocess training and test data to obtain words for each review\n",
    "        # words_train = list(map(review_to_words, data_train))\n",
    "        # words_test = list(map(review_to_words, data_test))\n",
    "        words_train = [review_to_words(review) for review in data_train]\n",
    "        words_test = [review_to_words(review) for review in data_test]\n",
    "        \n",
    "        # Write to cache file for future runs\n",
    "        if cache_file is not None:\n",
    "            cache_data = dict(words_train=words_train, words_test=words_test,\n",
    "                              labels_train=labels_train, labels_test=labels_test)\n",
    "            with open(os.path.join(cache_dir, cache_file), \"wb\") as f:\n",
    "                pickle.dump(cache_data, f)\n",
    "            print(\"Wrote preprocessed data to cache file:\", cache_file)\n",
    "    else:\n",
    "        # Unpack data loaded from cache file\n",
    "        words_train, words_test, labels_train, labels_test = (cache_data['words_train'],\n",
    "                cache_data['words_test'], cache_data['labels_train'], cache_data['labels_test'])\n",
    "    \n",
    "    return words_train, words_test, labels_train, labels_test"
   ]
  },
  {
   "cell_type": "code",
   "execution_count": 68,
   "metadata": {},
   "outputs": [
    {
     "name": "stdout",
     "output_type": "stream",
     "text": [
      "Read preprocessed data from cache file: preprocessed_data.pkl\n"
     ]
    }
   ],
   "source": [
    "# Preprocess data\n",
    "train_X, test_X, train_y, test_y = preprocess_data(train_X, test_X, train_y, test_y)"
   ]
  },
  {
   "cell_type": "markdown",
   "metadata": {},
   "source": [
    "## Transform the data\n",
    "\n",
    "In the XGBoost notebook we transformed the data from its word representation to a bag-of-words feature representation. For the model we are going to construct in this notebook we will construct a feature representation which is very similar. To start, we will represent each word as an integer. Of course, some of the words that appear in the reviews occur very infrequently and so likely don't contain much information for the purposes of sentiment analysis. The way we will deal with this problem is that we will fix the size of our working vocabulary and we will only include the words that appear most frequently. We will then combine all of the infrequent words into a single category and, in our case, we will label it as `1`.\n",
    "\n",
    "Since we will be using a recurrent neural network, it will be convenient if the length of each review is the same. To do this, we will fix a size for our reviews and then pad short reviews with the category 'no word' (which we will label `0`) and truncate long reviews."
   ]
  },
  {
   "cell_type": "markdown",
   "metadata": {},
   "source": [
    "### (TODO) Create a word dictionary\n",
    "\n",
    "To begin with, we need to construct a way to map words that appear in the reviews to integers. Here we fix the size of our vocabulary (including the 'no word' and 'infrequent' categories) to be `5000` but you may wish to change this to see how it affects the model.\n",
    "\n",
    "> **TODO:** Complete the implementation for the `build_dict()` method below. Note that even though the vocab_size is set to `5000`, we only want to construct a mapping for the most frequently appearing `4998` words. This is because we want to reserve the special labels `0` for 'no word' and `1` for 'infrequent word'."
   ]
  },
  {
   "cell_type": "code",
   "execution_count": 69,
   "metadata": {},
   "outputs": [],
   "source": [
    "import numpy as np\n",
    "from collections import Counter\n",
    "\n",
    "def build_dict(data, vocab_size = 5000):\n",
    "    \"\"\"Construct and return a dictionary mapping each of the most frequently appearing words to a unique integer.\"\"\"\n",
    "    \n",
    "    # TODO: Determine how often each word appears in `data`. Note that `data` is a list of sentences and that a\n",
    "    #       sentence is a list of words.\n",
    "    \n",
    "    # I hope this is not too lazy to use Counter ...\n",
    "    word_count = Counter()\n",
    "    for review in data:\n",
    "        for word_in_review in review:\n",
    "            word_count[word_in_review] += 1\n",
    "    # print(word_count)\n",
    "    \n",
    "    # A dict storing the words that appear in the reviews along with how often they occur\n",
    "    # TODO: Sort the words found in `data` so that sorted_words[0] is the most frequently appearing word and\n",
    "    #       sorted_words[-1] is the least frequently appearing word.\n",
    "    sorted_words = sorted(word_count, key=word_count.get, reverse=True)\n",
    "    # print(sorted_words)\n",
    "    \n",
    "    word_dict = {} # This is what we are building, a dictionary that translates words into integers\n",
    "    for idx, word in enumerate(sorted_words[:vocab_size - 2]): # The -2 is so that we save room for the 'no word'\n",
    "        word_dict[word] = idx                                  # 'infrequent' labels\n",
    "    print(word_dict)  \n",
    "    \n",
    "    return word_dict"
   ]
  },
  {
   "cell_type": "code",
   "execution_count": 70,
   "metadata": {},
   "outputs": [
    {
     "name": "stdout",
     "output_type": "stream",
     "text": [
      "{'movi': 0, 'film': 1, 'one': 2, 'like': 3, 'time': 4, 'good': 5, 'make': 6, 'charact': 7, 'get': 8, 'see': 9, 'watch': 10, 'stori': 11, 'even': 12, 'would': 13, 'realli': 14, 'well': 15, 'scene': 16, 'look': 17, 'show': 18, 'much': 19, 'end': 20, 'peopl': 21, 'bad': 22, 'go': 23, 'great': 24, 'also': 25, 'first': 26, 'love': 27, 'think': 28, 'way': 29, 'act': 30, 'play': 31, 'made': 32, 'thing': 33, 'could': 34, 'know': 35, 'say': 36, 'seem': 37, 'work': 38, 'plot': 39, 'two': 40, 'actor': 41, 'year': 42, 'come': 43, 'mani': 44, 'seen': 45, 'take': 46, 'want': 47, 'life': 48, 'never': 49, 'littl': 50, 'best': 51, 'tri': 52, 'man': 53, 'ever': 54, 'give': 55, 'better': 56, 'still': 57, 'perform': 58, 'find': 59, 'feel': 60, 'part': 61, 'back': 62, 'use': 63, 'someth': 64, 'director': 65, 'actual': 66, 'interest': 67, 'lot': 68, 'real': 69, 'old': 70, 'cast': 71, 'though': 72, 'live': 73, 'star': 74, 'enjoy': 75, 'guy': 76, 'anoth': 77, 'new': 78, 'role': 79, 'noth': 80, '10': 81, 'funni': 82, 'music': 83, 'point': 84, 'start': 85, 'set': 86, 'girl': 87, 'origin': 88, 'day': 89, 'world': 90, 'everi': 91, 'believ': 92, 'turn': 93, 'quit': 94, 'us': 95, 'direct': 96, 'thought': 97, 'fact': 98, 'minut': 99, 'horror': 100, 'kill': 101, 'action': 102, 'comedi': 103, 'pretti': 104, 'young': 105, 'wonder': 106, 'happen': 107, 'around': 108, 'got': 109, 'effect': 110, 'right': 111, 'long': 112, 'howev': 113, 'big': 114, 'line': 115, 'famili': 116, 'enough': 117, 'seri': 118, 'may': 119, 'need': 120, 'fan': 121, 'bit': 122, 'script': 123, 'beauti': 124, 'person': 125, 'becom': 126, 'without': 127, 'must': 128, 'alway': 129, 'friend': 130, 'tell': 131, 'reason': 132, 'saw': 133, 'last': 134, 'final': 135, 'kid': 136, 'almost': 137, 'put': 138, 'least': 139, 'sure': 140, 'done': 141, 'whole': 142, 'place': 143, 'complet': 144, 'kind': 145, 'expect': 146, 'differ': 147, 'shot': 148, 'far': 149, 'mean': 150, 'anyth': 151, 'book': 152, 'laugh': 153, 'might': 154, 'name': 155, 'sinc': 156, 'begin': 157, '2': 158, 'probabl': 159, 'woman': 160, 'help': 161, 'entertain': 162, 'let': 163, 'screen': 164, 'call': 165, 'tv': 166, 'moment': 167, 'away': 168, 'read': 169, 'yet': 170, 'rather': 171, 'worst': 172, 'run': 173, 'fun': 174, 'lead': 175, 'hard': 176, 'audienc': 177, 'idea': 178, 'anyon': 179, 'episod': 180, 'american': 181, 'found': 182, 'appear': 183, 'bore': 184, 'especi': 185, 'although': 186, 'hope': 187, 'keep': 188, 'cours': 189, 'anim': 190, 'job': 191, 'goe': 192, 'move': 193, 'sens': 194, 'dvd': 195, 'version': 196, 'war': 197, 'money': 198, 'someon': 199, 'mind': 200, 'mayb': 201, 'problem': 202, 'true': 203, 'hous': 204, 'everyth': 205, 'nice': 206, 'second': 207, 'rate': 208, 'three': 209, 'night': 210, 'face': 211, 'follow': 212, 'recommend': 213, 'product': 214, 'main': 215, 'worth': 216, 'leav': 217, 'human': 218, 'special': 219, 'excel': 220, 'togeth': 221, 'wast': 222, 'sound': 223, 'everyon': 224, 'john': 225, 'hand': 226, '1': 227, 'father': 228, 'later': 229, 'eye': 230, 'said': 231, 'view': 232, 'instead': 233, 'review': 234, 'boy': 235, 'high': 236, 'hour': 237, 'miss': 238, 'talk': 239, 'classic': 240, 'wife': 241, 'understand': 242, 'left': 243, 'care': 244, 'black': 245, 'death': 246, 'open': 247, 'murder': 248, 'write': 249, 'half': 250, 'head': 251, 'rememb': 252, 'chang': 253, 'viewer': 254, 'fight': 255, 'gener': 256, 'surpris': 257, 'includ': 258, 'short': 259, 'die': 260, 'fall': 261, 'less': 262, 'els': 263, 'entir': 264, 'piec': 265, 'involv': 266, 'pictur': 267, 'simpli': 268, 'top': 269, 'home': 270, 'power': 271, 'total': 272, 'usual': 273, 'budget': 274, 'attempt': 275, 'suppos': 276, 'releas': 277, 'hollywood': 278, 'terribl': 279, 'song': 280, 'men': 281, 'possibl': 282, 'featur': 283, 'portray': 284, 'disappoint': 285, 'poor': 286, '3': 287, 'coupl': 288, 'stupid': 289, 'camera': 290, 'dead': 291, 'wrong': 292, 'low': 293, 'produc': 294, 'video': 295, 'either': 296, 'aw': 297, 'definit': 298, 'except': 299, 'rest': 300, 'given': 301, 'absolut': 302, 'women': 303, 'lack': 304, 'word': 305, 'writer': 306, 'titl': 307, 'talent': 308, 'decid': 309, 'full': 310, 'perfect': 311, 'along': 312, 'style': 313, 'close': 314, 'truli': 315, 'school': 316, 'emot': 317, 'save': 318, 'age': 319, 'sex': 320, 'next': 321, 'bring': 322, 'mr': 323, 'case': 324, 'killer': 325, 'heart': 326, 'comment': 327, 'sort': 328, 'creat': 329, 'perhap': 330, 'came': 331, 'brother': 332, 'sever': 333, 'joke': 334, 'art': 335, 'dialogu': 336, 'game': 337, 'small': 338, 'base': 339, 'flick': 340, 'written': 341, 'sequenc': 342, 'meet': 343, 'earli': 344, 'often': 345, 'other': 346, 'mother': 347, 'develop': 348, 'humor': 349, 'actress': 350, 'consid': 351, 'dark': 352, 'guess': 353, 'amaz': 354, 'unfortun': 355, 'light': 356, 'lost': 357, 'exampl': 358, 'cinema': 359, 'drama': 360, 'ye': 361, 'white': 362, 'experi': 363, 'imagin': 364, 'mention': 365, 'stop': 366, 'natur': 367, 'forc': 368, 'manag': 369, 'felt': 370, 'present': 371, 'cut': 372, 'children': 373, 'fail': 374, 'son': 375, 'car': 376, 'qualiti': 377, 'support': 378, 'ask': 379, 'hit': 380, 'side': 381, 'voic': 382, 'extrem': 383, 'impress': 384, 'wors': 385, 'evil': 386, 'stand': 387, 'went': 388, 'certainli': 389, 'basic': 390, 'oh': 391, 'overal': 392, 'favorit': 393, 'horribl': 394, 'mysteri': 395, 'number': 396, 'type': 397, 'danc': 398, 'wait': 399, 'hero': 400, 'alreadi': 401, '5': 402, 'learn': 403, 'matter': 404, '4': 405, 'michael': 406, 'genr': 407, 'fine': 408, 'despit': 409, 'throughout': 410, 'walk': 411, 'success': 412, 'histori': 413, 'question': 414, 'zombi': 415, 'town': 416, 'realiz': 417, 'relationship': 418, 'child': 419, 'past': 420, 'daughter': 421, 'late': 422, 'b': 423, 'wish': 424, 'hate': 425, 'credit': 426, 'event': 427, 'theme': 428, 'touch': 429, 'citi': 430, 'today': 431, 'sometim': 432, 'behind': 433, 'god': 434, 'twist': 435, 'sit': 436, 'stay': 437, 'annoy': 438, 'deal': 439, 'abl': 440, 'rent': 441, 'pleas': 442, 'edit': 443, 'blood': 444, 'deserv': 445, 'anyway': 446, 'comic': 447, 'appar': 448, 'soon': 449, 'gave': 450, 'etc': 451, 'level': 452, 'slow': 453, 'chanc': 454, 'score': 455, 'bodi': 456, 'brilliant': 457, 'incred': 458, 'figur': 459, 'situat': 460, 'self': 461, 'major': 462, 'stuff': 463, 'decent': 464, 'element': 465, 'dream': 466, 'return': 467, 'obvious': 468, 'continu': 469, 'order': 470, 'pace': 471, 'ridicul': 472, 'happi': 473, 'add': 474, 'highli': 475, 'group': 476, 'thank': 477, 'ladi': 478, 'novel': 479, 'pain': 480, 'speak': 481, 'career': 482, 'shoot': 483, 'strang': 484, 'heard': 485, 'sad': 486, 'husband': 487, 'polic': 488, 'import': 489, 'break': 490, 'took': 491, 'cannot': 492, 'strong': 493, 'predict': 494, 'robert': 495, 'violenc': 496, 'hilari': 497, 'recent': 498, 'countri': 499, 'known': 500, 'particularli': 501, 'pick': 502, 'documentari': 503, 'season': 504, 'critic': 505, 'jame': 506, 'compar': 507, 'alon': 508, 'obviou': 509, 'told': 510, 'state': 511, 'rock': 512, 'visual': 513, 'exist': 514, 'theater': 515, 'offer': 516, 'opinion': 517, 'gore': 518, 'crap': 519, 'hold': 520, 'result': 521, 'hear': 522, 'realiti': 523, 'room': 524, 'clich': 525, 'effort': 526, 'thriller': 527, 'caus': 528, 'sequel': 529, 'explain': 530, 'serious': 531, 'king': 532, 'local': 533, 'ago': 534, 'none': 535, 'hell': 536, 'note': 537, 'allow': 538, 'david': 539, 'sister': 540, 'simpl': 541, 'femal': 542, 'deliv': 543, 'ok': 544, 'convinc': 545, 'class': 546, 'check': 547, 'suspens': 548, 'win': 549, 'oscar': 550, 'buy': 551, 'huge': 552, 'valu': 553, 'sexual': 554, 'cool': 555, 'scari': 556, 'excit': 557, 'similar': 558, 'provid': 559, 'apart': 560, 'exactli': 561, 'avoid': 562, 'shown': 563, 'seriou': 564, 'english': 565, 'taken': 566, 'whose': 567, 'cinematographi': 568, 'shock': 569, 'polit': 570, 'spoiler': 571, 'offic': 572, 'across': 573, 'middl': 574, 'pass': 575, 'street': 576, 'messag': 577, 'silli': 578, 'somewhat': 579, 'charm': 580, 'modern': 581, 'filmmak': 582, 'confus': 583, 'form': 584, 'tale': 585, 'singl': 586, 'jack': 587, 'mostli': 588, 'attent': 589, 'william': 590, 'carri': 591, 'sing': 592, 'five': 593, 'subject': 594, 'prove': 595, 'richard': 596, 'team': 597, 'stage': 598, 'unlik': 599, 'cop': 600, 'georg': 601, 'televis': 602, 'monster': 603, 'earth': 604, 'villain': 605, 'cover': 606, 'pay': 607, 'marri': 608, 'toward': 609, 'build': 610, 'pull': 611, 'parent': 612, 'due': 613, 'respect': 614, 'fill': 615, 'dialog': 616, 'four': 617, 'remind': 618, 'futur': 619, 'typic': 620, 'weak': 621, '7': 622, 'cheap': 623, 'intellig': 624, 'british': 625, 'atmospher': 626, 'clearli': 627, '80': 628, 'non': 629, 'paul': 630, 'dog': 631, 'artist': 632, 'fast': 633, 'knew': 634, '8': 635, 'crime': 636, 'easili': 637, 'escap': 638, 'doubt': 639, 'adult': 640, 'detail': 641, 'date': 642, 'romant': 643, 'fire': 644, 'member': 645, 'drive': 646, 'gun': 647, 'straight': 648, 'fit': 649, 'beyond': 650, 'attack': 651, 'imag': 652, 'upon': 653, 'posit': 654, 'whether': 655, 'fantast': 656, 'peter': 657, 'captur': 658, 'aspect': 659, 'appreci': 660, 'ten': 661, 'plan': 662, 'discov': 663, 'remain': 664, 'period': 665, 'near': 666, 'realist': 667, 'air': 668, 'mark': 669, 'red': 670, 'dull': 671, 'adapt': 672, 'within': 673, 'spend': 674, 'lose': 675, 'color': 676, 'materi': 677, 'chase': 678, 'mari': 679, 'storylin': 680, 'forget': 681, 'bunch': 682, 'clear': 683, 'lee': 684, 'victim': 685, 'nearli': 686, 'box': 687, 'york': 688, 'inspir': 689, 'match': 690, 'finish': 691, 'mess': 692, 'standard': 693, 'easi': 694, 'truth': 695, 'suffer': 696, 'busi': 697, 'dramat': 698, 'space': 699, 'bill': 700, 'western': 701, 'e': 702, 'list': 703, 'battl': 704, 'notic': 705, 'de': 706, 'french': 707, 'ad': 708, '9': 709, 'tom': 710, 'larg': 711, 'among': 712, 'eventu': 713, 'accept': 714, 'train': 715, 'agre': 716, 'soundtrack': 717, 'spirit': 718, 'third': 719, 'teenag': 720, 'soldier': 721, 'adventur': 722, 'sorri': 723, 'famou': 724, 'drug': 725, 'suggest': 726, 'normal': 727, 'cri': 728, 'babi': 729, 'troubl': 730, 'ultim': 731, 'contain': 732, 'certain': 733, 'cultur': 734, 'romanc': 735, 'rare': 736, 'lame': 737, 'somehow': 738, 'mix': 739, 'disney': 740, 'gone': 741, 'cartoon': 742, 'student': 743, 'reveal': 744, 'fear': 745, 'kept': 746, 'suck': 747, 'attract': 748, 'appeal': 749, 'premis': 750, 'design': 751, 'greatest': 752, 'secret': 753, 'shame': 754, 'throw': 755, 'scare': 756, 'copi': 757, 'wit': 758, 'admit': 759, 'america': 760, 'particular': 761, 'brought': 762, 'relat': 763, 'screenplay': 764, 'whatev': 765, 'pure': 766, '70': 767, 'averag': 768, 'harri': 769, 'master': 770, 'describ': 771, 'treat': 772, 'male': 773, '20': 774, 'fantasi': 775, 'issu': 776, 'warn': 777, 'inde': 778, 'forward': 779, 'background': 780, 'free': 781, 'project': 782, 'memor': 783, 'japanes': 784, 'poorli': 785, 'award': 786, 'locat': 787, 'potenti': 788, 'amus': 789, 'struggl': 790, 'weird': 791, 'magic': 792, 'societi': 793, 'okay': 794, 'accent': 795, 'doctor': 796, 'imdb': 797, 'hot': 798, 'water': 799, 'dr': 800, 'alien': 801, '30': 802, 'express': 803, 'odd': 804, 'choic': 805, 'crazi': 806, 'studio': 807, 'fiction': 808, 'becam': 809, 'control': 810, 'masterpiec': 811, 'difficult': 812, 'fli': 813, 'joe': 814, 'scream': 815, 'costum': 816, 'lover': 817, 'uniqu': 818, 'refer': 819, 'remak': 820, 'vampir': 821, 'girlfriend': 822, 'prison': 823, 'execut': 824, 'wear': 825, 'jump': 826, 'unless': 827, 'wood': 828, 'creepi': 829, 'cheesi': 830, 'superb': 831, 'otherwis': 832, 'parti': 833, 'roll': 834, 'ghost': 835, 'public': 836, 'mad': 837, 'depict': 838, 'earlier': 839, 'jane': 840, 'moral': 841, 'badli': 842, 'week': 843, 'dumb': 844, 'fi': 845, 'grow': 846, 'flaw': 847, 'deep': 848, 'sci': 849, 'maker': 850, 'cat': 851, 'footag': 852, 'older': 853, 'connect': 854, 'plenti': 855, 'bother': 856, 'outsid': 857, 'stick': 858, 'gay': 859, 'catch': 860, 'plu': 861, 'co': 862, 'popular': 863, 'equal': 864, 'social': 865, 'disturb': 866, 'quickli': 867, 'perfectli': 868, 'dress': 869, '90': 870, 'era': 871, 'mistak': 872, 'lie': 873, 'previou': 874, 'ride': 875, 'combin': 876, 'concept': 877, 'band': 878, 'rich': 879, 'answer': 880, 'surviv': 881, 'front': 882, 'sweet': 883, 'christma': 884, 'insid': 885, 'concern': 886, 'bare': 887, 'eat': 888, 'ben': 889, 'listen': 890, 'beat': 891, 'c': 892, 'term': 893, 'serv': 894, 'la': 895, 'meant': 896, 'german': 897, 'stereotyp': 898, 'hardli': 899, 'innoc': 900, 'law': 901, 'desper': 902, 'promis': 903, 'memori': 904, 'intent': 905, 'cute': 906, 'steal': 907, 'inform': 908, 'variou': 909, 'brain': 910, 'post': 911, 'tone': 912, 'island': 913, 'amount': 914, 'nuditi': 915, 'compani': 916, 'track': 917, 'claim': 918, 'store': 919, 'hair': 920, '50': 921, 'flat': 922, 'univers': 923, 'land': 924, 'fairli': 925, 'kick': 926, 'danger': 927, 'scott': 928, 'player': 929, 'plain': 930, 'step': 931, 'crew': 932, 'toni': 933, 'share': 934, 'tast': 935, 'centuri': 936, 'engag': 937, 'achiev': 938, 'travel': 939, 'cold': 940, 'rip': 941, 'record': 942, 'suit': 943, 'manner': 944, 'sadli': 945, 'wrote': 946, 'tension': 947, 'spot': 948, 'intens': 949, 'fascin': 950, 'familiar': 951, 'remark': 952, 'burn': 953, 'depth': 954, 'destroy': 955, 'histor': 956, 'sleep': 957, 'purpos': 958, 'languag': 959, 'ignor': 960, 'ruin': 961, 'delight': 962, 'unbeliev': 963, 'italian': 964, 'abil': 965, 'soul': 966, 'collect': 967, 'clever': 968, 'detect': 969, 'violent': 970, 'rape': 971, 'reach': 972, 'door': 973, 'trash': 974, 'liter': 975, 'scienc': 976, 'caught': 977, 'commun': 978, 'reveng': 979, 'creatur': 980, 'approach': 981, 'trip': 982, 'intrigu': 983, 'fashion': 984, 'introduc': 985, 'skill': 986, 'paint': 987, 'complex': 988, 'channel': 989, 'camp': 990, 'christian': 991, 'hole': 992, 'extra': 993, 'limit': 994, 'ann': 995, 'immedi': 996, 'mental': 997, 'million': 998, 'slightli': 999, '6': 1000, 'mere': 1001, 'comput': 1002, 'conclus': 1003, 'slasher': 1004, 'suddenli': 1005, 'imposs': 1006, 'neither': 1007, 'crimin': 1008, 'teen': 1009, 'physic': 1010, 'spent': 1011, 'nation': 1012, 'respons': 1013, 'planet': 1014, 'fake': 1015, 'receiv': 1016, 'sick': 1017, 'blue': 1018, 'bizarr': 1019, 'embarrass': 1020, 'indian': 1021, 'ring': 1022, '15': 1023, 'pop': 1024, 'drop': 1025, 'drag': 1026, 'haunt': 1027, 'pointless': 1028, 'suspect': 1029, 'search': 1030, 'edg': 1031, 'handl': 1032, 'biggest': 1033, 'common': 1034, 'faith': 1035, 'hurt': 1036, 'arriv': 1037, 'technic': 1038, 'angel': 1039, 'dad': 1040, 'genuin': 1041, 'solid': 1042, 'awesom': 1043, 'f': 1044, 'former': 1045, 'van': 1046, 'focu': 1047, 'colleg': 1048, 'count': 1049, 'heavi': 1050, 'tear': 1051, 'rais': 1052, 'wall': 1053, 'younger': 1054, 'visit': 1055, 'laughabl': 1056, 'sign': 1057, 'excus': 1058, 'fair': 1059, 'cult': 1060, 'motion': 1061, 'key': 1062, 'tough': 1063, 'super': 1064, 'desir': 1065, 'stun': 1066, 'addit': 1067, 'exploit': 1068, 'cloth': 1069, 'smith': 1070, 'tortur': 1071, 'race': 1072, 'davi': 1073, 'cross': 1074, 'author': 1075, 'jim': 1076, 'minor': 1077, 'consist': 1078, 'focus': 1079, 'compel': 1080, 'pathet': 1081, 'chemistri': 1082, 'commit': 1083, 'park': 1084, 'obsess': 1085, 'tradit': 1086, 'frank': 1087, 'grade': 1088, 'asid': 1089, '60': 1090, 'brutal': 1091, 'somewher': 1092, 'steve': 1093, 'grant': 1094, 'depress': 1095, 'opportun': 1096, 'explor': 1097, 'rule': 1098, 'u': 1099, 'honest': 1100, 'besid': 1101, 'dub': 1102, 'anti': 1103, 'trailer': 1104, 'intend': 1105, 'bar': 1106, 'scientist': 1107, 'longer': 1108, 'regard': 1109, 'west': 1110, 'decad': 1111, 'judg': 1112, 'silent': 1113, 'armi': 1114, 'creativ': 1115, 'wild': 1116, 'south': 1117, 'g': 1118, 'stewart': 1119, 'draw': 1120, 'road': 1121, 'govern': 1122, 'ex': 1123, 'boss': 1124, 'practic': 1125, 'club': 1126, 'gang': 1127, 'surprisingli': 1128, 'festiv': 1129, 'motiv': 1130, 'london': 1131, 'redeem': 1132, 'page': 1133, 'green': 1134, 'militari': 1135, 'idiot': 1136, 'aliv': 1137, 'machin': 1138, 'display': 1139, 'thrill': 1140, 'repeat': 1141, 'nobodi': 1142, '100': 1143, 'folk': 1144, 'yeah': 1145, '40': 1146, 'journey': 1147, 'garbag': 1148, 'ground': 1149, 'tire': 1150, 'smile': 1151, 'mood': 1152, 'bought': 1153, 'sam': 1154, 'cost': 1155, 'stone': 1156, 'mouth': 1157, 'noir': 1158, 'agent': 1159, 'terrif': 1160, 'requir': 1161, 'utterli': 1162, 'area': 1163, 'sexi': 1164, 'honestli': 1165, 'report': 1166, 'geniu': 1167, 'glad': 1168, 'humour': 1169, 'enter': 1170, 'investig': 1171, 'serial': 1172, 'narr': 1173, 'passion': 1174, 'occasion': 1175, 'climax': 1176, 'marriag': 1177, 'industri': 1178, 'studi': 1179, 'center': 1180, 'demon': 1181, 'nowher': 1182, 'ship': 1183, 'charli': 1184, 'bear': 1185, 'loos': 1186, 'hors': 1187, 'hang': 1188, 'wow': 1189, 'graphic': 1190, 'admir': 1191, 'giant': 1192, 'send': 1193, 'loud': 1194, 'damn': 1195, 'rel': 1196, 'subtl': 1197, 'nake': 1198, 'profession': 1199, 'blow': 1200, 'bottom': 1201, 'insult': 1202, 'batman': 1203, 'doubl': 1204, 'r': 1205, 'boyfriend': 1206, 'kelli': 1207, 'initi': 1208, 'frame': 1209, 'opera': 1210, 'gem': 1211, 'cinemat': 1212, 'drawn': 1213, 'church': 1214, 'affect': 1215, 'challeng': 1216, 'seek': 1217, 'l': 1218, 'j': 1219, 'nightmar': 1220, 'evid': 1221, 'fulli': 1222, 'arm': 1223, 'conflict': 1224, 'essenti': 1225, 'grace': 1226, 'wind': 1227, 'christoph': 1228, 'henri': 1229, 'assum': 1230, 'witch': 1231, 'narrat': 1232, 'push': 1233, 'hunt': 1234, 'wise': 1235, 'chri': 1236, 'repres': 1237, 'nomin': 1238, 'month': 1239, 'hide': 1240, 'avail': 1241, 'affair': 1242, 'sceneri': 1243, 'smart': 1244, 'thu': 1245, 'bond': 1246, 'justic': 1247, 'interview': 1248, 'flashback': 1249, 'outstand': 1250, 'constantli': 1251, 'presenc': 1252, 'satisfi': 1253, 'central': 1254, 'bed': 1255, 'iron': 1256, 'sell': 1257, 'content': 1258, 'gag': 1259, 'everybodi': 1260, 'slowli': 1261, 'hotel': 1262, 'hire': 1263, 'system': 1264, 'individu': 1265, 'charl': 1266, 'thrown': 1267, 'hey': 1268, 'adam': 1269, 'jone': 1270, 'mediocr': 1271, 'allen': 1272, 'lesson': 1273, 'billi': 1274, 'ray': 1275, 'cameo': 1276, 'photographi': 1277, 'fellow': 1278, 'pari': 1279, 'strike': 1280, 'brief': 1281, 'rise': 1282, 'independ': 1283, 'absurd': 1284, 'neg': 1285, 'phone': 1286, 'impact': 1287, 'model': 1288, 'born': 1289, 'ill': 1290, 'spoil': 1291, 'fresh': 1292, 'angl': 1293, 'abus': 1294, 'likabl': 1295, 'hill': 1296, 'discuss': 1297, 'sight': 1298, 'ahead': 1299, 'photograph': 1300, 'sent': 1301, 'logic': 1302, 'blame': 1303, 'shine': 1304, 'occur': 1305, 'bruce': 1306, 'mainli': 1307, 'forev': 1308, 'commerci': 1309, 'skip': 1310, 'segment': 1311, 'held': 1312, 'teacher': 1313, 'surround': 1314, 'blond': 1315, 'zero': 1316, 'summer': 1317, 'satir': 1318, 'resembl': 1319, 'trap': 1320, 'ball': 1321, 'six': 1322, 'queen': 1323, 'fool': 1324, 'twice': 1325, 'sub': 1326, 'tragedi': 1327, 'pack': 1328, 'reaction': 1329, 'bomb': 1330, 'will': 1331, 'protagonist': 1332, 'hospit': 1333, 'mile': 1334, 'sport': 1335, 'trust': 1336, 'vote': 1337, 'jerri': 1338, 'mom': 1339, 'drink': 1340, 'encount': 1341, 'plane': 1342, 'current': 1343, 'station': 1344, 'al': 1345, 'program': 1346, 'choos': 1347, 'martin': 1348, 'celebr': 1349, 'join': 1350, 'tragic': 1351, 'lord': 1352, 'favourit': 1353, 'field': 1354, 'round': 1355, 'jean': 1356, 'vision': 1357, 'robot': 1358, 'tie': 1359, 'arthur': 1360, 'roger': 1361, 'random': 1362, 'fortun': 1363, 'dread': 1364, 'intern': 1365, 'psycholog': 1366, 'epic': 1367, 'prefer': 1368, 'improv': 1369, 'nonsens': 1370, 'highlight': 1371, 'formula': 1372, 'legend': 1373, 'pleasur': 1374, 'dollar': 1375, 'tape': 1376, '11': 1377, 'wide': 1378, 'object': 1379, 'porn': 1380, 'thin': 1381, 'fox': 1382, 'gorgeou': 1383, 'buddi': 1384, 'ugli': 1385, 'influenc': 1386, 'prepar': 1387, 'ii': 1388, 'nasti': 1389, 'warm': 1390, 'supposedli': 1391, 'reflect': 1392, 'progress': 1393, 'youth': 1394, 'worthi': 1395, 'length': 1396, 'latter': 1397, 'unusu': 1398, 'crash': 1399, 'seven': 1400, 'childhood': 1401, 'superior': 1402, 'shop': 1403, 'theatr': 1404, 'remot': 1405, 'funniest': 1406, 'paid': 1407, 'pilot': 1408, 'disgust': 1409, 'fell': 1410, 'convers': 1411, 'trick': 1412, 'castl': 1413, 'gangster': 1414, 'establish': 1415, 'rob': 1416, 'disast': 1417, 'suicid': 1418, 'heaven': 1419, 'mine': 1420, 'disappear': 1421, 'ident': 1422, 'singer': 1423, 'decis': 1424, 'tend': 1425, 'forgotten': 1426, 'mask': 1427, 'heroin': 1428, 'partner': 1429, 'brian': 1430, 'recogn': 1431, 'alan': 1432, 'desert': 1433, 'ms': 1434, 'stuck': 1435, 'p': 1436, 'thoroughli': 1437, 'sky': 1438, 'replac': 1439, 'accur': 1440, 'market': 1441, 'seemingli': 1442, 'clue': 1443, 'danni': 1444, 'uncl': 1445, 'eddi': 1446, 'commentari': 1447, 'andi': 1448, 'jackson': 1449, 'devil': 1450, 'that': 1451, 'pair': 1452, 'therefor': 1453, 'refus': 1454, 'accid': 1455, 'fault': 1456, 'ed': 1457, 'unit': 1458, 'river': 1459, 'fate': 1460, 'tune': 1461, 'afraid': 1462, 'russian': 1463, 'clean': 1464, 'hidden': 1465, 'stephen': 1466, 'irrit': 1467, 'captain': 1468, 'readi': 1469, 'quick': 1470, 'convey': 1471, 'test': 1472, 'instanc': 1473, 'european': 1474, 'daniel': 1475, 'insan': 1476, 'frustrat': 1477, 'food': 1478, 'chines': 1479, 'wed': 1480, 'rescu': 1481, '1950': 1482, 'dirti': 1483, 'lock': 1484, 'angri': 1485, 'joy': 1486, 'steven': 1487, 'price': 1488, 'cage': 1489, 'bland': 1490, 'anymor': 1491, 'rang': 1492, 'wooden': 1493, 'rush': 1494, 'jason': 1495, 'n': 1496, 'news': 1497, 'board': 1498, '12': 1499, 'twenti': 1500, 'martial': 1501, 'worri': 1502, 'led': 1503, 'transform': 1504, 'hunter': 1505, 'symbol': 1506, 'cgi': 1507, 'onto': 1508, 'sentiment': 1509, 'johnni': 1510, 'invent': 1511, 'x': 1512, 'piti': 1513, 'attitud': 1514, 'process': 1515, 'explan': 1516, 'owner': 1517, 'awar': 1518, 'aim': 1519, 'energi': 1520, 'floor': 1521, 'target': 1522, 'favor': 1523, 'necessari': 1524, 'religi': 1525, 'opposit': 1526, 'insight': 1527, 'chick': 1528, 'window': 1529, 'blind': 1530, 'movement': 1531, 'deepli': 1532, 'possess': 1533, 'research': 1534, 'mountain': 1535, 'comparison': 1536, 'grand': 1537, 'rain': 1538, 'comed': 1539, 'whatsoev': 1540, 'bank': 1541, 'shadow': 1542, 'mid': 1543, 'began': 1544, 'parodi': 1545, 'princ': 1546, 'weapon': 1547, 'taylor': 1548, 'credibl': 1549, 'friendship': 1550, 'pre': 1551, 'dougla': 1552, 'teach': 1553, 'flesh': 1554, 'protect': 1555, 'bloodi': 1556, 'hint': 1557, 'terror': 1558, 'marvel': 1559, 'superman': 1560, 'load': 1561, 'watchabl': 1562, 'drunk': 1563, 'anybodi': 1564, 'leader': 1565, 'accord': 1566, 'freddi': 1567, 'brown': 1568, 'tim': 1569, 'appropri': 1570, 'seat': 1571, 'jeff': 1572, 'hitler': 1573, 'knock': 1574, 'unknown': 1575, 'villag': 1576, 'charg': 1577, 'keaton': 1578, 'england': 1579, 'unnecessari': 1580, 'enemi': 1581, 'media': 1582, 'empti': 1583, 'perspect': 1584, 'utter': 1585, 'craft': 1586, 'strength': 1587, 'wave': 1588, 'dare': 1589, 'buck': 1590, 'contrast': 1591, 'kiss': 1592, 'correct': 1593, 'nativ': 1594, 'ford': 1595, 'magnific': 1596, 'distract': 1597, 'soap': 1598, 'knowledg': 1599, 'chill': 1600, 'nazi': 1601, 'speed': 1602, 'anywher': 1603, 'ice': 1604, 'breath': 1605, 'mission': 1606, 'fred': 1607, '1980': 1608, 'crowd': 1609, 'jr': 1610, 'joan': 1611, 'moon': 1612, '000': 1613, 'kate': 1614, 'soft': 1615, 'frighten': 1616, 'dick': 1617, 'dan': 1618, 'hundr': 1619, 'nick': 1620, 'simon': 1621, 'somebodi': 1622, 'dozen': 1623, 'radio': 1624, 'andrew': 1625, 'thousand': 1626, 'shakespear': 1627, 'loss': 1628, 'academi': 1629, 'quot': 1630, 'sum': 1631, 'vehicl': 1632, 'account': 1633, 'root': 1634, 'convent': 1635, 'behavior': 1636, '1970': 1637, 'leg': 1638, 'regular': 1639, 'gold': 1640, 'worker': 1641, 'compet': 1642, 'demand': 1643, 'pretenti': 1644, 'japan': 1645, 'stretch': 1646, 'interpret': 1647, 'explos': 1648, 'privat': 1649, 'notabl': 1650, 'candi': 1651, 'lynch': 1652, 'debut': 1653, 'constant': 1654, 'tarzan': 1655, 'translat': 1656, 'revolv': 1657, 'sea': 1658, 'spi': 1659, 'prais': 1660, 'technolog': 1661, 'quiet': 1662, 'jesu': 1663, 'failur': 1664, 'threaten': 1665, 'franc': 1666, 'ass': 1667, 'sat': 1668, 'punch': 1669, 'toy': 1670, 'kevin': 1671, 'aid': 1672, 'met': 1673, 'higher': 1674, 'vh': 1675, 'interact': 1676, 'abandon': 1677, 'mike': 1678, 'separ': 1679, 'bet': 1680, 'confront': 1681, 'command': 1682, 'belong': 1683, 'recal': 1684, 'techniqu': 1685, 'servic': 1686, 'site': 1687, 'gotten': 1688, 'stunt': 1689, 'foot': 1690, 'freak': 1691, 'cabl': 1692, 'bug': 1693, 'capabl': 1694, 'bright': 1695, 'jimmi': 1696, 'african': 1697, 'fu': 1698, 'presid': 1699, 'fat': 1700, 'clark': 1701, 'succeed': 1702, 'boat': 1703, 'stock': 1704, 'spanish': 1705, 'gene': 1706, 'structur': 1707, 'kidnap': 1708, 'paper': 1709, 'factor': 1710, 'whilst': 1711, 'belief': 1712, 'realis': 1713, 'tree': 1714, 'witti': 1715, 'bob': 1716, 'complic': 1717, 'attend': 1718, 'realism': 1719, 'educ': 1720, 'broken': 1721, 'finest': 1722, 'assist': 1723, 'santa': 1724, 'observ': 1725, 'up': 1726, 'smoke': 1727, 'depart': 1728, 'determin': 1729, 'v': 1730, 'oper': 1731, 'lewi': 1732, 'hat': 1733, 'rubbish': 1734, 'fame': 1735, 'routin': 1736, 'domin': 1737, 'advanc': 1738, 'safe': 1739, 'hook': 1740, 'lone': 1741, 'kinda': 1742, 'morgan': 1743, 'foreign': 1744, 'numer': 1745, 'rank': 1746, 'shallow': 1747, 'civil': 1748, 'washington': 1749, 'werewolf': 1750, 'rose': 1751, 'shape': 1752, 'vs': 1753, 'morn': 1754, 'gari': 1755, 'winner': 1756, 'ordinari': 1757, 'accomplish': 1758, 'kong': 1759, 'whenev': 1760, 'virtual': 1761, 'peac': 1762, 'grab': 1763, 'offens': 1764, 'luck': 1765, 'h': 1766, 'bigger': 1767, 'unfunni': 1768, 'patient': 1769, 'contriv': 1770, 'complain': 1771, 'activ': 1772, 'welcom': 1773, 'pretend': 1774, 'trek': 1775, 'dimension': 1776, 'con': 1777, 'flash': 1778, 'cain': 1779, 'eric': 1780, 'code': 1781, 'wake': 1782, 'dri': 1783, 'lesbian': 1784, 'manipul': 1785, 'guard': 1786, 'statu': 1787, 'corrupt': 1788, 'albert': 1789, 'dancer': 1790, 'signific': 1791, 'sourc': 1792, 'gain': 1793, 'awkward': 1794, 'context': 1795, 'speech': 1796, 'psycho': 1797, 'sean': 1798, '13': 1799, 'corni': 1800, 'clip': 1801, 'anthoni': 1802, 'advic': 1803, 'curiou': 1804, 'reli': 1805, 'w': 1806, 'priest': 1807, 'theatric': 1808, 'religion': 1809, 'flow': 1810, 'addict': 1811, 'secur': 1812, 'asian': 1813, 'specif': 1814, 'skin': 1815, 'jennif': 1816, 'howard': 1817, 'core': 1818, 'promot': 1819, 'comfort': 1820, 'organ': 1821, 'golden': 1822, 'luke': 1823, 'cheat': 1824, 'cash': 1825, 'lucki': 1826, 'associ': 1827, 'dislik': 1828, 'lower': 1829, 'devic': 1830, 'frankli': 1831, 'contribut': 1832, 'balanc': 1833, 'wing': 1834, 'frequent': 1835, 'spell': 1836, 'regret': 1837, 'degre': 1838, 'forgiv': 1839, 'sake': 1840, 'lake': 1841, 'print': 1842, 'betti': 1843, 'mass': 1844, 'thoma': 1845, 'gordon': 1846, 'unexpect': 1847, 'crack': 1848, 'amateur': 1849, 'unfold': 1850, 'grown': 1851, 'categori': 1852, 'construct': 1853, 'invit': 1854, 'depend': 1855, 'walter': 1856, 'grew': 1857, 'honor': 1858, 'condit': 1859, 'intellectu': 1860, 'matur': 1861, 'anna': 1862, 'sole': 1863, 'veteran': 1864, 'mirror': 1865, 'spectacular': 1866, 'sudden': 1867, 'gift': 1868, 'card': 1869, 'demonstr': 1870, 'overli': 1871, 'freedom': 1872, 'liner': 1873, 'experienc': 1874, 'robin': 1875, 'grip': 1876, 'meanwhil': 1877, 'circumst': 1878, 'colour': 1879, 'section': 1880, 'crappi': 1881, 'oliv': 1882, 'sheriff': 1883, 'theori': 1884, 'unabl': 1885, 'brilliantli': 1886, 'subtitl': 1887, 'drew': 1888, 'sheer': 1889, 'laughter': 1890, 'pile': 1891, 'path': 1892, 'cook': 1893, 'parker': 1894, 'altern': 1895, 'matt': 1896, 'hall': 1897, 'treatment': 1898, 'relief': 1899, 'defin': 1900, 'lawyer': 1901, 'sinatra': 1902, 'wander': 1903, 'accident': 1904, 'hank': 1905, 'dragon': 1906, 'captiv': 1907, 'gratuit': 1908, 'halloween': 1909, 'moor': 1910, 'jacki': 1911, 'k': 1912, 'cowboy': 1913, 'wound': 1914, 'broadway': 1915, 'wayn': 1916, 'unintent': 1917, 'kung': 1918, 'barbara': 1919, 'statement': 1920, 'surreal': 1921, 'spoof': 1922, 'winter': 1923, 'canadian': 1924, 'treasur': 1925, 'fish': 1926, 'cheer': 1927, 'fare': 1928, 'gonna': 1929, 'compos': 1930, 'woodi': 1931, 'sensit': 1932, 'victor': 1933, 'unrealist': 1934, 'emerg': 1935, 'driven': 1936, 'neighbor': 1937, 'sympathet': 1938, 'ran': 1939, 'overlook': 1940, 'expos': 1941, 'topic': 1942, 'menac': 1943, 'glass': 1944, 'authent': 1945, 'michel': 1946, 'handsom': 1947, 'gross': 1948, 'ancient': 1949, 'chief': 1950, 'comedian': 1951, 'nevertheless': 1952, 'stranger': 1953, 'network': 1954, 'contemporari': 1955, 'pleasant': 1956, 'built': 1957, 'russel': 1958, 'feet': 1959, 'cinderella': 1960, 'miser': 1961, 'gori': 1962, 'blockbust': 1963, 'letter': 1964, 'underr': 1965, 'consider': 1966, 'earn': 1967, 'endless': 1968, 'solv': 1969, 'switch': 1970, 'brook': 1971, 'joseph': 1972, 'edward': 1973, 'virgin': 1974, 'convict': 1975, 'bullet': 1976, 'victoria': 1977, 'chosen': 1978, 'alex': 1979, 'scenario': 1980, 'cynic': 1981, 'scale': 1982, '0': 1983, 'outrag': 1984, 'curs': 1985, 'com': 1986, 'sword': 1987, 'gut': 1988, 'juli': 1989, 'driver': 1990, 'substanc': 1991, 'proper': 1992, 'wrap': 1993, 'screenwrit': 1994, 'monkey': 1995, 'uk': 1996, 'remov': 1997, 'par': 1998, 'bird': 1999, 'court': 2000, 'indic': 2001, 'consequ': 2002, 'rental': 2003, 'naiv': 2004, 'inevit': 2005, 'advertis': 2006, 'nanci': 2007, 'roy': 2008, 'grave': 2009, 'loser': 2010, 'fatal': 2011, 'slap': 2012, 'brave': 2013, 'bridg': 2014, 'le': 2015, 'germani': 2016, 'invis': 2017, 'footbal': 2018, 'ador': 2019, 'anger': 2020, 'provok': 2021, 'loui': 2022, 'anderson': 2023, 'alcohol': 2024, 'chan': 2025, 'ryan': 2026, 'stumbl': 2027, 'professor': 2028, 'willi': 2029, 'assassin': 2030, 'australian': 2031, '1930': 2032, 'bat': 2033, 'patrick': 2034, 'sharp': 2035, 'refresh': 2036, 'lousi': 2037, 'cell': 2038, 'strongli': 2039, 'amateurish': 2040, 'deni': 2041, 'saturday': 2042, 'heck': 2043, 'liber': 2044, 'eight': 2045, 'trilog': 2046, 'ape': 2047, 'sin': 2048, 'san': 2049, 'vagu': 2050, 'justifi': 2051, 'resid': 2052, 'reput': 2053, 'defeat': 2054, 'creator': 2055, 'terrifi': 2056, 'indi': 2057, 'sympathi': 2058, 'mini': 2059, 'expert': 2060, 'task': 2061, 'tabl': 2062, 'prevent': 2063, 'endur': 2064, 'tediou': 2065, 'offend': 2066, 'imit': 2067, 'basebal': 2068, 'trial': 2069, 'employ': 2070, 'rival': 2071, 'che': 2072, 'beach': 2073, 'complaint': 2074, 'max': 2075, 'europ': 2076, 'fairi': 2077, 'weekend': 2078, 'pitch': 2079, 'dig': 2080, 'risk': 2081, 'murphi': 2082, 'purchas': 2083, 'format': 2084, 'bite': 2085, 'nois': 2086, 'reminisc': 2087, 'hype': 2088, 'titan': 2089, 'glimps': 2090, 'tini': 2091, 'harsh': 2092, 'powel': 2093, 'north': 2094, 'till': 2095, 'strip': 2096, 'fals': 2097, '14': 2098, 'prime': 2099, 'asleep': 2100, 'revel': 2101, 'descript': 2102, 'texa': 2103, 'africa': 2104, 'destruct': 2105, 'surfac': 2106, 'arrest': 2107, 'spin': 2108, 'excess': 2109, 'sitcom': 2110, 'uninterest': 2111, 'semi': 2112, 'inner': 2113, 'dinosaur': 2114, 'hitchcock': 2115, 'maintain': 2116, 'twin': 2117, 'makeup': 2118, 'argu': 2119, 'massiv': 2120, 'controversi': 2121, 'ideal': 2122, 'ludicr': 2123, 'expens': 2124, 'stare': 2125, 'kim': 2126, 'melodrama': 2127, 'insist': 2128, 'reject': 2129, 'forest': 2130, 'nail': 2131, 'press': 2132, 'ala': 2133, 'subplot': 2134, 'erot': 2135, 'host': 2136, 'supernatur': 2137, 'columbo': 2138, 'ga': 2139, 'atroci': 2140, 'cant': 2141, 'notch': 2142, 'identifi': 2143, 'dude': 2144, 'presum': 2145, 'crude': 2146, 'forgett': 2147, 'closer': 2148, 'character': 2149, 'plagu': 2150, 'method': 2151, 'guest': 2152, 'border': 2153, 'beast': 2154, 'princess': 2155, 'lion': 2156, 'ear': 2157, 'landscap': 2158, 'foster': 2159, 'storytel': 2160, 'damag': 2161, 'birth': 2162, 'pacino': 2163, 'previous': 2164, 'urban': 2165, 'aunt': 2166, 'bound': 2167, 'accus': 2168, 'jungl': 2169, 'chose': 2170, 'thirti': 2171, 'emma': 2172, 'nude': 2173, 'doll': 2174, 'guid': 2175, 'propaganda': 2176, 'jess': 2177, 'mainstream': 2178, 'warrior': 2179, 'whoever': 2180, 'mate': 2181, 'pet': 2182, '25': 2183, 'exact': 2184, 'latest': 2185, 'cooper': 2186, 'size': 2187, 'poster': 2188, 'deadli': 2189, 'merit': 2190, 'gritti': 2191, 'friday': 2192, 'upset': 2193, 'ton': 2194, 'citizen': 2195, 'wilson': 2196, 'warner': 2197, 'sun': 2198, 'buff': 2199, '1990': 2200, 'settl': 2201, 'popul': 2202, 'contact': 2203, 'rough': 2204, 'blend': 2205, 'corps': 2206, 'contest': 2207, 'overcom': 2208, 'environ': 2209, 'mgm': 2210, 'metal': 2211, 'bu': 2212, 'rat': 2213, 'select': 2214, 'widow': 2215, 'pitt': 2216, 'alic': 2217, 'link': 2218, 'revolut': 2219, 'particip': 2220, 'lift': 2221, 'guilti': 2222, 'ted': 2223, 'johnson': 2224, 'afternoon': 2225, 'corpor': 2226, 'accompani': 2227, 'prostitut': 2228, 'exagger': 2229, 'corner': 2230, 'moron': 2231, '1960': 2232, 'matrix': 2233, 'doom': 2234, 'sincer': 2235, 'clair': 2236, 'multipl': 2237, 'holm': 2238, 'friendli': 2239, 'leagu': 2240, 'hood': 2241, 'instal': 2242, 'blah': 2243, 'examin': 2244, 'irish': 2245, 'advis': 2246, 'lugosi': 2247, 'campi': 2248, 'grim': 2249, 'sunday': 2250, 'string': 2251, 'defend': 2252, 'hip': 2253, 'aka': 2254, 'junk': 2255, 'varieti': 2256, 'pro': 2257, 'shake': 2258, 'rachel': 2259, 'confid': 2260, 'shut': 2261, 'tight': 2262, 'icon': 2263, 'directli': 2264, 'sullivan': 2265, 'denni': 2266, 'jaw': 2267, 'mexican': 2268, 'goal': 2269, 'attach': 2270, 'medic': 2271, 'legendari': 2272, 'vietnam': 2273, 'sentenc': 2274, 'sarah': 2275, 'breast': 2276, 'dean': 2277, 'courag': 2278, 'prior': 2279, 'duke': 2280, 'truck': 2281, 'terrorist': 2282, 'bourn': 2283, 'donald': 2284, 'yell': 2285, 'un': 2286, 'hong': 2287, 'entri': 2288, 'split': 2289, 'nose': 2290, 'proceed': 2291, 'behav': 2292, 'jerk': 2293, 'forth': 2294, 'confess': 2295, 'gather': 2296, 'everywher': 2297, 'borrow': 2298, 'unconvinc': 2299, 'stolen': 2300, 'concentr': 2301, 'swim': 2302, 'crush': 2303, 'buri': 2304, 'lifetim': 2305, 'california': 2306, 'deliveri': 2307, 'spite': 2308, 'turkey': 2309, 'julia': 2310, 'lip': 2311, 'pan': 2312, 'downright': 2313, 'quest': 2314, 'proud': 2315, 'flight': 2316, 'freeman': 2317, 'reward': 2318, 'offici': 2319, 'hoffman': 2320, 'china': 2321, 'sink': 2322, 'encourag': 2323, 'fade': 2324, 'inept': 2325, 'betray': 2326, 'worthwhil': 2327, 'sir': 2328, 'jon': 2329, 'lazi': 2330, 'notori': 2331, 'fabul': 2332, 'jail': 2333, 'relev': 2334, 'teeth': 2335, 'survivor': 2336, 'bag': 2337, 'storm': 2338, 'cousin': 2339, 'susan': 2340, 'branagh': 2341, 'lisa': 2342, 'imageri': 2343, 'bell': 2344, 'retard': 2345, 'shower': 2346, 'trade': 2347, 'shark': 2348, 'hugh': 2349, 'quirki': 2350, 'mexico': 2351, 'stab': 2352, 'finger': 2353, 'summari': 2354, 'alright': 2355, 'facial': 2356, 'tremend': 2357, 'toler': 2358, 'bride': 2359, 'pose': 2360, 'hyster': 2361, 'ha': 2362, 'blown': 2363, 'von': 2364, 'bitter': 2365, 'ned': 2366, 'address': 2367, 'cruel': 2368, 'ron': 2369, 'scheme': 2370, 'afterward': 2371, 'larri': 2372, 'christ': 2373, 'bone': 2374, 'screw': 2375, 'swear': 2376, 'snake': 2377, 'pursu': 2378, 'feed': 2379, 'thumb': 2380, 'tour': 2381, 'beg': 2382, 'traci': 2383, 'distinct': 2384, 'stomach': 2385, 'obscur': 2386, 'occas': 2387, 'mechan': 2388, 'photo': 2389, 'raw': 2390, 'chair': 2391, 'southern': 2392, 'holiday': 2393, 'chain': 2394, 'hardi': 2395, 'cabin': 2396, 'heavili': 2397, 'resist': 2398, 'necessarili': 2399, 'render': 2400, 'sidney': 2401, 'gruesom': 2402, 'argument': 2403, 'racist': 2404, 'india': 2405, 'understood': 2406, 'indulg': 2407, 'satan': 2408, 'philip': 2409, 'belov': 2410, 'obnoxi': 2411, 'outfit': 2412, 'forgot': 2413, 'tongu': 2414, 'stalk': 2415, 'lay': 2416, 'pregnant': 2417, 'midnight': 2418, 'integr': 2419, 'fourth': 2420, 'carol': 2421, 'slapstick': 2422, 'ticket': 2423, 'garden': 2424, 'inhabit': 2425, '17': 2426, 'restor': 2427, 'deeper': 2428, 'magazin': 2429, 'brad': 2430, 'shoe': 2431, 'incid': 2432, 'lincoln': 2433, 'devot': 2434, 'divorc': 2435, 'anticip': 2436, 'disbelief': 2437, 'elizabeth': 2438, 'benefit': 2439, 'underground': 2440, 'maria': 2441, 'lili': 2442, 'guarante': 2443, 'sandler': 2444, 'bbc': 2445, 'cring': 2446, 'greater': 2447, 'amazingli': 2448, 'explod': 2449, 'mildli': 2450, 'princip': 2451, 'creation': 2452, 'capit': 2453, 'slave': 2454, 'halfway': 2455, 'funnier': 2456, 'introduct': 2457, 'extraordinari': 2458, 'lesli': 2459, 'transfer': 2460, 'advantag': 2461, 'text': 2462, 'wreck': 2463, 'overwhelm': 2464, 'tap': 2465, 'enhanc': 2466, 'punish': 2467, 'extent': 2468, 'horrif': 2469, 'jessica': 2470, 'deliber': 2471, 'error': 2472, 'lane': 2473, 'dynam': 2474, 'east': 2475, 'preview': 2476, 'lo': 2477, 'plant': 2478, 'miller': 2479, 'miscast': 2480, 'ensu': 2481, 'appli': 2482, 'vacat': 2483, 'sophist': 2484, '2000': 2485, 'homosexu': 2486, 'basi': 2487, 'vincent': 2488, 'extend': 2489, 'reed': 2490, 'elev': 2491, 'bollywood': 2492, 'spoken': 2493, 'sleazi': 2494, 'steel': 2495, 'mansion': 2496, 'uncomfort': 2497, 'measur': 2498, 'via': 2499, 'cathol': 2500, 'breathtak': 2501, 'fix': 2502, 'goofi': 2503, 'beer': 2504, 'daili': 2505, 'blair': 2506, 'overact': 2507, 'dentist': 2508, 'savag': 2509, 'mous': 2510, 'conceiv': 2511, 'stanley': 2512, 'assign': 2513, 'alter': 2514, 'hippi': 2515, 'melt': 2516, 'burt': 2517, 'oppos': 2518, 'inspector': 2519, 'subsequ': 2520, 'nowaday': 2521, 'properli': 2522, 'carpent': 2523, 'succe': 2524, 'everyday': 2525, 'sacrific': 2526, 'massacr': 2527, 'laura': 2528, 'circl': 2529, 'neck': 2530, 'block': 2531, 'grey': 2532, 'access': 2533, 'lesser': 2534, 'fallen': 2535, 'christi': 2536, 'concert': 2537, 'fay': 2538, 'mob': 2539, 'portrait': 2540, 'seagal': 2541, 'pool': 2542, 'jake': 2543, 'relax': 2544, 'competit': 2545, 'react': 2546, 'chees': 2547, 'sinist': 2548, 'usa': 2549, 'isol': 2550, 'jewish': 2551, 'immens': 2552, 'nine': 2553, 'stink': 2554, 'chop': 2555, 'appal': 2556, 'lyric': 2557, 'ironi': 2558, 'nonetheless': 2559, 'creep': 2560, 'spiritu': 2561, 'suitabl': 2562, '2006': 2563, 'reduc': 2564, 'franchis': 2565, 'luci': 2566, 'user': 2567, 'retir': 2568, 'nut': 2569, 'showcas': 2570, 'needless': 2571, 'rage': 2572, 'navi': 2573, 'shirt': 2574, 'spring': 2575, 'adopt': 2576, 'sold': 2577, 'jay': 2578, 'zone': 2579, 'per': 2580, 'bath': 2581, 'nurs': 2582, 'asham': 2583, 'digit': 2584, 'bulli': 2585, 'uninspir': 2586, 'stanwyck': 2587, 'broadcast': 2588, 'sutherland': 2589, 'amongst': 2590, 'oddli': 2591, '2001': 2592, '1940': 2593, 'illustr': 2594, 'laid': 2595, 'upper': 2596, 'baker': 2597, 'disguis': 2598, 'fulfil': 2599, 'brando': 2600, 'aspir': 2601, 'stylish': 2602, 'throat': 2603, 'pound': 2604, 'neighborhood': 2605, 'pride': 2606, 'wanna': 2607, 'em': 2608, 'endear': 2609, '18': 2610, 'impli': 2611, 'nobl': 2612, 'thief': 2613, 'wwii': 2614, 'distribut': 2615, 'prop': 2616, 'cinematograph': 2617, 'albeit': 2618, 'shoulder': 2619, 'shift': 2620, 'diseas': 2621, 'tens': 2622, 'dinner': 2623, 'coher': 2624, 'bo': 2625, 'dawn': 2626, 'bett': 2627, '16': 2628, 'rochest': 2629, 'wash': 2630, 'surf': 2631, 'matthau': 2632, 'contract': 2633, 'forti': 2634, 'knife': 2635, 'snow': 2636, 'function': 2637, 'poignant': 2638, 'rebel': 2639, 'silenc': 2640, 'shout': 2641, 'reunion': 2642, 'heat': 2643, 'horrend': 2644, 'chuck': 2645, 'widmark': 2646, 'instinct': 2647, 'henc': 2648, 'derek': 2649, 'duti': 2650, 'eeri': 2651, 'proof': 2652, 'cancel': 2653, 'silver': 2654, 'cannib': 2655, 'height': 2656, 'mindless': 2657, 'internet': 2658, 'elvira': 2659, 'etern': 2660, 'mill': 2661, 'repetit': 2662, 'musician': 2663, 'alik': 2664, 'pie': 2665, 'elvi': 2666, 'glori': 2667, 'innov': 2668, 'incoher': 2669, 'absorb': 2670, 'spielberg': 2671, 'greatli': 2672, 'torn': 2673, 'neat': 2674, 'premier': 2675, 'redempt': 2676, 'burton': 2677, 'itali': 2678, 'bang': 2679, 'wealthi': 2680, 'announc': 2681, 'diamond': 2682, 'blank': 2683, 'britain': 2684, 'infam': 2685, 'lovabl': 2686, 'precis': 2687, 'horrifi': 2688, 'homag': 2689, 'trite': 2690, 'nelson': 2691, 'racism': 2692, 'fbi': 2693, 'crisi': 2694, 'happili': 2695, 'wilder': 2696, 'parallel': 2697, 'resolut': 2698, 'flop': 2699, 'hammer': 2700, 'helen': 2701, 'chaplin': 2702, 'ensembl': 2703, 'dedic': 2704, 'pat': 2705, 'streisand': 2706, 'carter': 2707, 'plastic': 2708, 'mar': 2709, 'conclud': 2710, 'st': 2711, 'oil': 2712, 'cube': 2713, 'triumph': 2714, 'factori': 2715, 'broke': 2716, 'disagre': 2717, 'rocket': 2718, 'climb': 2719, 'row': 2720, 'march': 2721, 'chuckl': 2722, 'weight': 2723, 'fighter': 2724, 'vega': 2725, 'bush': 2726, 'own': 2727, 'boot': 2728, 'thug': 2729, 'kurt': 2730, 'mst3k': 2731, 'unforgett': 2732, 'meaning': 2733, 'wherea': 2734, 'lust': 2735, 'enorm': 2736, 'sensibl': 2737, 'luca': 2738, 'dane': 2739, 'spare': 2740, 'dump': 2741, 'butt': 2742, 'difficulti': 2743, 'adequ': 2744, 'bobbi': 2745, 'arnold': 2746, 'rap': 2747, 'dear': 2748, 'engin': 2749, 'threat': 2750, 'stress': 2751, 'brand': 2752, 'fifti': 2753, 'caricatur': 2754, 'karloff': 2755, 'swing': 2756, 'hamlet': 2757, 'homeless': 2758, 'flynn': 2759, 'barri': 2760, 'journalist': 2761, 'fest': 2762, 'polish': 2763, 'ralph': 2764, 'ego': 2765, 'secretari': 2766, 'elabor': 2767, 'arrog': 2768, 'arrang': 2769, 'induc': 2770, 'unbear': 2771, 'puppet': 2772, 'float': 2773, 'resort': 2774, 'tool': 2775, 'fanci': 2776, 'grate': 2777, 'conspiraci': 2778, 'simpson': 2779, 'spike': 2780, 'tribut': 2781, 'exercis': 2782, 'choreograph': 2783, 'pig': 2784, 'cruis': 2785, 'phillip': 2786, 'basement': 2787, 'boll': 2788, 'guilt': 2789, 'muppet': 2790, 'layer': 2791, 'item': 2792, 'tower': 2793, 'puzzl': 2794, 'slip': 2795, 'document': 2796, '24': 2797, 'file': 2798, 'ward': 2799, 'scarecrow': 2800, 'babe': 2801, 'ham': 2802, 'toilet': 2803, 'fianc': 2804, 'medium': 2805, 'editor': 2806, 'stan': 2807, 'korean': 2808, 'assur': 2809, 'minim': 2810, 'orient': 2811, 'glover': 2812, 'persona': 2813, 'territori': 2814, 'librari': 2815, 'catherin': 2816, 'transit': 2817, 'slaughter': 2818, 'larger': 2819, 'philosoph': 2820, 'inexplic': 2821, 'doc': 2822, 'denzel': 2823, 'spark': 2824, 'portion': 2825, 'superfici': 2826, 'boredom': 2827, 'pg': 2828, 'sneak': 2829, 'jeremi': 2830, 'walken': 2831, 'jet': 2832, 'shi': 2833, 'ban': 2834, 'financi': 2835, 'dorothi': 2836, 'wolf': 2837, 'curti': 2838, 'owe': 2839, 'metaphor': 2840, 'multi': 2841, 'ambigu': 2842, 'hudson': 2843, 'backdrop': 2844, 'profound': 2845, 'eleph': 2846, 'whale': 2847, 'cusack': 2848, 'viru': 2849, 'implaus': 2850, 'birthday': 2851, 'stiff': 2852, 'notion': 2853, 'rave': 2854, 'gadget': 2855, 'hack': 2856, 'union': 2857, '2005': 2858, 'elsewher': 2859, 'ultra': 2860, 'afford': 2861, 'poison': 2862, '1st': 2863, 'lloyd': 2864, 'eastwood': 2865, 'slight': 2866, 'squar': 2867, 'deriv': 2868, 'pad': 2869, 'urg': 2870, 'newspap': 2871, 'eva': 2872, 'reader': 2873, 'superhero': 2874, 'distanc': 2875, 'bibl': 2876, 'disc': 2877, 'hawk': 2878, 'canada': 2879, 'health': 2880, 'skit': 2881, 'restaur': 2882, 'drown': 2883, 'heston': 2884, 'montag': 2885, 'button': 2886, 'spread': 2887, 'essenc': 2888, 'cure': 2889, 'charisma': 2890, 'sadist': 2891, 'huh': 2892, 'dealt': 2893, 'gradual': 2894, 'godfath': 2895, 'companion': 2896, 'lab': 2897, 'estat': 2898, 'scoobi': 2899, 'maniac': 2900, 'invest': 2901, 'peak': 2902, 'fetch': 2903, 'muslim': 2904, 'ritter': 2905, 'kane': 2906, 'tea': 2907, 'servant': 2908, 'countless': 2909, 'cup': 2910, 'subtleti': 2911, 'alli': 2912, 'gothic': 2913, 'miik': 2914, 'briefli': 2915, 'heroic': 2916, 'electr': 2917, 'elect': 2918, 'salli': 2919, 'iii': 2920, 'charismat': 2921, 'admittedli': 2922, 'neil': 2923, 'tender': 2924, 'wannab': 2925, 'nuanc': 2926, 'reel': 2927, 'toss': 2928, 'cole': 2929, 'ingredi': 2930, 'resourc': 2931, 'grandmoth': 2932, 'bud': 2933, 'stood': 2934, 'dawson': 2935, 'mild': 2936, 'reev': 2937, 'stronger': 2938, 'punk': 2939, 'mafia': 2940, 'gate': 2941, 'poverti': 2942, 'pit': 2943, 'pauli': 2944, 'carrey': 2945, 'shall': 2946, 'kubrick': 2947, 'label': 2948, 'assault': 2949, 'burst': 2950, 'easier': 2951, 'outcom': 2952, 'useless': 2953, 'updat': 2954, 'smash': 2955, 'astair': 2956, 'fond': 2957, 'cox': 2958, 'smooth': 2959, 'cardboard': 2960, 'tag': 2961, 'ian': 2962, 'bakshi': 2963, 'terri': 2964, 'divers': 2965, 'rex': 2966, 'vari': 2967, 'fist': 2968, 'coincid': 2969, 'samurai': 2970, 'resolv': 2971, 'exchang': 2972, 'sketch': 2973, 'qualifi': 2974, '2002': 2975, 'vulner': 2976, 'melodramat': 2977, 'increasingli': 2978, 'be': 2979, 'reynold': 2980, 'brillianc': 2981, 'tame': 2982, 'suspend': 2983, 'conveni': 2984, 'luckili': 2985, 'blast': 2986, 'scratch': 2987, 'insert': 2988, 'templ': 2989, 'ambiti': 2990, 'matthew': 2991, 'walker': 2992, 'hamilton': 2993, 'jami': 2994, 'gotta': 2995, 'meat': 2996, 'strictli': 2997, 'soprano': 2998, 'coach': 2999, 'pin': 3000, 'seventi': 3001, 'nuclear': 3002, 'fisher': 3003, 'farm': 3004, 'discoveri': 3005, 'kudo': 3006, 'empir': 3007, 'ninja': 3008, 'convolut': 3009, 'joey': 3010, 'worthless': 3011, 'instantli': 3012, 'grasp': 3013, 'cave': 3014, 'revers': 3015, 'timeless': 3016, 'brosnan': 3017, 'recreat': 3018, 'spooki': 3019, 'struck': 3020, 'clock': 3021, 'eccentr': 3022, 'butcher': 3023, 'closet': 3024, 'monk': 3025, 'evok': 3026, 'sidekick': 3027, 'norman': 3028, 'selfish': 3029, 'inconsist': 3030, 'cliff': 3031, 'pal': 3032, 'importantli': 3033, 'wipe': 3034, 'clown': 3035, 'bleak': 3036, 'seller': 3037, 'communist': 3038, 'eighti': 3039, 'miracl': 3040, 'mitchel': 3041, 'gray': 3042, 'declar': 3043, 'fifteen': 3044, 'sloppi': 3045, 'partli': 3046, 'farc': 3047, 'australia': 3048, 'destin': 3049, 'chew': 3050, 'enthusiast': 3051, 'cheek': 3052, 'stoog': 3053, 'psychiatrist': 3054, 'lifestyl': 3055, 'aforement': 3056, 'piano': 3057, 'seed': 3058, 'flawless': 3059, 'superbl': 3060, 'websit': 3061, 'debat': 3062, '45': 3063, 'ho': 3064, 'dash': 3065, 'kitchen': 3066, 'wrestl': 3067, 'incompet': 3068, 'bash': 3069, 'anni': 3070, 'abc': 3071, 'pressur': 3072, 'regardless': 3073, 'drivel': 3074, 'wick': 3075, 'slice': 3076, 'directori': 3077, 'dire': 3078, 'akshay': 3079, 'emili': 3080, 'soviet': 3081, 'splatter': 3082, 'duo': 3083, 'lou': 3084, 'beaten': 3085, 'distant': 3086, 'pleasantli': 3087, 'chapter': 3088, 'boil': 3089, 'blob': 3090, 'cagney': 3091, 'suppli': 3092, 'artifici': 3093, 'recov': 3094, 'seduc': 3095, 'flower': 3096, 'mann': 3097, 'cameron': 3098, 'doo': 3099, 'judi': 3100, 'dave': 3101, 'ken': 3102, 'helicopt': 3103, 'jar': 3104, 'prize': 3105, 'glow': 3106, 'increas': 3107, 'curios': 3108, 'cia': 3109, 'francisco': 3110, 'goldberg': 3111, 'hop': 3112, 'glenn': 3113, 'turner': 3114, 'eleg': 3115, 'drunken': 3116, 'combat': 3117, 'panic': 3118, 'favour': 3119, 'ranger': 3120, 'ellen': 3121, 'splendid': 3122, 'web': 3123, 'craven': 3124, 'perri': 3125, 'psychot': 3126, 'laurel': 3127, 'craig': 3128, 'min': 3129, 'plausibl': 3130, 'alexand': 3131, 'hatr': 3132, 'gentl': 3133, 'falk': 3134, 'ruth': 3135, 'rid': 3136, 'gandhi': 3137, 'philosophi': 3138, '20th': 3139, 'slightest': 3140, 'fx': 3141, 'wizard': 3142, 'greek': 3143, 'graduat': 3144, 'flip': 3145, 'shortli': 3146, 'modesti': 3147, 'futurist': 3148, 'tall': 3149, 'lend': 3150, 'manhattan': 3151, 'preciou': 3152, 'ocean': 3153, 'dracula': 3154, 'legal': 3155, 'jealou': 3156, 'holi': 3157, 'unpleas': 3158, 'we': 3159, 'fund': 3160, 'knight': 3161, 'harm': 3162, 'felix': 3163, 'reviv': 3164, 'mock': 3165, 'thread': 3166, 'scientif': 3167, 'explicit': 3168, 'giallo': 3169, 'digniti': 3170, 'nod': 3171, 'overdon': 3172, 'forbidden': 3173, 'childish': 3174, 'bless': 3175, 'ami': 3176, 'tank': 3177, 'pirat': 3178, '99': 3179, 'awe': 3180, 'thick': 3181, 'fever': 3182, 'repeatedli': 3183, 'elderli': 3184, 'awaken': 3185, 'broad': 3186, 'eve': 3187, 'margaret': 3188, 'nerv': 3189, 'mel': 3190, '2004': 3191, 'torment': 3192, 'unwatch': 3193, 'verhoeven': 3194, 'yesterday': 3195, 'automat': 3196, 'lean': 3197, 'launch': 3198, 'griffith': 3199, 'bin': 3200, 'custom': 3201, 'roman': 3202, 'stiller': 3203, 'royal': 3204, 'kay': 3205, 'ah': 3206, 'romero': 3207, 'absenc': 3208, 'rivet': 3209, 'publish': 3210, 'ambit': 3211, 'acclaim': 3212, 'politician': 3213, 'eas': 3214, 'timothi': 3215, 'uniform': 3216, 'transport': 3217, 'termin': 3218, 'stinker': 3219, 'phrase': 3220, 'gabriel': 3221, 'darker': 3222, 'warren': 3223, 'wallac': 3224, 'pulp': 3225, 'pierc': 3226, 'antic': 3227, 'homicid': 3228, 'foul': 3229, 'purpl': 3230, 'bathroom': 3231, 'crook': 3232, 'sunshin': 3233, 'tomato': 3234, 'horrid': 3235, 'viciou': 3236, 'evolv': 3237, 'awak': 3238, 'juvenil': 3239, 'sixti': 3240, 'album': 3241, 'donna': 3242, 'coloni': 3243, 'karen': 3244, 'brazil': 3245, 'ought': 3246, 'rambo': 3247, 'q': 3248, 'saint': 3249, 'pray': 3250, 'packag': 3251, '2003': 3252, 'prom': 3253, 'choreographi': 3254, 'marin': 3255, 'contrari': 3256, 'revolutionari': 3257, 'li': 3258, 'kenneth': 3259, 'hollow': 3260, 'eyr': 3261, 'stole': 3262, 'beatti': 3263, 'ireland': 3264, 'conserv': 3265, 'blade': 3266, 'candid': 3267, 'boast': 3268, 'ramon': 3269, 'dose': 3270, 'option': 3271, 'defi': 3272, 'mummi': 3273, 'overr': 3274, 'kapoor': 3275, 'twelv': 3276, 'nerd': 3277, 'mildr': 3278, 'protest': 3279, 'collabor': 3280, 'flame': 3281, 'altman': 3282, 'global': 3283, 'astonish': 3284, 'detract': 3285, 'confirm': 3286, 'natali': 3287, 'kirk': 3288, 'trio': 3289, 'fulci': 3290, 'jazz': 3291, 'funer': 3292, 'destini': 3293, 'tommi': 3294, 'yellow': 3295, 'nicholson': 3296, 'leap': 3297, 'delici': 3298, 'shade': 3299, 'racial': 3300, 'mystic': 3301, 'bull': 3302, 'whip': 3303, 'blake': 3304, 'bottl': 3305, 'enterpris': 3306, 'spit': 3307, 'audio': 3308, 'pseudo': 3309, 'meaningless': 3310, 'popcorn': 3311, 'reunit': 3312, 'neo': 3313, 'todd': 3314, 'swedish': 3315, 'merci': 3316, 'bedroom': 3317, 'visibl': 3318, 'adolesc': 3319, 'altogeth': 3320, 'fonda': 3321, 'enchant': 3322, 'staff': 3323, 'threw': 3324, 'inherit': 3325, 'vivid': 3326, 'harder': 3327, 'tip': 3328, 'crocodil': 3329, 'reserv': 3330, 'suspici': 3331, 'fanat': 3332, 'atlanti': 3333, 'uneven': 3334, 'lemmon': 3335, 'leonard': 3336, 'await': 3337, 'wire': 3338, 'ruthless': 3339, 'madonna': 3340, 'exhibit': 3341, 'synopsi': 3342, 'edi': 3343, 'respond': 3344, 'lawrenc': 3345, 'voight': 3346, 'roommat': 3347, 'befriend': 3348, 'decor': 3349, 'jew': 3350, 'bust': 3351, 'kennedi': 3352, 'moodi': 3353, 'rural': 3354, 'abysm': 3355, 'clint': 3356, 'garner': 3357, 'clumsi': 3358, 'voyag': 3359, 'holli': 3360, 'bold': 3361, 'chao': 3362, 'bargain': 3363, 'unsettl': 3364, 'centr': 3365, 'bradi': 3366, '2007': 3367, 'audit': 3368, 'ventur': 3369, 'dimens': 3370, 'incident': 3371, 'carl': 3372, 'palma': 3373, 'immigr': 3374, 'imperson': 3375, 'lit': 3376, 'troop': 3377, 'cd': 3378, 'daddi': 3379, 'nearbi': 3380, 'tiger': 3381, 'echo': 3382, 'acknowledg': 3383, 'wealth': 3384, 'versu': 3385, 'elimin': 3386, 'trail': 3387, 'mall': 3388, 'characterist': 3389, 'ant': 3390, 'humili': 3391, 'cuba': 3392, 'neglect': 3393, '2nd': 3394, 'hart': 3395, 'cari': 3396, 'poetic': 3397, 'timon': 3398, 'paus': 3399, 'domest': 3400, 'pun': 3401, 'infect': 3402, 'jeffrey': 3403, 'prejudic': 3404, 'collaps': 3405, 'solo': 3406, 'mickey': 3407, 'marshal': 3408, 'repuls': 3409, 'celluloid': 3410, 'mistaken': 3411, 'saga': 3412, 'homer': 3413, 'interrupt': 3414, 'inappropri': 3415, 'milk': 3416, 'gear': 3417, 'cake': 3418, 'inan': 3419, 'chest': 3420, '1996': 3421, 'ginger': 3422, 'apolog': 3423, 'assembl': 3424, 'promin': 3425, 'olivi': 3426, 'pant': 3427, 'undoubtedli': 3428, 'leon': 3429, 'harvey': 3430, 'equip': 3431, 'coffe': 3432, 'coat': 3433, 'hbo': 3434, 'tribe': 3435, 'sore': 3436, 'brooklyn': 3437, 'instant': 3438, 'pen': 3439, 'retain': 3440, 'colonel': 3441, 'aveng': 3442, 'trace': 3443, 'furthermor': 3444, 'highest': 3445, 'embrac': 3446, 'primari': 3447, 'jenni': 3448, 'consum': 3449, 'solut': 3450, 'humbl': 3451, 'vulgar': 3452, 'institut': 3453, 'pot': 3454, 'florida': 3455, 'maggi': 3456, 'airplan': 3457, 'colleagu': 3458, 'exot': 3459, 'devast': 3460, 'polanski': 3461, 'disabl': 3462, 'ya': 3463, 'linda': 3464, 'dian': 3465, 'strain': 3466, 'seduct': 3467, 'poke': 3468, 'rick': 3469, 'principl': 3470, 'illog': 3471, 'smaller': 3472, 'outer': 3473, '3rd': 3474, 'descend': 3475, 'dutch': 3476, 'cope': 3477, 'gender': 3478, '1999': 3479, 'wive': 3480, 'sale': 3481, 'godzilla': 3482, 'bowl': 3483, 'mixtur': 3484, 'glamor': 3485, 'lol': 3486, 'bubbl': 3487, 'rabbit': 3488, 'primarili': 3489, 'scope': 3490, 'secondli': 3491, 'yard': 3492, 'inferior': 3493, 'blatant': 3494, 'dive': 3495, 'vast': 3496, 'predecessor': 3497, 'gloriou': 3498, 'hal': 3499, 'cue': 3500, 'devoid': 3501, 'beneath': 3502, 'dud': 3503, 'gundam': 3504, 'et': 3505, 'aggress': 3506, 'disjoint': 3507, 'garbo': 3508, 'senseless': 3509, 'museum': 3510, 'alert': 3511, 'talki': 3512, 'april': 3513, 'invas': 3514, 'hideou': 3515, 'trademark': 3516, 'casual': 3517, 'grinch': 3518, 'z': 3519, 'simplist': 3520, 'shelf': 3521, 'arab': 3522, 'countrysid': 3523, 'streep': 3524, 'shirley': 3525, 'breed': 3526, 'myer': 3527, 'pearl': 3528, 'alfr': 3529, 'domino': 3530, 'obtain': 3531, 'stir': 3532, 'stack': 3533, 'sh': 3534, 'mayor': 3535, 'applaud': 3536, 'robinson': 3537, 'disgrac': 3538, 'vanish': 3539, 'unhappi': 3540, 'hopeless': 3541, 'maci': 3542, 'illeg': 3543, 'acid': 3544, 'hardcor': 3545, 'experiment': 3546, 'defens': 3547, 'oz': 3548, 'uwe': 3549, 'rendit': 3550, 'robberi': 3551, 'loyal': 3552, 'boom': 3553, 'slide': 3554, 'mail': 3555, 'khan': 3556, 'stellar': 3557, 'grandfath': 3558, 'emphasi': 3559, 'wont': 3560, 'craze': 3561, 'recruit': 3562, 'span': 3563, 'counter': 3564, 'blew': 3565, 'fri': 3566, 'spider': 3567, 'amanda': 3568, 'berlin': 3569, 'tempt': 3570, 'scroog': 3571, 'dicken': 3572, 'psychic': 3573, 'diana': 3574, 'rifl': 3575, 'dismiss': 3576, 'soccer': 3577, 'declin': 3578, 'topless': 3579, 'hartley': 3580, 'incomprehens': 3581, 'tenant': 3582, 'sibl': 3583, 'shaw': 3584, 'wet': 3585, 'sympath': 3586, 'goer': 3587, 'revolt': 3588, 'faster': 3589, 'resurrect': 3590, 'bitch': 3591, 'intim': 3592, 'ration': 3593, 'justin': 3594, 'shed': 3595, 'niro': 3596, 'lumet': 3597, 'trashi': 3598, 'parad': 3599, 'porno': 3600, 'woo': 3601, 'riot': 3602, 'ethnic': 3603, 'nephew': 3604, 'honesti': 3605, 'unreal': 3606, 'farmer': 3607, 'gap': 3608, 'wendi': 3609, 'partial': 3610, 'mario': 3611, 'andr': 3612, 'hesit': 3613, 'slick': 3614, 'ensur': 3615, 'choru': 3616, 'dealer': 3617, 'biographi': 3618, 'weakest': 3619, 'eager': 3620, 'hopper': 3621, 'steam': 3622, 'region': 3623, '00': 3624, 'rider': 3625, 'enlighten': 3626, 'ballet': 3627, 'wheel': 3628, 'commend': 3629, 'feminist': 3630, 'patriot': 3631, 'jonathan': 3632, 'immort': 3633, 'lena': 3634, 'worm': 3635, 'prequel': 3636, 'snap': 3637, 'psychopath': 3638, 'similarli': 3639, 'properti': 3640, 'kingdom': 3641, 'util': 3642, 'morri': 3643, 'sandra': 3644, 'safeti': 3645, 'vice': 3646, 'composit': 3647, 'franco': 3648, 'blunt': 3649, 'sappi': 3650, 'nostalg': 3651, 'wore': 3652, 'victori': 3653, 'skull': 3654, 'mutant': 3655, 'hung': 3656, 'leo': 3657, 'charlott': 3658, 'confin': 3659, 'owen': 3660, 'repress': 3661, 'macarthur': 3662, 'recycl': 3663, 'drain': 3664, 'whoopi': 3665, 'hyde': 3666, 'acquir': 3667, 'cg': 3668, 'farrel': 3669, 'exit': 3670, 'compens': 3671, 'despair': 3672, 'drum': 3673, 'compass': 3674, 'del': 3675, 'tail': 3676, 'rambl': 3677, 'pattern': 3678, 'bonu': 3679, 'speci': 3680, 'valuabl': 3681, 'dust': 3682, 'miseri': 3683, 'thru': 3684, 'strand': 3685, 'repli': 3686, 'rope': 3687, 'campbel': 3688, 'rocki': 3689, 'latin': 3690, '1972': 3691, 'bumbl': 3692, 'snl': 3693, 'nervou': 3694, 'tad': 3695, 'heartbreak': 3696, 'bergman': 3697, 'kyle': 3698, 'deed': 3699, 'montana': 3700, 'bow': 3701, 'emperor': 3702, 'dalton': 3703, 'wacki': 3704, 'contempl': 3705, 'pour': 3706, 'slug': 3707, 'da': 3708, 'martian': 3709, 'gal': 3710, 'gimmick': 3711, '35': 3712, 'romp': 3713, 'roth': 3714, 'rotten': 3715, 'chess': 3716, 'downhil': 3717, 'tonight': 3718, 'rapist': 3719, 'radic': 3720, 'orson': 3721, 'carradin': 3722, 'bleed': 3723, 'olli': 3724, 'airport': 3725, 'mistress': 3726, 'oppress': 3727, 'percept': 3728, 'banal': 3729, 'paltrow': 3730, 'melodi': 3731, 'slash': 3732, 'arc': 3733, 'mislead': 3734, 'unpredict': 3735, 'tackl': 3736, 'taught': 3737, 'tooth': 3738, '1983': 3739, 'champion': 3740, 'arguabl': 3741, 'dazzl': 3742, 'belt': 3743, 'pursuit': 3744, 'programm': 3745, 'attorney': 3746, 'heal': 3747, 'pervert': 3748, 'stilt': 3749, 'pervers': 3750, 'edgar': 3751, 'shelley': 3752, 'preach': 3753, 'orang': 3754, 'graham': 3755, 'chicken': 3756, 'tiresom': 3757, 'uplift': 3758, 'conneri': 3759, 'closest': 3760, 'vocal': 3761, 'raymond': 3762, 'bela': 3763, 'virginia': 3764, 'maid': 3765, 'cleverli': 3766, 'sensat': 3767, 'passeng': 3768, 'mesmer': 3769, 'employe': 3770, 'marti': 3771, 'vengeanc': 3772, 'plight': 3773, 'rubi': 3774, 'duval': 3775, 'dixon': 3776, 'gambl': 3777, 'poem': 3778, 'franki': 3779, 'pokemon': 3780, 'whine': 3781, 'suffic': 3782, 'amitabh': 3783, 'secretli': 3784, '1968': 3785, 'numb': 3786, 'quarter': 3787, 'crystal': 3788, 'giggl': 3789, 'scottish': 3790, 'abraham': 3791, 'convincingli': 3792, 'yawn': 3793, 'engross': 3794, 'swallow': 3795, 'inject': 3796, 'gerard': 3797, 'volum': 3798, 'iran': 3799, 'profan': 3800, 'climact': 3801, 'extens': 3802, 'monologu': 3803, 'tube': 3804, 'lundgren': 3805, 'bay': 3806, 'mute': 3807, 'calm': 3808, 'clone': 3809, 'habit': 3810, 'paranoia': 3811, 'outing': 3812, 'sirk': 3813, 'surpass': 3814, 'ethan': 3815, 'taxi': 3816, 'grotesqu': 3817, 'lowest': 3818, 'plod': 3819, 'franci': 3820, 'dispos': 3821, 'poetri': 3822, 'profess': 3823, 'im': 3824, 'frankenstein': 3825, 'linger': 3826, 'trend': 3827, 'underst': 3828, 'backward': 3829, 'junior': 3830, 'spock': 3831, 'nichola': 3832, 'expand': 3833, 'chicago': 3834, 'earl': 3835, 'abort': 3836, 'meander': 3837, 'bend': 3838, 'richardson': 3839, 'septemb': 3840, 'austen': 3841, 'fed': 3842, 'simplic': 3843, 'tourist': 3844, 'stallon': 3845, 'muddl': 3846, 'rant': 3847, 'eugen': 3848, 'cannon': 3849, 'greedi': 3850, 'sue': 3851, 'myth': 3852, 'lure': 3853, 'descent': 3854, 'econom': 3855, 'nostalgia': 3856, 'household': 3857, 'dysfunct': 3858, 'waitress': 3859, 'compliment': 3860, 'der': 3861, 'instrument': 3862, 'catchi': 3863, 'literatur': 3864, 'spoke': 3865, 'mundan': 3866, 'hum': 3867, 'rubber': 3868, 'mankind': 3869, 'flee': 3870, 'mortal': 3871, 'cent': 3872, 'firstli': 3873, 'alongsid': 3874, 'stale': 3875, 'louis': 3876, 'bacal': 3877, 'lang': 3878, 'eaten': 3879, 'equival': 3880, 'phantom': 3881, 'damon': 3882, 'occupi': 3883, 'recognis': 3884, 'coast': 3885, 'dictat': 3886, 'phoni': 3887, 'crucial': 3888, 'molli': 3889, 'hello': 3890, 'insur': 3891, 'recognit': 3892, 'furi': 3893, 'sissi': 3894, 'carel': 3895, 'map': 3896, 'omen': 3897, 'irrelev': 3898, 'dement': 3899, 'randi': 3900, 'june': 3901, 'deaf': 3902, 'duck': 3903, 'loyalti': 3904, 'rude': 3905, 'rooney': 3906, 'distinguish': 3907, 'daisi': 3908, 'labor': 3909, 'damm': 3910, 'blackmail': 3911, 'heel': 3912, 'ashley': 3913, 'wisdom': 3914, 'newli': 3915, 'drake': 3916, 'cyborg': 3917, 'bike': 3918, 'grayson': 3919, 'twilight': 3920, 'buffalo': 3921, 'lengthi': 3922, 'likewis': 3923, 'onlin': 3924, 'bump': 3925, 'dreari': 3926, '1973': 3927, 'reign': 3928, 'freez': 3929, 'biko': 3930, 'antwon': 3931, 'exposur': 3932, 'unorigin': 3933, 'incorpor': 3934, 'attribut': 3935, 'tunnel': 3936, 'pink': 3937, 'startl': 3938, 'baddi': 3939, 'vein': 3940, 'prey': 3941, 'nineti': 3942, 'worn': 3943, 'approv': 3944, 'analysi': 3945, 'basketbal': 3946, 'inher': 3947, 'keith': 3948, 'interior': 3949, 'provoc': 3950, 'barrymor': 3951, 'butler': 3952, 'chronicl': 3953, 'ridden': 3954, 'emphas': 3955, 'sailor': 3956, 'boxer': 3957, 'proce': 3958, 'predat': 3959, 'er': 3960, 'substitut': 3961, 'drift': 3962, 'nicol': 3963, 'improvis': 3964, 'fleet': 3965, 'simmon': 3966, 'millionair': 3967, 'stalker': 3968, 'condemn': 3969, 'belushi': 3970, 'elm': 3971, 'barrel': 3972, 'mighti': 3973, 'walsh': 3974, 'underli': 3975, 'meg': 3976, 'degrad': 3977, 'undeni': 3978, 'bunni': 3979, 'meyer': 3980, 'hypnot': 3981, 'julian': 3982, 'robbin': 3983, 'indiffer': 3984, 'mormon': 3985, 'unrel': 3986, 'othello': 3987, 'carla': 3988, 'lampoon': 3989, 'edgi': 3990, '3d': 3991, 'watson': 3992, 'vital': 3993, 'firm': 3994, 'exquisit': 3995, 'errol': 3996, 'alarm': 3997, 'disord': 3998, 'hay': 3999, 'priceless': 4000, 'nyc': 4001, 'roof': 4002, 'unawar': 4003, 'greed': 4004, 'agenda': 4005, 'dolph': 4006, 'enthusiasm': 4007, 'warmth': 4008, 'alison': 4009, 'mtv': 4010, 'palac': 4011, 'marion': 4012, 'shove': 4013, 'novak': 4014, 'reid': 4015, 'rukh': 4016, 'peril': 4017, 'unleash': 4018, 'preserv': 4019, 'randomli': 4020, 'session': 4021, 'eastern': 4022, 'beatl': 4023, 'thompson': 4024, 'gestur': 4025, 'valentin': 4026, 'simultan': 4027, 'israel': 4028, 'glanc': 4029, 'what': 4030, 'peck': 4031, 'profit': 4032, 'championship': 4033, 'showdown': 4034, 'testament': 4035, 'angela': 4036, 'ponder': 4037, 'petti': 4038, 'orlean': 4039, 'zizek': 4040, 'cassidi': 4041, 'campaign': 4042, '1933': 4043, 'spain': 4044, 'minimum': 4045, 'sergeant': 4046, 'iraq': 4047, 'distort': 4048, '13th': 4049, 'drip': 4050, 'crown': 4051, 'pamela': 4052, 'coup': 4053, 'nun': 4054, 'rout': 4055, 'wig': 4056, 'calib': 4057, 'bro': 4058, 'scotland': 4059, 'brenda': 4060, 'mon': 4061, 'cream': 4062, 'travesti': 4063, '1984': 4064, 'unimagin': 4065, 'shootout': 4066, 'contradict': 4067, 'valley': 4068, 'exposit': 4069, 'quinn': 4070, 'gentleman': 4071, 'miyazaki': 4072, 'regist': 4073, 'cooki': 4074, 'kurosawa': 4075, 'realm': 4076, 'stroke': 4077, 'reson': 4078, 'perpetu': 4079, 'restrain': 4080, 'crow': 4081, 'han': 4082, 'empathi': 4083, 'buster': 4084, 'climat': 4085, 'stake': 4086, 'sabrina': 4087, 'crawl': 4088, 'jan': 4089, 'represent': 4090, 'din': 4091, 'fido': 4092, 'distress': 4093, '1987': 4094, 'absent': 4095, 'unsatisfi': 4096, 'baldwin': 4097, 'traumat': 4098, 'fuller': 4099, 'shoddi': 4100, 'monoton': 4101, 'delic': 4102, 'tacki': 4103, 'perceiv': 4104, 'sammi': 4105, 'demis': 4106, 'wax': 4107, 'warrant': 4108, 'compromis': 4109, 'dana': 4110, 'spacey': 4111, 'businessman': 4112, 'femm': 4113, 'passabl': 4114, 'ross': 4115, 'cloud': 4116, 'soderbergh': 4117, 'greg': 4118, 'ustinov': 4119, 'meryl': 4120, 'pretens': 4121, 'darren': 4122, '1997': 4123, 'painter': 4124, 'pole': 4125, 'shaki': 4126, 'sucker': 4127, 'censor': 4128, 'derang': 4129, 'abomin': 4130, 'crawford': 4131, 'geek': 4132, 'mclaglen': 4133, 'josh': 4134, 'stargat': 4135, 'unseen': 4136, 'judgment': 4137, 'primit': 4138, 'seal': 4139, 'jewel': 4140, 'austin': 4141, 'verbal': 4142, 'fog': 4143, 'correctli': 4144, 'expedit': 4145, 'tarantino': 4146, 'tech': 4147, 'polici': 4148, 'exclus': 4149, 'kumar': 4150, 'unravel': 4151, 'uncov': 4152, 'deniro': 4153, 'sid': 4154, 'click': 4155, 'nathan': 4156, 'wholli': 4157, 'reluct': 4158, '1993': 4159, 'norm': 4160, 'fenc': 4161, 'deceas': 4162, 'accuraci': 4163, 'valid': 4164, 'furiou': 4165, 'clash': 4166, 'antonioni': 4167, 'dee': 4168, 'anchor': 4169, 'debt': 4170, '1971': 4171, 'fart': 4172, 'sunni': 4173, 'wretch': 4174, 'alec': 4175, 'temper': 4176, 'fought': 4177, 'murray': 4178, 'joel': 4179, 'slam': 4180, 'crippl': 4181, 'fabric': 4182, 'unfair': 4183, 'clerk': 4184, 'hallucin': 4185, 'conduct': 4186, '3000': 4187, 'behold': 4188, 'tax': 4189, 'trait': 4190, 'roller': 4191, '1995': 4192, 'patienc': 4193, 'nicola': 4194, 'darn': 4195, '2008': 4196, 'vanc': 4197, 'sustain': 4198, 'sheet': 4199, 'dreck': 4200, 'ritual': 4201, 'pocket': 4202, 'enforc': 4203, 'bake': 4204, 'seldom': 4205, 'mode': 4206, 'shanghai': 4207, 'logan': 4208, 'wang': 4209, 'malon': 4210, 'sand': 4211, 'outlin': 4212, 'legaci': 4213, 'runner': 4214, 'fundament': 4215, 'scriptwrit': 4216, 'penni': 4217, 'tactic': 4218, 'phil': 4219, 'helpless': 4220, 'conscious': 4221, 'divid': 4222, 'pete': 4223, 'bias': 4224, 'preposter': 4225, 'stark': 4226, 'canyon': 4227, 'isabel': 4228, 'critiqu': 4229, 'sweep': 4230, 'soup': 4231, 'schedul': 4232, 'shell': 4233, 'robber': 4234, 'clau': 4235, 'exhaust': 4236, 'stuart': 4237, 'squad': 4238, 'grief': 4239, 'preston': 4240, 'despis': 4241, 'rita': 4242, 'technicolor': 4243, 'guitar': 4244, 'bridget': 4245, 'connor': 4246, 'rehash': 4247, 'newman': 4248, 'cigarett': 4249, 'alley': 4250, 'flair': 4251, 'bloom': 4252, 'invad': 4253, 'inabl': 4254, 'restrict': 4255, 'jacket': 4256, 'drove': 4257, 'delv': 4258, 'agenc': 4259, 'sentinel': 4260, 'implic': 4261, 'gregori': 4262, 'russia': 4263, 'rear': 4264, 'marc': 4265, 'consciou': 4266, 'liberti': 4267, 'unexpectedli': 4268, 'jodi': 4269, 'culmin': 4270, 'boyl': 4271, 'lacklust': 4272, 'palanc': 4273, 'passag': 4274, 'downey': 4275, 'propos': 4276, 'kansa': 4277, 'sugar': 4278, 'alicia': 4279, 'sniper': 4280, 'vomit': 4281, 'behaviour': 4282, 'tendenc': 4283, 'wrench': 4284, 'vet': 4285, 'rehears': 4286, 'lush': 4287, 'awhil': 4288, 'mccoy': 4289, 'pale': 4290, 'karl': 4291, 'yeti': 4292, 'aesthet': 4293, 'foxx': 4294, 'chainsaw': 4295, 'sharon': 4296, 'feat': 4297, 'horn': 4298, '1936': 4299, 'rod': 4300, 'kolchak': 4301, 'rampag': 4302, 'tripe': 4303, '22': 4304, 'asylum': 4305, 'improb': 4306, 'arrow': 4307, 'delet': 4308, 'cap': 4309, 'bacon': 4310, 'ladder': 4311, 'lurk': 4312, 'tasteless': 4313, 'elit': 4314, 'stream': 4315, '1920': 4316, 'filler': 4317, '1978': 4318, 'rhythm': 4319, 'prank': 4320, 'sung': 4321, 'basing': 4322, 'loneli': 4323, 'rumor': 4324, 'conscienc': 4325, 'newcom': 4326, 'suspicion': 4327, '19th': 4328, 'el': 4329, 'coaster': 4330, 'hungri': 4331, 'weav': 4332, 'hackney': 4333, 'wildli': 4334, 'shortcom': 4335, 'tomorrow': 4336, 'globe': 4337, 'suffici': 4338, 'paramount': 4339, 'visitor': 4340, 'spice': 4341, 'fright': 4342, 'wagner': 4343, 'amazon': 4344, '1988': 4345, 'hulk': 4346, 'minu': 4347, 'financ': 4348, 'aristocrat': 4349, 'paradis': 4350, 'underneath': 4351, 'scoop': 4352, 'thunderbird': 4353, 'literari': 4354, 'worship': 4355, 'impos': 4356, 'brit': 4357, '75': 4358, 'penn': 4359, 'leigh': 4360, '1939': 4361, 'lectur': 4362, 'secondari': 4363, 'choppi': 4364, 'straightforward': 4365, 'dirt': 4366, 'tierney': 4367, 'standout': 4368, 'couch': 4369, 'wwe': 4370, 'beverli': 4371, 'recogniz': 4372, 'grudg': 4373, 'rub': 4374, 'minist': 4375, 'immers': 4376, 'springer': 4377, 'en': 4378, 'paxton': 4379, '1989': 4380, 'ingeni': 4381, 'quietli': 4382, 'cancer': 4383, 'entranc': 4384, 'counterpart': 4385, 'ram': 4386, 'hopkin': 4387, 'atroc': 4388, 'naughti': 4389, 'smell': 4390, 'posey': 4391, 'chavez': 4392, 'chamberlain': 4393, 'teas': 4394, 'curli': 4395, 'inmat': 4396, 'bread': 4397, 'abrupt': 4398, 'heist': 4399, 'iv': 4400, 'sublim': 4401, 'heartfelt': 4402, 'convert': 4403, 'ace': 4404, 'clan': 4405, 'esther': 4406, 'transcend': 4407, 'variat': 4408, 'cattl': 4409, 'duel': 4410, 'yearn': 4411, 'enthral': 4412, 'moreov': 4413, 'skeptic': 4414, 'misguid': 4415, 'quaid': 4416, 'entitl': 4417, 'ratso': 4418, 'injuri': 4419, 'laurenc': 4420, 'lindsay': 4421, 'nolan': 4422, '1986': 4423, 'net': 4424, 'attenborough': 4425, 'morbid': 4426, 'sassi': 4427, 'nemesi': 4428, 'missil': 4429, 'geni': 4430, 'bernard': 4431, 'watcher': 4432, 'policeman': 4433, 'obstacl': 4434, 'characteris': 4435, 'facil': 4436, 'youngest': 4437, 'grin': 4438, 'dont': 4439, 'brood': 4440, 'steadi': 4441, 'uncut': 4442, 'artsi': 4443, 'buzz': 4444, 'spiral': 4445, 'bye': 4446, 'moder': 4447, 'setup': 4448, 'kitti': 4449, 'cruelti': 4450, 'bean': 4451, 'out': 4452, 'mytholog': 4453, 'graini': 4454, 'egg': 4455, 'poe': 4456, '1979': 4457, 'hopelessli': 4458, 'kidman': 4459, 'enabl': 4460, 'diari': 4461, 'reliabl': 4462, 'carlito': 4463, 'tyler': 4464, 'hk': 4465, 'unexplain': 4466, 'rosemari': 4467, 'puppi': 4468, 'vader': 4469, 'niec': 4470, 'bronson': 4471, 'fuel': 4472, 'disastr': 4473, 'heap': 4474, 'preming': 4475, 'underworld': 4476, '1969': 4477, 'hammi': 4478, 'spontan': 4479, 'bounc': 4480, 'bewar': 4481, 'effici': 4482, 'martha': 4483, 'oblig': 4484, 'athlet': 4485, 'exterior': 4486, 'brendan': 4487, 'narrow': 4488, 'gina': 4489, 'acquaint': 4490, 'decept': 4491, 'christin': 4492, 'clueless': 4493, 'despic': 4494, 'hain': 4495, 'weather': 4496, 'baffl': 4497, 'patricia': 4498, 'sweat': 4499, 'kline': 4500, 'gillian': 4501, 'virtu': 4502, 'tick': 4503, 'sleepwalk': 4504, 'lester': 4505, 'angst': 4506, 'astound': 4507, 'mermaid': 4508, 'enlist': 4509, 'hepburn': 4510, 'analyz': 4511, '19': 4512, 'suprem': 4513, 'harmless': 4514, '73': 4515, 'trigger': 4516, 'mayhem': 4517, 'viewpoint': 4518, 'headach': 4519, 'uh': 4520, 'circu': 4521, 'scar': 4522, 'housewif': 4523, 'shatter': 4524, 'biker': 4525, 'goof': 4526, 'candl': 4527, 'injur': 4528, 'sooner': 4529, 'rome': 4530, 'insipid': 4531, 'taboo': 4532, 'preachi': 4533, 'loath': 4534, 'dilemma': 4535, 'loi': 4536, 'fontain': 4537, 'renaiss': 4538, 'dandi': 4539, 'outlaw': 4540, 'bent': 4541, 'contempt': 4542, 'dismal': 4543, 'gere': 4544, 'immatur': 4545, 'glorifi': 4546, 'surgeri': 4547, 'hokey': 4548, 'overlong': 4549, 'spade': 4550, 'phenomenon': 4551, 'oldest': 4552, 'cassavet': 4553, 'stair': 4554, 'hooker': 4555, 'whore': 4556, 'claustrophob': 4557, 'amor': 4558, 'steer': 4559, 'foolish': 4560, 'scorses': 4561, 'macho': 4562, 'hostag': 4563, 'corbett': 4564, 'tripl': 4565, 'zoom': 4566, 'stimul': 4567, 'filth': 4568, 'fluff': 4569, 'intric': 4570, 'salt': 4571, 'ebert': 4572, 'sox': 4573, 'slimi': 4574, 'camcord': 4575, 'boston': 4576, 'idol': 4577, 'dish': 4578, 'ariel': 4579, 'redund': 4580, 'guin': 4581, 'mutual': 4582, 'spree': 4583, 'cow': 4584, 'frantic': 4585, '1976': 4586, 'corman': 4587, 'messi': 4588, 'cush': 4589, 'gasp': 4590, 'shred': 4591, 'gabl': 4592, 'faint': 4593, 'rhyme': 4594, 'spinal': 4595, 'proport': 4596, 'dwarf': 4597, 'down': 4598, '1981': 4599, 'keen': 4600, 'strongest': 4601, 'remad': 4602, 'naschi': 4603, 'perman': 4604, 'trivia': 4605, 'joker': 4606, 'nolt': 4607, 'margin': 4608, 'shield': 4609, 'astronaut': 4610, 'flashi': 4611, 'assert': 4612, 'schlock': 4613, 'obligatori': 4614, 'flirt': 4615, 'transplant': 4616, 'muscl': 4617, 'fascist': 4618, 'preced': 4619, 'radiat': 4620, 'zane': 4621, 'beard': 4622, 'cohen': 4623, 'mount': 4624, 'conquer': 4625, 'antagonist': 4626, 'widescreen': 4627, 'flag': 4628, 'harold': 4629, 'alvin': 4630, 'persuad': 4631, '1945': 4632, 'flock': 4633, 'boob': 4634, 'divin': 4635, 'info': 4636, 'wield': 4637, 'claud': 4638, 'scandal': 4639, 'strive': 4640, 'triangl': 4641, 'fishburn': 4642, 'someday': 4643, 'sensual': 4644, 'bitten': 4645, 'deer': 4646, 'carey': 4647, 'resum': 4648, '95': 4649, 'www': 4650, 'repris': 4651, 'mol': 4652, 'interestingli': 4653, 'mobil': 4654, '28': 4655, 'discern': 4656, 'danish': 4657, 'departur': 4658, 'barn': 4659, 'bachelor': 4660, 'archiv': 4661, 'neurot': 4662, 'off': 4663, 'vaniti': 4664, 'raj': 4665, 'aborigin': 4666, 'instruct': 4667, 'brush': 4668, 'ritchi': 4669, 'inflict': 4670, 'hara': 4671, 'melissa': 4672, 'fragil': 4673, 'senior': 4674, 'recit': 4675, 'pixar': 4676, 'kathryn': 4677, 'mobster': 4678, 'jade': 4679, 'rot': 4680, 'luka': 4681, 'loretta': 4682, 'heartwarm': 4683, 'hug': 4684, 'parson': 4685, 'dylan': 4686, 'proclaim': 4687, 'traffic': 4688, 'helm': 4689, 'timberlak': 4690, 'submit': 4691, 'pacif': 4692, 'artwork': 4693, 'neill': 4694, 'casino': 4695, 'axe': 4696, 'dame': 4697, 'hilar': 4698, 'cycl': 4699, 'vibrant': 4700, 'hapless': 4701, 'carlo': 4702, 'anton': 4703, 'harrison': 4704, 'clad': 4705, 'cliffhang': 4706, 'wendigo': 4707, 'colin': 4708, 'miracul': 4709, 'prophet': 4710, 'banter': 4711, 'dim': 4712, 'ish': 4713, 'bate': 4714, 'undermin': 4715, 'cb': 4716, 'biblic': 4717, 'frontier': 4718, 'earnest': 4719, 'europa': 4720, 'pickford': 4721, 'cher': 4722, 'electron': 4723, 'nope': 4724, 'redneck': 4725, 'legitim': 4726, 'rooki': 4727, 'wardrob': 4728, 'lucil': 4729, 'milo': 4730, 'mathieu': 4731, 'aris': 4732, 'marlon': 4733, 'holocaust': 4734, 'static': 4735, 'sicken': 4736, 'vile': 4737, 'winchest': 4738, 'blatantli': 4739, 'jordan': 4740, 'vanessa': 4741, 'http': 4742, 'venom': 4743, 'flavor': 4744, 'uma': 4745, 'mason': 4746, 'breakfast': 4747, 'bondag': 4748, 'northern': 4749, 'articl': 4750, 'shepherd': 4751, 'cerebr': 4752, 'bikini': 4753, 'toronto': 4754, 'razor': 4755, 'akin': 4756, 'misfortun': 4757, 'feast': 4758, 'seedi': 4759, 'foil': 4760, 'antholog': 4761, 'pc': 4762, 'estrang': 4763, 'orphan': 4764, 'illus': 4765, 'isra': 4766, 'lui': 4767, 'eli': 4768, 'jo': 4769, 'token': 4770, 'alexandr': 4771, 'trier': 4772, 'choke': 4773, 'psych': 4774, 'huston': 4775, 'cartoonish': 4776, 'gilbert': 4777, 'disregard': 4778, 'turd': 4779, 'smack': 4780, 'comprehend': 4781, 'nightclub': 4782, 'swept': 4783, 'shorter': 4784, 'charlton': 4785, 'outdat': 4786, 'wrestler': 4787, 'peer': 4788, 'feminin': 4789, 'knightley': 4790, 'boyer': 4791, 'linear': 4792, 'ideolog': 4793, 'retriev': 4794, 'abund': 4795, 'styliz': 4796, 'audrey': 4797, 'oppon': 4798, 'deem': 4799, 'fifth': 4800, 'clinic': 4801, 'howl': 4802, 'dudley': 4803, 'highway': 4804, 'affleck': 4805, 'tack': 4806, 'leather': 4807, 'glare': 4808, 'frog': 4809, 'ceremoni': 4810, 'magician': 4811, 'gunga': 4812, '4th': 4813, 'uniformli': 4814, 'potter': 4815, 'deliver': 4816, 'conrad': 4817, 'greet': 4818, 'durat': 4819, 'senat': 4820, 'lighter': 4821, 'cemeteri': 4822, 'monument': 4823, 'newer': 4824, 'sleaz': 4825, 'snatch': 4826, 'moe': 4827, 'bogu': 4828, 'whack': 4829, 'client': 4830, 'collector': 4831, '1994': 4832, 'braveheart': 4833, 'tara': 4834, 'bastard': 4835, 'evolut': 4836, 'corn': 4837, 'compris': 4838, 'lifeless': 4839, 'toe': 4840, '1991': 4841, 'spine': 4842, 'lavish': 4843, 'chip': 4844, 'goldsworthi': 4845, 'boo': 4846, 'energet': 4847, 'salman': 4848, 'plate': 4849, 'mitch': 4850, 'spawn': 4851, 'btw': 4852, 'cuban': 4853, 'phenomen': 4854, 'einstein': 4855, 'breakdown': 4856, 'summar': 4857, 'undead': 4858, 'jam': 4859, 'sorrow': 4860, 'replay': 4861, 'ol': 4862, 'neatli': 4863, 'randolph': 4864, 'jule': 4865, 'pronounc': 4866, 'ie': 4867, 'clara': 4868, 'undertak': 4869, 'nina': 4870, 'belli': 4871, 'firmli': 4872, 'outright': 4873, 'kent': 4874, 'spectacl': 4875, 'cecil': 4876, 'appl': 4877, 'creek': 4878, '1974': 4879, 'inaccuraci': 4880, 'constitut': 4881, 'alleg': 4882, 'fluid': 4883, 'embark': 4884, 'wtf': 4885, 'bori': 4886, 'occup': 4887, 'healthi': 4888, 'jare': 4889, 'historian': 4890, 'bulk': 4891, 'liu': 4892, 'lex': 4893, 'judd': 4894, 'capot': 4895, 'trauma': 4896, 'mcqueen': 4897, 'signal': 4898, '1977': 4899, 'eleven': 4900, 'armstrong': 4901, 'luxuri': 4902, 'jedi': 4903, 'kazan': 4904, 'gilliam': 4905, 'evelyn': 4906, 'sacrif': 4907, 'ash': 4908, 'rosario': 4909, 'blur': 4910, 'spray': 4911, 'abound': 4912, 'conan': 4913, 'lauren': 4914, 'vignett': 4915, 'unsuspect': 4916, 'palm': 4917, 'porter': 4918, 'sidewalk': 4919, 'genet': 4920, '1985': 4921, 'meal': 4922, 'comprehens': 4923, 'vain': 4924, 'kiddi': 4925, 'roar': 4926, 'comb': 4927, 'groan': 4928, 'miami': 4929, 'id': 4930, 'decapit': 4931, 'pepper': 4932, 'congratul': 4933, 'basket': 4934, 'knee': 4935, 'walt': 4936, 'miniseri': 4937, 'goldblum': 4938, 'tokyo': 4939, 'cape': 4940, 'pioneer': 4941, 'unattract': 4942, 'mum': 4943, 'antonio': 4944, 'forgiven': 4945, 'poker': 4946, 'inaccur': 4947, 'fruit': 4948, 'inclus': 4949, 'galaxi': 4950, 'bsg': 4951, 'lanc': 4952, 'carmen': 4953, 'relentless': 4954, 'truman': 4955, 'propheci': 4956, 'subtli': 4957, 'bait': 4958, 'curtain': 4959, 'paula': 4960, 'aussi': 4961, 'macabr': 4962, 'sparkl': 4963, 'rapidli': 4964, 'drone': 4965, 'jill': 4966, 'evan': 4967, 'mice': 4968, 'sophi': 4969, 'assort': 4970, 'hostil': 4971, 'weari': 4972, 'frontal': 4973, 'masterson': 4974, 'playboy': 4975, 'omin': 4976, 'vastli': 4977, 'scariest': 4978, 'motorcycl': 4979, 'asset': 4980, '21st': 4981, 'bravo': 4982, 'modest': 4983, 'ghetto': 4984, 'growth': 4985, 'victorian': 4986, 'spill': 4987, 'epitom': 4988, 'monti': 4989, 'casper': 4990, 'reincarn': 4991, 'verg': 4992, 'turtl': 4993, 'detach': 4994, 'profil': 4995, 'weaker': 4996, 'scarfac': 4997}\n"
     ]
    }
   ],
   "source": [
    "word_dict = build_dict(train_X)"
   ]
  },
  {
   "cell_type": "markdown",
   "metadata": {},
   "source": [
    "**Question:** What are the five most frequently appearing (tokenized) words in the training set? Does it makes sense that these words appear frequently in the training set?"
   ]
  },
  {
   "cell_type": "markdown",
   "metadata": {},
   "source": [
    "**Answer:**"
   ]
  },
  {
   "cell_type": "code",
   "execution_count": 71,
   "metadata": {},
   "outputs": [
    {
     "data": {
      "text/plain": [
       "['scarfac', 'weaker', 'profil', 'detach', 'turtl']"
      ]
     },
     "execution_count": 71,
     "metadata": {},
     "output_type": "execute_result"
    }
   ],
   "source": [
    "# TODO: Use this space to determine the five most frequently appearing words in the training set.\n",
    "sorted(word_dict, key = word_dict.get, reverse = True)[0: 5]"
   ]
  },
  {
   "cell_type": "markdown",
   "metadata": {},
   "source": [
    "### Save `word_dict`\n",
    "\n",
    "Later on when we construct an endpoint which processes a submitted review we will need to make use of the `word_dict` which we have created. As such, we will save it to a file now for future use."
   ]
  },
  {
   "cell_type": "code",
   "execution_count": 72,
   "metadata": {},
   "outputs": [],
   "source": [
    "data_dir = '../data/pytorch' # The folder we will use for storing data\n",
    "if not os.path.exists(data_dir): # Make sure that the folder exists\n",
    "    os.makedirs(data_dir)"
   ]
  },
  {
   "cell_type": "code",
   "execution_count": 73,
   "metadata": {},
   "outputs": [],
   "source": [
    "with open(os.path.join(data_dir, 'word_dict.pkl'), \"wb\") as f:\n",
    "    pickle.dump(word_dict, f)"
   ]
  },
  {
   "cell_type": "markdown",
   "metadata": {},
   "source": [
    "### Transform the reviews\n",
    "\n",
    "Now that we have our word dictionary which allows us to transform the words appearing in the reviews into integers, it is time to make use of it and convert our reviews to their integer sequence representation, making sure to pad or truncate to a fixed length, which in our case is `500`."
   ]
  },
  {
   "cell_type": "code",
   "execution_count": 74,
   "metadata": {},
   "outputs": [],
   "source": [
    "def convert_and_pad(word_dict, sentence, pad=500):\n",
    "    NOWORD = 0 # We will use 0 to represent the 'no word' category\n",
    "    INFREQ = 1 # and we use 1 to represent the infrequent words, i.e., words not appearing in word_dict\n",
    "    \n",
    "    working_sentence = [NOWORD] * pad\n",
    "    \n",
    "    for word_index, word in enumerate(sentence[:pad]):\n",
    "        if word in word_dict:\n",
    "            working_sentence[word_index] = word_dict[word]\n",
    "        else:\n",
    "            working_sentence[word_index] = INFREQ\n",
    "            \n",
    "    return working_sentence, min(len(sentence), pad)\n",
    "\n",
    "def convert_and_pad_data(word_dict, data, pad=500):\n",
    "    result = []\n",
    "    lengths = []\n",
    "    \n",
    "    for sentence in data:\n",
    "        converted, leng = convert_and_pad(word_dict, sentence, pad)\n",
    "        result.append(converted)\n",
    "        lengths.append(leng)\n",
    "        \n",
    "    return np.array(result), np.array(lengths)"
   ]
  },
  {
   "cell_type": "code",
   "execution_count": 75,
   "metadata": {},
   "outputs": [],
   "source": [
    "train_X, train_X_len = convert_and_pad_data(word_dict, train_X)\n",
    "test_X, test_X_len = convert_and_pad_data(word_dict, test_X)"
   ]
  },
  {
   "cell_type": "code",
   "execution_count": 76,
   "metadata": {},
   "outputs": [
    {
     "name": "stdout",
     "output_type": "stream",
     "text": [
      "(25000, 500)\n"
     ]
    }
   ],
   "source": [
    "print(test_X.shape)"
   ]
  },
  {
   "cell_type": "markdown",
   "metadata": {},
   "source": [
    "As a quick check to make sure that things are working as intended, check to see what one of the reviews in the training set looks like after having been processeed. Does this look reasonable? What is the length of a review in the training set?"
   ]
  },
  {
   "cell_type": "code",
   "execution_count": 77,
   "metadata": {},
   "outputs": [
    {
     "name": "stdout",
     "output_type": "stream",
     "text": [
      "Words processed: \n",
      " [  77 3780    0  380  515  522   70 3780  291 2243 2243 2243 2565    1\n",
      "  292  136   57   31 2347 1869  337   57   10  166  118  399  337  235\n",
      " 1738  337   47    9 3780 4813    0  231 3780 4813    0  985   95   40\n",
      " 2272 3780    1 2094 1227    1    1    1 2130   74   18    1 3217  235\n",
      "  155 1154 1146   42  619  371   89 3780    1 4908 1035    1  130    1\n",
      "    1  939    1 1154 4908  126  633  130  663 4582   27 3780 1154    1\n",
      "    1 2375  269   24  167  221  309 1555    1  605   11  597 2718 1159\n",
      "    1  155 3236  536 4541  658    1   20 4908 1154  440 1555    1 3236\n",
      "  352 1321    1  649  267    1  506    1 1767   61    0 1154   14    3\n",
      "   26  287    0   23    0  309 3196   23  425  404  268 3780  419 4470\n",
      " 3604 1054 3583 3505    1 1026   23  425  309   47  425  119    1  974\n",
      " 3780 4813    0  268 3780    0  185  127   45  930  289   12  629  121\n",
      "   75    0  127   35   91  134  641   90 3780   36  126 3780  121    0\n",
      "  778   75  163  599   26  287 3780    0 3780 4813    0 2615    1  485\n",
      "   25   38 1812  111    1 3780    0  277  420 1317 1645    1  918    1\n",
      " 3506 1441    1 3780 4813    0   45  149    1  994  277  258  273    1\n",
      "  259  157   14   17  779    4  187    1    9  649  138    1  259  165\n",
      "    1  557 1240 1217 1508  139  195 1675  277  619    1  277 3780 4813\n",
      "    0  187 1343  277 3328    1  162    1    0    0    0    0    0    0\n",
      "    0    0    0    0    0    0    0    0    0    0    0    0    0    0\n",
      "    0    0    0    0    0    0    0    0    0    0    0    0    0    0\n",
      "    0    0    0    0    0    0    0    0    0    0    0    0    0    0\n",
      "    0    0    0    0    0    0    0    0    0    0    0    0    0    0\n",
      "    0    0    0    0    0    0    0    0    0    0    0    0    0    0\n",
      "    0    0    0    0    0    0    0    0    0    0    0    0    0    0\n",
      "    0    0    0    0    0    0    0    0    0    0    0    0    0    0\n",
      "    0    0    0    0    0    0    0    0    0    0    0    0    0    0\n",
      "    0    0    0    0    0    0    0    0    0    0    0    0    0    0\n",
      "    0    0    0    0    0    0    0    0    0    0    0    0    0    0\n",
      "    0    0    0    0    0    0    0    0    0    0    0    0    0    0\n",
      "    0    0    0    0    0    0    0    0    0    0    0    0    0    0\n",
      "    0    0    0    0    0    0    0    0    0    0    0    0    0    0\n",
      "    0    0    0    0    0    0    0    0    0    0    0    0    0    0\n",
      "    0    0    0    0    0    0    0    0    0    0    0    0    0    0\n",
      "    0    0    0    0    0    0    0    0    0    0    0    0    0    0\n",
      "    0    0    0    0    0    0    0    0    0    0]\n",
      "Number of words:  260\n"
     ]
    }
   ],
   "source": [
    "# Use this cell to examine one of the processed reviews to make sure everything is working as intended.\n",
    "print(\"Words processed: \\n\", train_X[2])\n",
    "print(\"Number of words: \", train_X_len[2])"
   ]
  },
  {
   "cell_type": "markdown",
   "metadata": {},
   "source": [
    "**Question:** In the cells above we use the `preprocess_data` and `convert_and_pad_data` methods to process both the training and testing set. Why or why not might this be a problem?"
   ]
  },
  {
   "cell_type": "markdown",
   "metadata": {},
   "source": [
    "**Answer:**\n",
    "\n",
    "By using the same methods to process the training and testing sets, that means the data is being consistently processed. \n",
    "\n",
    "- __Limitations__ - we are truncating reviews to just 500 words. For reviews that use longer than 500 words, we will be losing useful information to help the neural network to learn. \n",
    "- __word_dict__ is based on a corpus of reviews: if a new review has words not included in word_dict, then they won't be considered by the neural network thus leading to potentially erroneous results. \n",
    "- __English only__ as the corpus is in English, this model won't be able to handle reviews in other languages. \n"
   ]
  },
  {
   "cell_type": "markdown",
   "metadata": {},
   "source": [
    "## Step 3: Upload the data to S3\n",
    "\n",
    "As in the XGBoost notebook, we will need to upload the training dataset to S3 in order for our training code to access it. For now we will save it locally and we will upload to S3 later on.\n",
    "\n",
    "### Save the processed training dataset locally\n",
    "\n",
    "It is important to note the format of the data that we are saving as we will need to know it when we write the training code. In our case, each row of the dataset has the form `label`, `length`, `review[500]` where `review[500]` is a sequence of `500` integers representing the words in the review."
   ]
  },
  {
   "cell_type": "code",
   "execution_count": 78,
   "metadata": {},
   "outputs": [],
   "source": [
    "import pandas as pd\n",
    "    \n",
    "pd.concat([pd.DataFrame(train_y), pd.DataFrame(train_X_len), pd.DataFrame(train_X)], axis=1) \\\n",
    "        .to_csv(os.path.join(data_dir, 'train.csv'), header=False, index=False)"
   ]
  },
  {
   "cell_type": "markdown",
   "metadata": {},
   "source": [
    "### Uploading the training data\n",
    "\n",
    "\n",
    "Next, we need to upload the training data to the SageMaker default S3 bucket so that we can provide access to it while training our model."
   ]
  },
  {
   "cell_type": "code",
   "execution_count": 79,
   "metadata": {},
   "outputs": [],
   "source": [
    "import sagemaker\n",
    "\n",
    "sagemaker_session = sagemaker.Session()\n",
    "\n",
    "bucket = sagemaker_session.default_bucket()\n",
    "prefix = 'sagemaker/sentiment_rnn' \n",
    "\n",
    "role = sagemaker.get_execution_role()"
   ]
  },
  {
   "cell_type": "code",
   "execution_count": 80,
   "metadata": {},
   "outputs": [],
   "source": [
    "input_data = sagemaker_session.upload_data(path=data_dir, bucket=bucket, key_prefix=prefix)"
   ]
  },
  {
   "cell_type": "markdown",
   "metadata": {},
   "source": [
    "**NOTE:** The cell above uploads the entire contents of our data directory. This includes the `word_dict.pkl` file. This is fortunate as we will need this later on when we create an endpoint that accepts an arbitrary review. For now, we will just take note of the fact that it resides in the data directory (and so also in the S3 training bucket) and that we will need to make sure it gets saved in the model directory."
   ]
  },
  {
   "cell_type": "markdown",
   "metadata": {},
   "source": [
    "## Step 4: Build and Train the PyTorch Model\n",
    "\n",
    "In the XGBoost notebook we discussed what a model is in the SageMaker framework. In particular, a model comprises three objects\n",
    "\n",
    " - Model Artifacts\n",
    " - Training Code\n",
    " - Inference Code\n",
    " \n",
    "each of which interact with one another. In the XGBoost example we used training and inference code that was provided by Amazon. Here we will still be using containers provided by Amazon with the added benefit of being able to include our own custom code.\n",
    "\n",
    "We will start by implementing our own neural network in PyTorch along with a training script. For the purposes of this project we have provided the necessary model object in the `model.py` file, inside of the `train` folder. You can see the provided implementation by running the cell below."
   ]
  },
  {
   "cell_type": "code",
   "execution_count": 40,
   "metadata": {},
   "outputs": [
    {
     "name": "stdout",
     "output_type": "stream",
     "text": [
      "\u001b[34mimport\u001b[39;49;00m \u001b[04m\u001b[36mtorch.nn\u001b[39;49;00m \u001b[34mas\u001b[39;49;00m \u001b[04m\u001b[36mnn\u001b[39;49;00m\r\n",
      "\r\n",
      "\u001b[34mclass\u001b[39;49;00m \u001b[04m\u001b[32mLSTMClassifier\u001b[39;49;00m(nn.Module):\r\n",
      "    \u001b[33m\"\"\"\u001b[39;49;00m\r\n",
      "\u001b[33m    This is the simple RNN model we will be using to perform Sentiment Analysis.\u001b[39;49;00m\r\n",
      "\u001b[33m    \"\"\"\u001b[39;49;00m\r\n",
      "\r\n",
      "    \u001b[34mdef\u001b[39;49;00m \u001b[32m__init__\u001b[39;49;00m(\u001b[36mself\u001b[39;49;00m, embedding_dim, hidden_dim, vocab_size):\r\n",
      "        \u001b[33m\"\"\"\u001b[39;49;00m\r\n",
      "\u001b[33m        Initialize the model by settingg up the various layers.\u001b[39;49;00m\r\n",
      "\u001b[33m        \"\"\"\u001b[39;49;00m\r\n",
      "        \u001b[36msuper\u001b[39;49;00m(LSTMClassifier, \u001b[36mself\u001b[39;49;00m).\u001b[32m__init__\u001b[39;49;00m()\r\n",
      "\r\n",
      "        \u001b[36mself\u001b[39;49;00m.embedding = nn.Embedding(vocab_size, embedding_dim, padding_idx=\u001b[34m0\u001b[39;49;00m)\r\n",
      "        \u001b[36mself\u001b[39;49;00m.lstm = nn.LSTM(embedding_dim, hidden_dim)\r\n",
      "        \u001b[36mself\u001b[39;49;00m.dense = nn.Linear(in_features=hidden_dim, out_features=\u001b[34m1\u001b[39;49;00m)\r\n",
      "        \u001b[36mself\u001b[39;49;00m.sig = nn.Sigmoid()\r\n",
      "        \r\n",
      "        \u001b[36mself\u001b[39;49;00m.word_dict = \u001b[36mNone\u001b[39;49;00m\r\n",
      "\r\n",
      "    \u001b[34mdef\u001b[39;49;00m \u001b[32mforward\u001b[39;49;00m(\u001b[36mself\u001b[39;49;00m, x):\r\n",
      "        \u001b[33m\"\"\"\u001b[39;49;00m\r\n",
      "\u001b[33m        Perform a forward pass of our model on some input.\u001b[39;49;00m\r\n",
      "\u001b[33m        \"\"\"\u001b[39;49;00m\r\n",
      "        x = x.t()\r\n",
      "        lengths = x[\u001b[34m0\u001b[39;49;00m,:]\r\n",
      "        reviews = x[\u001b[34m1\u001b[39;49;00m:,:]\r\n",
      "        embeds = \u001b[36mself\u001b[39;49;00m.embedding(reviews)\r\n",
      "        lstm_out, _ = \u001b[36mself\u001b[39;49;00m.lstm(embeds)\r\n",
      "        out = \u001b[36mself\u001b[39;49;00m.dense(lstm_out)\r\n",
      "        out = out[lengths - \u001b[34m1\u001b[39;49;00m, \u001b[36mrange\u001b[39;49;00m(\u001b[36mlen\u001b[39;49;00m(lengths))]\r\n",
      "        \u001b[34mreturn\u001b[39;49;00m \u001b[36mself\u001b[39;49;00m.sig(out.squeeze())\r\n"
     ]
    }
   ],
   "source": [
    "!pygmentize train/model.py"
   ]
  },
  {
   "cell_type": "markdown",
   "metadata": {},
   "source": [
    "The important takeaway from the implementation provided is that there are three parameters that we may wish to tweak to improve the performance of our model. These are the __embedding dimension, the hidden dimension and the size of the vocabulary__. We will likely want to make these parameters configurable in the training script so that if we wish to modify them we do not need to modify the script itself. We will see how to do this later on. To start we will write some of the training code in the notebook so that we can more easily diagnose any issues that arise.\n",
    "\n",
    "First we will load a small portion of the training data set to use as a sample. It would be very time consuming to try and train the model completely in the notebook as we do not have access to a gpu and the compute instance that we are using is not particularly powerful. However, we can work on a small bit of the data to get a feel for how our training script is behaving."
   ]
  },
  {
   "cell_type": "code",
   "execution_count": 81,
   "metadata": {},
   "outputs": [],
   "source": [
    "import torch\n",
    "import torch.utils.data\n",
    "\n",
    "# Read in only the first 250 rows\n",
    "train_sample = pd.read_csv(os.path.join(data_dir, 'train.csv'), header=None, names=None, nrows=250)\n",
    "\n",
    "# Turn the input pandas dataframe into tensors\n",
    "train_sample_X = torch.from_numpy(train_sample.drop([0], axis=1).values).long() # if this is changed to float, then the same error occurs. \n",
    "train_sample_y = torch.from_numpy(train_sample[[0]].values).float().squeeze() \n",
    "\n",
    "# Build the dataset\n",
    "train_sample_ds = torch.utils.data.TensorDataset(train_sample_X, train_sample_y)\n",
    "\n",
    "# Build the dataloader\n",
    "train_sample_dl = torch.utils.data.DataLoader(train_sample_ds, batch_size=50)"
   ]
  },
  {
   "cell_type": "code",
   "execution_count": 82,
   "metadata": {},
   "outputs": [
    {
     "name": "stdout",
     "output_type": "stream",
     "text": [
      "(250, 502)\n"
     ]
    }
   ],
   "source": [
    "print(train_sample.shape\n",
    "     )"
   ]
  },
  {
   "cell_type": "markdown",
   "metadata": {},
   "source": [
    "### (TODO) Writing the training method\n",
    "\n",
    "Next we need to write the training code itself. This should be very similar to training methods that you have written before to train PyTorch models. We will leave any difficult aspects such as model saving / loading and parameter loading until a little later."
   ]
  },
  {
   "cell_type": "code",
   "execution_count": 42,
   "metadata": {},
   "outputs": [],
   "source": [
    "def train(model, train_loader, epochs, optimizer, loss_fn, device):\n",
    "    print('\\nTraining on device: ', device)\n",
    "    print('\\nTraining starts ...')\n",
    "    for epoch in range(1, epochs + 1):\n",
    "        model.train()\n",
    "        total_loss = 0.0\n",
    "        \n",
    "        for batch in train_loader:         \n",
    "            batch_X, batch_y = batch\n",
    "            batch_X = batch_X.to(device)\n",
    "            batch_y = batch_y.to(device)\n",
    "            \n",
    "            # TODO: Complete this train method to train the model provided.\n",
    "            \n",
    "            # Forward pass           \n",
    "            output = model(batch_X)\n",
    "            \n",
    "            # Back propagation\n",
    "            loss = loss_fn(output, batch_y)\n",
    "            loss.backward()\n",
    "            optimizer.step()\n",
    "            \n",
    "            total_loss += loss.data.item()\n",
    "            \n",
    "        print(\"Epoch: {}, BCELoss: {}\".format(epoch, total_loss / len(train_loader)))"
   ]
  },
  {
   "cell_type": "markdown",
   "metadata": {},
   "source": [
    "Supposing we have the training method above, we will test that it is working by writing a bit of code in the notebook that executes our training method on the small sample training set that we loaded earlier. The reason for doing this in the notebook is so that we have an opportunity to fix any errors that arise early when they are easier to diagnose."
   ]
  },
  {
   "cell_type": "code",
   "execution_count": 43,
   "metadata": {},
   "outputs": [
    {
     "name": "stdout",
     "output_type": "stream",
     "text": [
      "\n",
      "Training on device:  cuda\n",
      "\n",
      "Training starts ...\n",
      "Epoch: 1, BCELoss: 0.6933937191963195\n",
      "Epoch: 2, BCELoss: 0.6789440751075745\n",
      "Epoch: 3, BCELoss: 0.6630350828170777\n",
      "Epoch: 4, BCELoss: 0.6437205791473388\n",
      "Epoch: 5, BCELoss: 0.62007817029953\n",
      "Epoch: 6, BCELoss: 0.592426061630249\n",
      "Epoch: 7, BCELoss: 0.5527603209018708\n",
      "Epoch: 8, BCELoss: 0.5492332816123963\n"
     ]
    }
   ],
   "source": [
    "import torch.optim as optim\n",
    "from train.model import LSTMClassifier\n",
    "\n",
    "device = torch.device(\"cuda\" if torch.cuda.is_available() else \"cpu\")\n",
    "model = LSTMClassifier(32, 100, 5000).to(device)\n",
    "optimizer = optim.Adam(model.parameters())\n",
    "loss_fn = torch.nn.BCELoss() # this is the criterion\n",
    "\n",
    "train(model, train_sample_dl, 8, optimizer, loss_fn, device)"
   ]
  },
  {
   "cell_type": "markdown",
   "metadata": {},
   "source": [
    "In order to construct a PyTorch model using SageMaker we must provide SageMaker with a training script. We may optionally include a directory which will be copied to the container and from which our training code will be run. When the training container is executed it will check the uploaded directory (if there is one) for a `requirements.txt` file and install any required Python libraries, after which the training script will be run."
   ]
  },
  {
   "cell_type": "markdown",
   "metadata": {},
   "source": [
    "### (TODO) Training the model\n",
    "\n",
    "When a PyTorch model is constructed in SageMaker, an entry point must be specified. This is the Python file which will be executed when the model is trained. Inside of the `train` directory is a file called `train.py` which has been provided and which contains most of the necessary code to train our model. The only thing that is missing is the implementation of the `train()` method which you wrote earlier in this notebook.\n",
    "\n",
    "**TODO**: Copy the `train()` method written above and paste it into the `train/train.py` file where required.\n",
    "\n",
    "The way that SageMaker passes hyperparameters to the training script is by way of arguments. These arguments can then be parsed and used in the training script. To see how this is done take a look at the provided `train/train.py` file."
   ]
  },
  {
   "cell_type": "code",
   "execution_count": 135,
   "metadata": {},
   "outputs": [],
   "source": [
    "from sagemaker.pytorch import PyTorch\n",
    "\n",
    "# Constructing the estimator object\n",
    "estimator = PyTorch(entry_point=\"train.py\", # will be executed when the model is trained\n",
    "                    source_dir=\"train\",\n",
    "                    role=role,\n",
    "                    framework_version='0.4.0',\n",
    "                    train_instance_count=1,\n",
    "                    train_instance_type='ml.p2.xlarge',\n",
    "                    hyperparameters={\n",
    "                        'epochs': 10,\n",
    "                        'hidden_dim': 200,\n",
    "                    })"
   ]
  },
  {
   "cell_type": "code",
   "execution_count": 136,
   "metadata": {},
   "outputs": [
    {
     "name": "stdout",
     "output_type": "stream",
     "text": [
      "2019-05-27 10:37:44 Starting - Starting the training job...\n",
      "2019-05-27 10:37:45 Starting - Launching requested ML instances......\n",
      "2019-05-27 10:38:51 Starting - Preparing the instances for training......\n",
      "2019-05-27 10:40:05 Downloading - Downloading input data...\n",
      "2019-05-27 10:40:32 Training - Downloading the training image...\n",
      "2019-05-27 10:41:05 Training - Training image download completed. Training in progress.\n",
      "\u001b[31mbash: cannot set terminal process group (-1): Inappropriate ioctl for device\u001b[0m\n",
      "\u001b[31mbash: no job control in this shell\u001b[0m\n",
      "\u001b[31m2019-05-27 10:41:06,357 sagemaker-containers INFO     Imported framework sagemaker_pytorch_container.training\u001b[0m\n",
      "\u001b[31m2019-05-27 10:41:06,397 sagemaker_pytorch_container.training INFO     Block until all host DNS lookups succeed.\u001b[0m\n",
      "\u001b[31m2019-05-27 10:41:09,406 sagemaker_pytorch_container.training INFO     Invoking user training script.\u001b[0m\n",
      "\u001b[31m2019-05-27 10:41:09,637 sagemaker-containers INFO     Module train does not provide a setup.py. \u001b[0m\n",
      "\u001b[31mGenerating setup.py\u001b[0m\n",
      "\u001b[31m2019-05-27 10:41:09,638 sagemaker-containers INFO     Generating setup.cfg\u001b[0m\n",
      "\u001b[31m2019-05-27 10:41:09,638 sagemaker-containers INFO     Generating MANIFEST.in\u001b[0m\n",
      "\u001b[31m2019-05-27 10:41:09,638 sagemaker-containers INFO     Installing module with the following command:\u001b[0m\n",
      "\u001b[31m/usr/bin/python -m pip install -U . -r requirements.txt\u001b[0m\n",
      "\u001b[31mProcessing /opt/ml/code\u001b[0m\n",
      "\u001b[31mCollecting pandas (from -r requirements.txt (line 1))\u001b[0m\n",
      "\u001b[31m  Downloading https://files.pythonhosted.org/packages/74/24/0cdbf8907e1e3bc5a8da03345c23cbed7044330bb8f73bb12e711a640a00/pandas-0.24.2-cp35-cp35m-manylinux1_x86_64.whl (10.0MB)\u001b[0m\n",
      "\u001b[31mCollecting numpy (from -r requirements.txt (line 2))\n",
      "  Downloading https://files.pythonhosted.org/packages/f6/f3/cc6c6745347c1e997cc3e58390584a250b8e22b6dfc45414a7d69a3df016/numpy-1.16.3-cp35-cp35m-manylinux1_x86_64.whl (17.2MB)\u001b[0m\n",
      "\u001b[31mCollecting nltk (from -r requirements.txt (line 3))\n",
      "  Downloading https://files.pythonhosted.org/packages/73/56/90178929712ce427ebad179f8dc46c8deef4e89d4c853092bee1efd57d05/nltk-3.4.1.zip (3.1MB)\u001b[0m\n",
      "\u001b[31mCollecting beautifulsoup4 (from -r requirements.txt (line 4))\n",
      "  Downloading https://files.pythonhosted.org/packages/1d/5d/3260694a59df0ec52f8b4883f5d23b130bc237602a1411fa670eae12351e/beautifulsoup4-4.7.1-py3-none-any.whl (94kB)\u001b[0m\n",
      "\u001b[31mCollecting html5lib (from -r requirements.txt (line 5))\n",
      "  Downloading https://files.pythonhosted.org/packages/a5/62/bbd2be0e7943ec8504b517e62bab011b4946e1258842bc159e5dfde15b96/html5lib-1.0.1-py2.py3-none-any.whl (117kB)\u001b[0m\n",
      "\u001b[31mCollecting pytz>=2011k (from pandas->-r requirements.txt (line 1))\n",
      "  Downloading https://files.pythonhosted.org/packages/3d/73/fe30c2daaaa0713420d0382b16fbb761409f532c56bdcc514bf7b6262bb6/pytz-2019.1-py2.py3-none-any.whl (510kB)\u001b[0m\n",
      "\u001b[31mRequirement already satisfied, skipping upgrade: python-dateutil>=2.5.0 in /usr/local/lib/python3.5/dist-packages (from pandas->-r requirements.txt (line 1)) (2.7.5)\u001b[0m\n",
      "\u001b[31mRequirement already satisfied, skipping upgrade: six in /usr/local/lib/python3.5/dist-packages (from nltk->-r requirements.txt (line 3)) (1.11.0)\u001b[0m\n",
      "\u001b[31mCollecting soupsieve>=1.2 (from beautifulsoup4->-r requirements.txt (line 4))\n",
      "  Downloading https://files.pythonhosted.org/packages/b9/a5/7ea40d0f8676bde6e464a6435a48bc5db09b1a8f4f06d41dd997b8f3c616/soupsieve-1.9.1-py2.py3-none-any.whl\u001b[0m\n",
      "\u001b[31mCollecting webencodings (from html5lib->-r requirements.txt (line 5))\n",
      "  Downloading https://files.pythonhosted.org/packages/f4/24/2a3e3df732393fed8b3ebf2ec078f05546de641fe1b667ee316ec1dcf3b7/webencodings-0.5.1-py2.py3-none-any.whl\u001b[0m\n",
      "\u001b[31mBuilding wheels for collected packages: nltk, train\n",
      "  Running setup.py bdist_wheel for nltk: started\u001b[0m\n",
      "\u001b[31m  Running setup.py bdist_wheel for nltk: finished with status 'done'\n",
      "  Stored in directory: /root/.cache/pip/wheels/97/8a/10/d646015f33c525688e91986c4544c68019b19a473cb33d3b55\n",
      "  Running setup.py bdist_wheel for train: started\n",
      "  Running setup.py bdist_wheel for train: finished with status 'done'\n",
      "  Stored in directory: /tmp/pip-ephem-wheel-cache-783yqivh/wheels/35/24/16/37574d11bf9bde50616c67372a334f94fa8356bc7164af8ca3\u001b[0m\n",
      "\u001b[31mSuccessfully built nltk train\u001b[0m\n",
      "\u001b[31mInstalling collected packages: numpy, pytz, pandas, nltk, soupsieve, beautifulsoup4, webencodings, html5lib, train\n",
      "  Found existing installation: numpy 1.15.4\n",
      "    Uninstalling numpy-1.15.4:\u001b[0m\n",
      "\u001b[31m      Successfully uninstalled numpy-1.15.4\u001b[0m\n",
      "\u001b[31mSuccessfully installed beautifulsoup4-4.7.1 html5lib-1.0.1 nltk-3.4.1 numpy-1.16.3 pandas-0.24.2 pytz-2019.1 soupsieve-1.9.1 train-1.0.0 webencodings-0.5.1\u001b[0m\n",
      "\u001b[31mYou are using pip version 18.1, however version 19.1.1 is available.\u001b[0m\n",
      "\u001b[31mYou should consider upgrading via the 'pip install --upgrade pip' command.\u001b[0m\n",
      "\u001b[31m2019-05-27 10:41:21,467 sagemaker-containers INFO     Invoking user script\n",
      "\u001b[0m\n",
      "\u001b[31mTraining Env:\n",
      "\u001b[0m\n",
      "\u001b[31m{\n",
      "    \"input_config_dir\": \"/opt/ml/input/config\",\n",
      "    \"resource_config\": {\n",
      "        \"current_host\": \"algo-1\",\n",
      "        \"hosts\": [\n",
      "            \"algo-1\"\n",
      "        ],\n",
      "        \"network_interface_name\": \"ethwe\"\n",
      "    },\n",
      "    \"output_dir\": \"/opt/ml/output\",\n",
      "    \"module_name\": \"train\",\n",
      "    \"job_name\": \"sagemaker-pytorch-2019-05-27-10-37-43-518\",\n",
      "    \"input_dir\": \"/opt/ml/input\",\n",
      "    \"input_data_config\": {\n",
      "        \"training\": {\n",
      "            \"TrainingInputMode\": \"File\",\n",
      "            \"RecordWrapperType\": \"None\",\n",
      "            \"S3DistributionType\": \"FullyReplicated\"\n",
      "        }\n",
      "    },\n",
      "    \"hyperparameters\": {\n",
      "        \"hidden_dim\": 200,\n",
      "        \"epochs\": 10\n",
      "    },\n",
      "    \"output_intermediate_dir\": \"/opt/ml/output/intermediate\",\n",
      "    \"log_level\": 20,\n",
      "    \"user_entry_point\": \"train.py\",\n",
      "    \"num_cpus\": 4,\n",
      "    \"num_gpus\": 1,\n",
      "    \"additional_framework_parameters\": {},\n",
      "    \"output_data_dir\": \"/opt/ml/output/data\",\n",
      "    \"model_dir\": \"/opt/ml/model\",\n",
      "    \"current_host\": \"algo-1\",\n",
      "    \"network_interface_name\": \"ethwe\",\n",
      "    \"framework_module\": \"sagemaker_pytorch_container.training:main\",\n",
      "    \"channel_input_dirs\": {\n",
      "        \"training\": \"/opt/ml/input/data/training\"\n",
      "    },\n",
      "    \"module_dir\": \"s3://sagemaker-eu-west-1-447243987276/sagemaker-pytorch-2019-05-27-10-37-43-518/source/sourcedir.tar.gz\",\n",
      "    \"hosts\": [\n",
      "        \"algo-1\"\n",
      "    ]\u001b[0m\n",
      "\u001b[31m}\n",
      "\u001b[0m\n",
      "\u001b[31mEnvironment variables:\n",
      "\u001b[0m\n",
      "\u001b[31mSM_NUM_GPUS=1\u001b[0m\n",
      "\u001b[31mSM_FRAMEWORK_PARAMS={}\u001b[0m\n",
      "\u001b[31mSM_HOSTS=[\"algo-1\"]\u001b[0m\n",
      "\u001b[31mSM_NUM_CPUS=4\u001b[0m\n",
      "\u001b[31mSM_MODEL_DIR=/opt/ml/model\u001b[0m\n",
      "\u001b[31mSM_INPUT_CONFIG_DIR=/opt/ml/input/config\u001b[0m\n",
      "\u001b[31mSM_HPS={\"epochs\":10,\"hidden_dim\":200}\u001b[0m\n",
      "\u001b[31mSM_OUTPUT_DATA_DIR=/opt/ml/output/data\u001b[0m\n",
      "\u001b[31mSM_OUTPUT_INTERMEDIATE_DIR=/opt/ml/output/intermediate\u001b[0m\n",
      "\u001b[31mSM_OUTPUT_DIR=/opt/ml/output\u001b[0m\n",
      "\u001b[31mSM_RESOURCE_CONFIG={\"current_host\":\"algo-1\",\"hosts\":[\"algo-1\"],\"network_interface_name\":\"ethwe\"}\u001b[0m\n",
      "\u001b[31mSM_LOG_LEVEL=20\u001b[0m\n",
      "\u001b[31mSM_USER_ARGS=[\"--epochs\",\"10\",\"--hidden_dim\",\"200\"]\u001b[0m\n",
      "\u001b[31mSM_CHANNELS=[\"training\"]\u001b[0m\n",
      "\u001b[31mSM_FRAMEWORK_MODULE=sagemaker_pytorch_container.training:main\u001b[0m\n",
      "\u001b[31mSM_USER_ENTRY_POINT=train.py\u001b[0m\n",
      "\u001b[31mSM_CHANNEL_TRAINING=/opt/ml/input/data/training\u001b[0m\n",
      "\u001b[31mSM_CURRENT_HOST=algo-1\u001b[0m\n",
      "\u001b[31mPYTHONPATH=/usr/local/bin:/usr/lib/python35.zip:/usr/lib/python3.5:/usr/lib/python3.5/plat-x86_64-linux-gnu:/usr/lib/python3.5/lib-dynload:/usr/local/lib/python3.5/dist-packages:/usr/lib/python3/dist-packages\u001b[0m\n",
      "\u001b[31mSM_TRAINING_ENV={\"additional_framework_parameters\":{},\"channel_input_dirs\":{\"training\":\"/opt/ml/input/data/training\"},\"current_host\":\"algo-1\",\"framework_module\":\"sagemaker_pytorch_container.training:main\",\"hosts\":[\"algo-1\"],\"hyperparameters\":{\"epochs\":10,\"hidden_dim\":200},\"input_config_dir\":\"/opt/ml/input/config\",\"input_data_config\":{\"training\":{\"RecordWrapperType\":\"None\",\"S3DistributionType\":\"FullyReplicated\",\"TrainingInputMode\":\"File\"}},\"input_dir\":\"/opt/ml/input\",\"job_name\":\"sagemaker-pytorch-2019-05-27-10-37-43-518\",\"log_level\":20,\"model_dir\":\"/opt/ml/model\",\"module_dir\":\"s3://sagemaker-eu-west-1-447243987276/sagemaker-pytorch-2019-05-27-10-37-43-518/source/sourcedir.tar.gz\",\"module_name\":\"train\",\"network_interface_name\":\"ethwe\",\"num_cpus\":4,\"num_gpus\":1,\"output_data_dir\":\"/opt/ml/output/data\",\"output_dir\":\"/opt/ml/output\",\"output_intermediate_dir\":\"/opt/ml/output/intermediate\",\"resource_config\":{\"current_host\":\"algo-1\",\"hosts\":[\"algo-1\"],\"network_interface_name\":\"ethwe\"},\"user_entry_point\":\"train.py\"}\u001b[0m\n",
      "\u001b[31mSM_INPUT_DATA_CONFIG={\"training\":{\"RecordWrapperType\":\"None\",\"S3DistributionType\":\"FullyReplicated\",\"TrainingInputMode\":\"File\"}}\u001b[0m\n",
      "\u001b[31mSM_MODULE_DIR=s3://sagemaker-eu-west-1-447243987276/sagemaker-pytorch-2019-05-27-10-37-43-518/source/sourcedir.tar.gz\u001b[0m\n",
      "\u001b[31mSM_INPUT_DIR=/opt/ml/input\u001b[0m\n",
      "\u001b[31mSM_MODULE_NAME=train\u001b[0m\n",
      "\u001b[31mSM_HP_HIDDEN_DIM=200\u001b[0m\n",
      "\u001b[31mSM_NETWORK_INTERFACE_NAME=ethwe\u001b[0m\n",
      "\u001b[31mSM_HP_EPOCHS=10\n",
      "\u001b[0m\n",
      "\u001b[31mInvoking script with the following command:\n",
      "\u001b[0m\n",
      "\u001b[31m/usr/bin/python -m train --epochs 10 --hidden_dim 200\n",
      "\n",
      "\u001b[0m\n",
      "\u001b[31mUsing device cuda.\u001b[0m\n",
      "\u001b[31mGet train data loader.\u001b[0m\n",
      "\u001b[31mModel loaded with embedding_dim 32, hidden_dim 200, vocab_size 5000.\n",
      "\u001b[0m\n",
      "\u001b[31mTraining on device:  cuda\n",
      "\u001b[0m\n",
      "\u001b[31mTraining starts ...\u001b[0m\n"
     ]
    },
    {
     "name": "stdout",
     "output_type": "stream",
     "text": [
      "\u001b[31mEpoch: 1, BCELoss: 0.6828842479355481\u001b[0m\n",
      "\u001b[31mEpoch: 2, BCELoss: 0.6516397644062432\u001b[0m\n",
      "\u001b[31mEpoch: 3, BCELoss: 0.6371377061824409\u001b[0m\n",
      "\u001b[31mEpoch: 4, BCELoss: 0.8197203132571006\u001b[0m\n",
      "\u001b[31mEpoch: 5, BCELoss: 0.9229138712493741\u001b[0m\n",
      "\u001b[31mEpoch: 6, BCELoss: 1.2000784290080169\u001b[0m\n",
      "\u001b[31mEpoch: 7, BCELoss: 1.1506851412812058\u001b[0m\n",
      "\u001b[31mEpoch: 8, BCELoss: 1.220304394254879\u001b[0m\n",
      "\u001b[31mEpoch: 9, BCELoss: 1.1357364703197868\u001b[0m\n",
      "\u001b[31mEpoch: 10, BCELoss: 1.8894367218017578\u001b[0m\n",
      "\u001b[31m2019-05-27 10:44:19,992 sagemaker-containers INFO     Reporting training SUCCESS\u001b[0m\n",
      "\n",
      "2019-05-27 10:44:29 Uploading - Uploading generated training model\n",
      "2019-05-27 10:44:29 Completed - Training job completed\n",
      "Billable seconds: 264\n"
     ]
    }
   ],
   "source": [
    "estimator.fit({'training': input_data})"
   ]
  },
  {
   "cell_type": "markdown",
   "metadata": {},
   "source": [
    "## Step 5: Testing the model\n",
    "\n",
    "As mentioned at the top of this notebook, we will be testing this model by first deploying it and then sending the testing data to the deployed endpoint. We will do this so that we can make sure that the deployed model is working correctly.\n",
    "\n",
    "## Step 6: Deploy the model for testing\n",
    "\n",
    "Now that we have trained our model, we would like to test it to see how it performs. Currently our model takes input of the form `review_length, review[500]` where `review[500]` is a sequence of `500` integers which describe the words present in the review, encoded using `word_dict`. Fortunately for us, SageMaker provides built-in inference code for models with simple inputs such as this.\n",
    "\n",
    "There is one thing that we need to provide, however, and that is a function which loads the saved model. This function must be called `model_fn()` and takes as its only parameter a path to the directory where the model artifacts are stored. This function must also be present in the python file which we specified as the entry point. In our case the model loading function has been provided and so no changes need to be made.\n",
    "\n",
    "**NOTE**: When the built-in inference code is run it must import the `model_fn()` method from the `train.py` file. This is why the training code is wrapped in a main guard ( ie, `if __name__ == '__main__':` )\n",
    "\n",
    "Since we don't need to change anything in the code that was uploaded during training, we can simply deploy the current model as-is.\n",
    "\n",
    "**NOTE:** When deploying a model you are asking SageMaker to launch an compute instance that will wait for data to be sent to it. As a result, this compute instance will continue to run until *you* shut it down. This is important to know since the cost of a deployed endpoint depends on how long it has been running for.\n",
    "\n",
    "In other words **If you are no longer using a deployed endpoint, shut it down!**\n",
    "\n",
    "**TODO:** Deploy the trained model."
   ]
  },
  {
   "cell_type": "code",
   "execution_count": 132,
   "metadata": {},
   "outputs": [],
   "source": [
    "# estimator.delete_endpoint()"
   ]
  },
  {
   "cell_type": "code",
   "execution_count": 47,
   "metadata": {},
   "outputs": [
    {
     "name": "stdout",
     "output_type": "stream",
     "text": [
      "---------------------------------------------------------------------------------------------------!"
     ]
    }
   ],
   "source": [
    "# TODO: Deploy the trained model\n",
    "\n",
    "# Setting up endpoint\n",
    "# NB predictor is the object name expected layer on. \n",
    "predictor = estimator.deploy(initial_instance_count=1, instance_type = 'ml.p2.xlarge')\n"
   ]
  },
  {
   "cell_type": "code",
   "execution_count": 48,
   "metadata": {},
   "outputs": [],
   "source": [
    "from sagemaker.predictor import csv_serializer\n",
    "\n",
    "# Telling endpoint the format of the data will be sent\n",
    "predictor.content_type = 'text/csv'\n",
    "predictor.serializer = csv_serializer\n"
   ]
  },
  {
   "cell_type": "markdown",
   "metadata": {},
   "source": [
    "## Step 7 - Use the model for testing\n",
    "\n",
    "Once deployed, we can read in the test data and send it off to our deployed model to get some results. Once we collect all of the results we can determine how accurate our model is."
   ]
  },
  {
   "cell_type": "code",
   "execution_count": 123,
   "metadata": {},
   "outputs": [
    {
     "name": "stdout",
     "output_type": "stream",
     "text": [
      "(25000, 501)\n"
     ]
    }
   ],
   "source": [
    "# test_X contains 25000 reviews for testing. Each review is of varying length.\n",
    "# First integer is the length of the review, second to 501st intergers contain the review.\n",
    "test_X_for_prediction = pd.concat([pd.DataFrame(test_X_len), pd.DataFrame(test_X)], axis=1)\n",
    "print(test_X_for_prediction.shape)"
   ]
  },
  {
   "cell_type": "code",
   "execution_count": 131,
   "metadata": {},
   "outputs": [
    {
     "name": "stdout",
     "output_type": "stream",
     "text": [
      "30\n"
     ]
    }
   ],
   "source": [
    "print(test_X_len[7])"
   ]
  },
  {
   "cell_type": "code",
   "execution_count": 124,
   "metadata": {},
   "outputs": [],
   "source": [
    "# We split the data into chunks and send each chunk seperately, accumulating the results.\n",
    "\n",
    "def predict(data, rows=512):\n",
    "    print(\"There are {} rows in data.\".format(data.shape[0]))\n",
    "    print(\"Splitting data into {} arrays.\".format(int(data.shape[0]/float(rows)+1)))\n",
    "    split_array = np.array_split(data, int(data.shape[0] / float(rows) + 1))\n",
    "    predictions = np.array([])    \n",
    "    for array in split_array:\n",
    "        print(\"Shape of the array is\", array.shape)\n",
    "        print(array)\n",
    "        # wait = input('Waiting...')\n",
    "        predictions = np.append(predictions, predictor.predict(array))\n",
    "    return predictions"
   ]
  },
  {
   "cell_type": "code",
   "execution_count": 125,
   "metadata": {},
   "outputs": [
    {
     "name": "stdout",
     "output_type": "stream",
     "text": [
      "There are 25000 rows in data.\n",
      "Splitting data into 49 arrays.\n",
      "Shape of the array is (511, 501)\n",
      "     0     0     1     2     3     4     5     6     7     8   ...   490  491  \\\n",
      "0     52   406  1449   752  1423   752  1790    54    73     1 ...     0    0   \n",
      "1     73  4357    65     1  4422   482   760  2053     6     0 ...     0    0   \n",
      "2    204   176     6    22     0     1   135  2524  1335   428 ...     0    0   \n",
      "3     80  1066    97  1725   581    48     1  1645     3     1 ...     0    0   \n",
      "4    205   209   531   844     1     0     1  1366   527  3760 ...     0    0   \n",
      "5     49  1291   257   365  3515    39   115    36     0   696 ...     0    0   \n",
      "6    169   133     1   134   210    40   200     1     2   226 ...     0    0   \n",
      "7     30    44    82    16    21   727   607   589     0     8 ...     0    0   \n",
      "8    124  3508    26  2493   305  2032     1     1   177   809 ...     0    0   \n",
      "9    106     0   224  1440   771     1     1     0     1   754 ...     0    0   \n",
      "10    76   583   194     1     0    14   988  1245   176   212 ...     0    0   \n",
      "11   117  3290     2     4   393   964  3082    65    25     5 ...     0    0   \n",
      "12    68   220    39   115     6     0     2   240  1060  3008 ...     0    0   \n",
      "13    80   164     1   134   210     1  3807  1609   627    11 ...     0    0   \n",
      "14   160  3195     0   176   208   568   220   445   709    81 ...     0    0   \n",
      "15    62   257   327  1687    14     3     1    17    64   147 ...     0    0   \n",
      "16   199     1  1122  4259   366    80  2063   836  1599   167 ...     0    0   \n",
      "17    51    97     0    10     1     1     0  3900  4416    31 ...     0    0   \n",
      "18    68   132   450     0   405   288   132     0    22    26 ...     0    0   \n",
      "19    61     1    74  2117     1     1     1     1  1142   146 ...     0    0   \n",
      "20    63   232   210  1692  1643    97   397     0   154    74 ...     0    0   \n",
      "21    64    13    60   843   243    73     1   161    35   230 ...     0    0   \n",
      "22    73   224  4417   517   505  1049    28    24     0    19 ...     0    0   \n",
      "23   275   134   210   133  4031  3052     1     1   565  1887 ...     0    0   \n",
      "24   130     1   236   624  1772    15   493     1     4  2813 ...     0    0   \n",
      "25    58   655   121   118   689  2041     1   265    38    51 ...     0    0   \n",
      "26   257   202  3834     1   116   193  1405  2094     1     1 ...     0    0   \n",
      "27    47    28    34     8    56   172     1    54    32     1 ...     0    0   \n",
      "28   162   425   821     0   231     2    67    47    84     2 ...     0    0   \n",
      "29   194     1  1981  1333  1237     1     1     1   219  2752 ...     0    0   \n",
      "..   ...   ...   ...   ...   ...   ...   ...   ...   ...   ... ...   ...  ...   \n",
      "481  174   146    19     1  3620    52    64  1208    97    13 ...     0    0   \n",
      "482  106     1     1   697   366     6     1    32     1     0 ...     0    0   \n",
      "483   53   489   956     1   156    26   239   283     1     1 ...     0    0   \n",
      "484   91   234   537     0  1074   702  2300    11    45  1814 ...     0    0   \n",
      "485   51     2    51     1   821   585    54    27     0    14 ...     0    0   \n",
      "486   71   404    21   225     1     1  2732  2350  1574  2172 ...     0    0   \n",
      "487   87   657     1     1  3439  1093     1  1196   293  1062 ...     0    0   \n",
      "488  282     2    13    28   179  4884   653     1     1  1198 ...     0    0   \n",
      "489  166    10   225  4553  1653     1   484   363    12    45 ...     0    0   \n",
      "490   22   847   214   868   162   174  1395   614  1404   298 ...     0    0   \n",
      "491   41    27     0    72     3   267     1     1  2195  1967 ...     0    0   \n",
      "492  105    92    21  1337    81  1148  1793  2533  1002     1 ...     0    0   \n",
      "493  139   691  1316   160   118    17   779   542   823     1 ...     0    0   \n",
      "494   59  2654   164     8     1  2763   124     1   319  2695 ...     0    0   \n",
      "495   83   354    28     0   331     2    42    74   197    37 ...     0    0   \n",
      "496   99     0    13     3    36   144    24     9    44    21 ...     0    0   \n",
      "497   61   186     1    68  1660   125   182   184   206     1 ...     0    0   \n",
      "498   62   178   208   236   402   635     4   249     0   302 ...     0    0   \n",
      "499   66   544     2   484     1   121  1457   828  1610   660 ...     0    0   \n",
      "500   54     1   124   190     1   352     1   283   136  2187 ...     0    0   \n",
      "501  105     0   762   221    70  4595   932    77     1     1 ...     0    0   \n",
      "502   66   278     2    51   124    33  1305    48  1191    19 ...     0    0   \n",
      "503  140     1  3290     2     1   964    65     4   246  3421 ...     0    0   \n",
      "504  198    17     1   234  4572   451     1   104    19  1285 ...     0    0   \n",
      "505  126   231   874   327  3745   356   162     8   579  1477 ...     0    0   \n",
      "506   72     0  3358     1   909   835    11   548   527  1635 ...     0    0   \n",
      "507  168    61     1   671  3369     1  1790  2783     1     1 ...     0    0   \n",
      "508   56   220  1653     0    65  1203   157    43   212     0 ...     0    0   \n",
      "509  101   759    44    44   527     0    45     2   172   569 ...     0    0   \n",
      "510  211     1   604  2059   118   299  4473  2930  2234     0 ...     0    0   \n",
      "\n",
      "     492  493  494  495  496  497  498  499  \n",
      "0      0    0    0    0    0    0    0    0  \n",
      "1      0    0    0    0    0    0    0    0  \n",
      "2      0    0    0    0    0    0    0    0  \n",
      "3      0    0    0    0    0    0    0    0  \n",
      "4      0    0    0    0    0    0    0    0  \n",
      "5      0    0    0    0    0    0    0    0  \n",
      "6      0    0    0    0    0    0    0    0  \n",
      "7      0    0    0    0    0    0    0    0  \n",
      "8      0    0    0    0    0    0    0    0  \n",
      "9      0    0    0    0    0    0    0    0  \n",
      "10     0    0    0    0    0    0    0    0  \n",
      "11     0    0    0    0    0    0    0    0  \n",
      "12     0    0    0    0    0    0    0    0  \n",
      "13     0    0    0    0    0    0    0    0  \n",
      "14     0    0    0    0    0    0    0    0  \n",
      "15     0    0    0    0    0    0    0    0  \n",
      "16     0    0    0    0    0    0    0    0  \n",
      "17     0    0    0    0    0    0    0    0  \n",
      "18     0    0    0    0    0    0    0    0  \n",
      "19     0    0    0    0    0    0    0    0  \n",
      "20     0    0    0    0    0    0    0    0  \n",
      "21     0    0    0    0    0    0    0    0  \n",
      "22     0    0    0    0    0    0    0    0  \n",
      "23     0    0    0    0    0    0    0    0  \n",
      "24     0    0    0    0    0    0    0    0  \n",
      "25     0    0    0    0    0    0    0    0  \n",
      "26     0    0    0    0    0    0    0    0  \n",
      "27     0    0    0    0    0    0    0    0  \n",
      "28     0    0    0    0    0    0    0    0  \n",
      "29     0    0    0    0    0    0    0    0  \n",
      "..   ...  ...  ...  ...  ...  ...  ...  ...  \n",
      "481    0    0    0    0    0    0    0    0  \n",
      "482    0    0    0    0    0    0    0    0  \n",
      "483    0    0    0    0    0    0    0    0  \n",
      "484    0    0    0    0    0    0    0    0  \n",
      "485    0    0    0    0    0    0    0    0  \n",
      "486    0    0    0    0    0    0    0    0  \n",
      "487    0    0    0    0    0    0    0    0  \n",
      "488    0    0    0    0    0    0    0    0  \n",
      "489    0    0    0    0    0    0    0    0  \n",
      "490    0    0    0    0    0    0    0    0  \n",
      "491    0    0    0    0    0    0    0    0  \n",
      "492    0    0    0    0    0    0    0    0  \n",
      "493    0    0    0    0    0    0    0    0  \n",
      "494    0    0    0    0    0    0    0    0  \n",
      "495    0    0    0    0    0    0    0    0  \n",
      "496    0    0    0    0    0    0    0    0  \n",
      "497    0    0    0    0    0    0    0    0  \n",
      "498    0    0    0    0    0    0    0    0  \n",
      "499    0    0    0    0    0    0    0    0  \n",
      "500    0    0    0    0    0    0    0    0  \n",
      "501    0    0    0    0    0    0    0    0  \n",
      "502    0    0    0    0    0    0    0    0  \n",
      "503    0    0    0    0    0    0    0    0  \n",
      "504    0    0    0    0    0    0    0    0  \n",
      "505    0    0    0    0    0    0    0    0  \n",
      "506    0    0    0    0    0    0    0    0  \n",
      "507    0    0    0    0    0    0    0    0  \n",
      "508    0    0    0    0    0    0    0    0  \n",
      "509    0    0    0    0    0    0    0    0  \n",
      "510    0    0    0    0    0    0    0    0  \n",
      "\n",
      "[511 rows x 501 columns]\n"
     ]
    },
    {
     "ename": "ValueError",
     "evalue": "('Unable to handle input format: ', <class 'int'>)",
     "output_type": "error",
     "traceback": [
      "\u001b[0;31m---------------------------------------------------------------------------\u001b[0m",
      "\u001b[0;31mValueError\u001b[0m                                Traceback (most recent call last)",
      "\u001b[0;32m<ipython-input-125-103c75b48e48>\u001b[0m in \u001b[0;36m<module>\u001b[0;34m()\u001b[0m\n\u001b[0;32m----> 1\u001b[0;31m \u001b[0mpredictions\u001b[0m \u001b[0;34m=\u001b[0m \u001b[0mpredict\u001b[0m\u001b[0;34m(\u001b[0m\u001b[0mtest_X_for_prediction\u001b[0m\u001b[0;34m)\u001b[0m\u001b[0;34m\u001b[0m\u001b[0m\n\u001b[0m",
      "\u001b[0;32m<ipython-input-124-c9044c8d0c0e>\u001b[0m in \u001b[0;36mpredict\u001b[0;34m(data, rows)\u001b[0m\n\u001b[1;32m     10\u001b[0m         \u001b[0mprint\u001b[0m\u001b[0;34m(\u001b[0m\u001b[0marray\u001b[0m\u001b[0;34m)\u001b[0m\u001b[0;34m\u001b[0m\u001b[0m\n\u001b[1;32m     11\u001b[0m         \u001b[0;31m# wait = input('Waiting...')\u001b[0m\u001b[0;34m\u001b[0m\u001b[0;34m\u001b[0m\u001b[0m\n\u001b[0;32m---> 12\u001b[0;31m         \u001b[0mpredictions\u001b[0m \u001b[0;34m=\u001b[0m \u001b[0mnp\u001b[0m\u001b[0;34m.\u001b[0m\u001b[0mappend\u001b[0m\u001b[0;34m(\u001b[0m\u001b[0mpredictions\u001b[0m\u001b[0;34m,\u001b[0m \u001b[0mpredictor\u001b[0m\u001b[0;34m.\u001b[0m\u001b[0mpredict\u001b[0m\u001b[0;34m(\u001b[0m\u001b[0marray\u001b[0m\u001b[0;34m)\u001b[0m\u001b[0;34m)\u001b[0m\u001b[0;34m\u001b[0m\u001b[0m\n\u001b[0m\u001b[1;32m     13\u001b[0m     \u001b[0;32mreturn\u001b[0m \u001b[0mpredictions\u001b[0m\u001b[0;34m\u001b[0m\u001b[0m\n",
      "\u001b[0;32m~/anaconda3/envs/pytorch_p36/lib/python3.6/site-packages/sagemaker/predictor.py\u001b[0m in \u001b[0;36mpredict\u001b[0;34m(self, data, initial_args)\u001b[0m\n\u001b[1;32m     77\u001b[0m         \"\"\"\n\u001b[1;32m     78\u001b[0m \u001b[0;34m\u001b[0m\u001b[0m\n\u001b[0;32m---> 79\u001b[0;31m         \u001b[0mrequest_args\u001b[0m \u001b[0;34m=\u001b[0m \u001b[0mself\u001b[0m\u001b[0;34m.\u001b[0m\u001b[0m_create_request_args\u001b[0m\u001b[0;34m(\u001b[0m\u001b[0mdata\u001b[0m\u001b[0;34m,\u001b[0m \u001b[0minitial_args\u001b[0m\u001b[0;34m)\u001b[0m\u001b[0;34m\u001b[0m\u001b[0m\n\u001b[0m\u001b[1;32m     80\u001b[0m         \u001b[0mresponse\u001b[0m \u001b[0;34m=\u001b[0m \u001b[0mself\u001b[0m\u001b[0;34m.\u001b[0m\u001b[0msagemaker_session\u001b[0m\u001b[0;34m.\u001b[0m\u001b[0msagemaker_runtime_client\u001b[0m\u001b[0;34m.\u001b[0m\u001b[0minvoke_endpoint\u001b[0m\u001b[0;34m(\u001b[0m\u001b[0;34m**\u001b[0m\u001b[0mrequest_args\u001b[0m\u001b[0;34m)\u001b[0m\u001b[0;34m\u001b[0m\u001b[0m\n\u001b[1;32m     81\u001b[0m         \u001b[0;32mreturn\u001b[0m \u001b[0mself\u001b[0m\u001b[0;34m.\u001b[0m\u001b[0m_handle_response\u001b[0m\u001b[0;34m(\u001b[0m\u001b[0mresponse\u001b[0m\u001b[0;34m)\u001b[0m\u001b[0;34m\u001b[0m\u001b[0m\n",
      "\u001b[0;32m~/anaconda3/envs/pytorch_p36/lib/python3.6/site-packages/sagemaker/predictor.py\u001b[0m in \u001b[0;36m_create_request_args\u001b[0;34m(self, data, initial_args)\u001b[0m\n\u001b[1;32m    103\u001b[0m \u001b[0;34m\u001b[0m\u001b[0m\n\u001b[1;32m    104\u001b[0m         \u001b[0;32mif\u001b[0m \u001b[0mself\u001b[0m\u001b[0;34m.\u001b[0m\u001b[0mserializer\u001b[0m \u001b[0;32mis\u001b[0m \u001b[0;32mnot\u001b[0m \u001b[0;32mNone\u001b[0m\u001b[0;34m:\u001b[0m\u001b[0;34m\u001b[0m\u001b[0m\n\u001b[0;32m--> 105\u001b[0;31m             \u001b[0mdata\u001b[0m \u001b[0;34m=\u001b[0m \u001b[0mself\u001b[0m\u001b[0;34m.\u001b[0m\u001b[0mserializer\u001b[0m\u001b[0;34m(\u001b[0m\u001b[0mdata\u001b[0m\u001b[0;34m)\u001b[0m\u001b[0;34m\u001b[0m\u001b[0m\n\u001b[0m\u001b[1;32m    106\u001b[0m \u001b[0;34m\u001b[0m\u001b[0m\n\u001b[1;32m    107\u001b[0m         \u001b[0margs\u001b[0m\u001b[0;34m[\u001b[0m\u001b[0;34m'Body'\u001b[0m\u001b[0;34m]\u001b[0m \u001b[0;34m=\u001b[0m \u001b[0mdata\u001b[0m\u001b[0;34m\u001b[0m\u001b[0m\n",
      "\u001b[0;32m~/anaconda3/envs/pytorch_p36/lib/python3.6/site-packages/sagemaker/predictor.py\u001b[0m in \u001b[0;36m__call__\u001b[0;34m(self, data)\u001b[0m\n\u001b[1;32m    173\u001b[0m         \u001b[0;31m# For inputs which represent multiple \"rows\", the result should be newline-separated CSV rows\u001b[0m\u001b[0;34m\u001b[0m\u001b[0;34m\u001b[0m\u001b[0m\n\u001b[1;32m    174\u001b[0m         \u001b[0;32mif\u001b[0m \u001b[0m_is_mutable_sequence_like\u001b[0m\u001b[0;34m(\u001b[0m\u001b[0mdata\u001b[0m\u001b[0;34m)\u001b[0m \u001b[0;32mand\u001b[0m \u001b[0mlen\u001b[0m\u001b[0;34m(\u001b[0m\u001b[0mdata\u001b[0m\u001b[0;34m)\u001b[0m \u001b[0;34m>\u001b[0m \u001b[0;36m0\u001b[0m \u001b[0;32mand\u001b[0m \u001b[0m_is_sequence_like\u001b[0m\u001b[0;34m(\u001b[0m\u001b[0mdata\u001b[0m\u001b[0;34m[\u001b[0m\u001b[0;36m0\u001b[0m\u001b[0;34m]\u001b[0m\u001b[0;34m)\u001b[0m\u001b[0;34m:\u001b[0m\u001b[0;34m\u001b[0m\u001b[0m\n\u001b[0;32m--> 175\u001b[0;31m             \u001b[0;32mreturn\u001b[0m \u001b[0;34m'\\n'\u001b[0m\u001b[0;34m.\u001b[0m\u001b[0mjoin\u001b[0m\u001b[0;34m(\u001b[0m\u001b[0;34m[\u001b[0m\u001b[0m_CsvSerializer\u001b[0m\u001b[0;34m.\u001b[0m\u001b[0m_serialize_row\u001b[0m\u001b[0;34m(\u001b[0m\u001b[0mrow\u001b[0m\u001b[0;34m)\u001b[0m \u001b[0;32mfor\u001b[0m \u001b[0mrow\u001b[0m \u001b[0;32min\u001b[0m \u001b[0mdata\u001b[0m\u001b[0;34m]\u001b[0m\u001b[0;34m)\u001b[0m\u001b[0;34m\u001b[0m\u001b[0m\n\u001b[0m\u001b[1;32m    176\u001b[0m         \u001b[0;32mreturn\u001b[0m \u001b[0m_CsvSerializer\u001b[0m\u001b[0;34m.\u001b[0m\u001b[0m_serialize_row\u001b[0m\u001b[0;34m(\u001b[0m\u001b[0mdata\u001b[0m\u001b[0;34m)\u001b[0m\u001b[0;34m\u001b[0m\u001b[0m\n\u001b[1;32m    177\u001b[0m \u001b[0;34m\u001b[0m\u001b[0m\n",
      "\u001b[0;32m~/anaconda3/envs/pytorch_p36/lib/python3.6/site-packages/sagemaker/predictor.py\u001b[0m in \u001b[0;36m<listcomp>\u001b[0;34m(.0)\u001b[0m\n\u001b[1;32m    173\u001b[0m         \u001b[0;31m# For inputs which represent multiple \"rows\", the result should be newline-separated CSV rows\u001b[0m\u001b[0;34m\u001b[0m\u001b[0;34m\u001b[0m\u001b[0m\n\u001b[1;32m    174\u001b[0m         \u001b[0;32mif\u001b[0m \u001b[0m_is_mutable_sequence_like\u001b[0m\u001b[0;34m(\u001b[0m\u001b[0mdata\u001b[0m\u001b[0;34m)\u001b[0m \u001b[0;32mand\u001b[0m \u001b[0mlen\u001b[0m\u001b[0;34m(\u001b[0m\u001b[0mdata\u001b[0m\u001b[0;34m)\u001b[0m \u001b[0;34m>\u001b[0m \u001b[0;36m0\u001b[0m \u001b[0;32mand\u001b[0m \u001b[0m_is_sequence_like\u001b[0m\u001b[0;34m(\u001b[0m\u001b[0mdata\u001b[0m\u001b[0;34m[\u001b[0m\u001b[0;36m0\u001b[0m\u001b[0;34m]\u001b[0m\u001b[0;34m)\u001b[0m\u001b[0;34m:\u001b[0m\u001b[0;34m\u001b[0m\u001b[0m\n\u001b[0;32m--> 175\u001b[0;31m             \u001b[0;32mreturn\u001b[0m \u001b[0;34m'\\n'\u001b[0m\u001b[0;34m.\u001b[0m\u001b[0mjoin\u001b[0m\u001b[0;34m(\u001b[0m\u001b[0;34m[\u001b[0m\u001b[0m_CsvSerializer\u001b[0m\u001b[0;34m.\u001b[0m\u001b[0m_serialize_row\u001b[0m\u001b[0;34m(\u001b[0m\u001b[0mrow\u001b[0m\u001b[0;34m)\u001b[0m \u001b[0;32mfor\u001b[0m \u001b[0mrow\u001b[0m \u001b[0;32min\u001b[0m \u001b[0mdata\u001b[0m\u001b[0;34m]\u001b[0m\u001b[0;34m)\u001b[0m\u001b[0;34m\u001b[0m\u001b[0m\n\u001b[0m\u001b[1;32m    176\u001b[0m         \u001b[0;32mreturn\u001b[0m \u001b[0m_CsvSerializer\u001b[0m\u001b[0;34m.\u001b[0m\u001b[0m_serialize_row\u001b[0m\u001b[0;34m(\u001b[0m\u001b[0mdata\u001b[0m\u001b[0;34m)\u001b[0m\u001b[0;34m\u001b[0m\u001b[0m\n\u001b[1;32m    177\u001b[0m \u001b[0;34m\u001b[0m\u001b[0m\n",
      "\u001b[0;32m~/anaconda3/envs/pytorch_p36/lib/python3.6/site-packages/sagemaker/predictor.py\u001b[0m in \u001b[0;36m_serialize_row\u001b[0;34m(data)\u001b[0m\n\u001b[1;32m    193\u001b[0m             \u001b[0;32mreturn\u001b[0m \u001b[0m_csv_serialize_from_buffer\u001b[0m\u001b[0;34m(\u001b[0m\u001b[0mdata\u001b[0m\u001b[0;34m)\u001b[0m\u001b[0;34m\u001b[0m\u001b[0m\n\u001b[1;32m    194\u001b[0m \u001b[0;34m\u001b[0m\u001b[0m\n\u001b[0;32m--> 195\u001b[0;31m         \u001b[0;32mraise\u001b[0m \u001b[0mValueError\u001b[0m\u001b[0;34m(\u001b[0m\u001b[0;34m\"Unable to handle input format: \"\u001b[0m\u001b[0;34m,\u001b[0m \u001b[0mtype\u001b[0m\u001b[0;34m(\u001b[0m\u001b[0mdata\u001b[0m\u001b[0;34m)\u001b[0m\u001b[0;34m)\u001b[0m\u001b[0;34m\u001b[0m\u001b[0m\n\u001b[0m\u001b[1;32m    196\u001b[0m \u001b[0;34m\u001b[0m\u001b[0m\n\u001b[1;32m    197\u001b[0m \u001b[0;34m\u001b[0m\u001b[0m\n",
      "\u001b[0;31mValueError\u001b[0m: ('Unable to handle input format: ', <class 'int'>)"
     ]
    }
   ],
   "source": [
    "predictions = predict(test_X_for_prediction)"
   ]
  },
  {
   "cell_type": "code",
   "execution_count": 109,
   "metadata": {},
   "outputs": [],
   "source": [
    "predictions = [round(num) for num in predictions]"
   ]
  },
  {
   "cell_type": "code",
   "execution_count": 110,
   "metadata": {},
   "outputs": [
    {
     "ename": "ValueError",
     "evalue": "Found input variables with inconsistent numbers of samples: [25000, 0]",
     "output_type": "error",
     "traceback": [
      "\u001b[0;31m---------------------------------------------------------------------------\u001b[0m",
      "\u001b[0;31mValueError\u001b[0m                                Traceback (most recent call last)",
      "\u001b[0;32m<ipython-input-110-43c245f597b9>\u001b[0m in \u001b[0;36m<module>\u001b[0;34m()\u001b[0m\n\u001b[1;32m      1\u001b[0m \u001b[0;32mfrom\u001b[0m \u001b[0msklearn\u001b[0m\u001b[0;34m.\u001b[0m\u001b[0mmetrics\u001b[0m \u001b[0;32mimport\u001b[0m \u001b[0maccuracy_score\u001b[0m\u001b[0;34m\u001b[0m\u001b[0m\n\u001b[0;32m----> 2\u001b[0;31m \u001b[0maccuracy_score\u001b[0m\u001b[0;34m(\u001b[0m\u001b[0mtest_y\u001b[0m\u001b[0;34m,\u001b[0m \u001b[0mpredictions\u001b[0m\u001b[0;34m)\u001b[0m\u001b[0;34m\u001b[0m\u001b[0m\n\u001b[0m",
      "\u001b[0;32m~/anaconda3/envs/pytorch_p36/lib/python3.6/site-packages/sklearn/metrics/classification.py\u001b[0m in \u001b[0;36maccuracy_score\u001b[0;34m(y_true, y_pred, normalize, sample_weight)\u001b[0m\n\u001b[1;32m    174\u001b[0m \u001b[0;34m\u001b[0m\u001b[0m\n\u001b[1;32m    175\u001b[0m     \u001b[0;31m# Compute accuracy for each possible representation\u001b[0m\u001b[0;34m\u001b[0m\u001b[0;34m\u001b[0m\u001b[0m\n\u001b[0;32m--> 176\u001b[0;31m     \u001b[0my_type\u001b[0m\u001b[0;34m,\u001b[0m \u001b[0my_true\u001b[0m\u001b[0;34m,\u001b[0m \u001b[0my_pred\u001b[0m \u001b[0;34m=\u001b[0m \u001b[0m_check_targets\u001b[0m\u001b[0;34m(\u001b[0m\u001b[0my_true\u001b[0m\u001b[0;34m,\u001b[0m \u001b[0my_pred\u001b[0m\u001b[0;34m)\u001b[0m\u001b[0;34m\u001b[0m\u001b[0m\n\u001b[0m\u001b[1;32m    177\u001b[0m     \u001b[0;32mif\u001b[0m \u001b[0my_type\u001b[0m\u001b[0;34m.\u001b[0m\u001b[0mstartswith\u001b[0m\u001b[0;34m(\u001b[0m\u001b[0;34m'multilabel'\u001b[0m\u001b[0;34m)\u001b[0m\u001b[0;34m:\u001b[0m\u001b[0;34m\u001b[0m\u001b[0m\n\u001b[1;32m    178\u001b[0m         \u001b[0mdiffering_labels\u001b[0m \u001b[0;34m=\u001b[0m \u001b[0mcount_nonzero\u001b[0m\u001b[0;34m(\u001b[0m\u001b[0my_true\u001b[0m \u001b[0;34m-\u001b[0m \u001b[0my_pred\u001b[0m\u001b[0;34m,\u001b[0m \u001b[0maxis\u001b[0m\u001b[0;34m=\u001b[0m\u001b[0;36m1\u001b[0m\u001b[0;34m)\u001b[0m\u001b[0;34m\u001b[0m\u001b[0m\n",
      "\u001b[0;32m~/anaconda3/envs/pytorch_p36/lib/python3.6/site-packages/sklearn/metrics/classification.py\u001b[0m in \u001b[0;36m_check_targets\u001b[0;34m(y_true, y_pred)\u001b[0m\n\u001b[1;32m     69\u001b[0m     \u001b[0my_pred\u001b[0m \u001b[0;34m:\u001b[0m \u001b[0marray\u001b[0m \u001b[0;32mor\u001b[0m \u001b[0mindicator\u001b[0m \u001b[0mmatrix\u001b[0m\u001b[0;34m\u001b[0m\u001b[0m\n\u001b[1;32m     70\u001b[0m     \"\"\"\n\u001b[0;32m---> 71\u001b[0;31m     \u001b[0mcheck_consistent_length\u001b[0m\u001b[0;34m(\u001b[0m\u001b[0my_true\u001b[0m\u001b[0;34m,\u001b[0m \u001b[0my_pred\u001b[0m\u001b[0;34m)\u001b[0m\u001b[0;34m\u001b[0m\u001b[0m\n\u001b[0m\u001b[1;32m     72\u001b[0m     \u001b[0mtype_true\u001b[0m \u001b[0;34m=\u001b[0m \u001b[0mtype_of_target\u001b[0m\u001b[0;34m(\u001b[0m\u001b[0my_true\u001b[0m\u001b[0;34m)\u001b[0m\u001b[0;34m\u001b[0m\u001b[0m\n\u001b[1;32m     73\u001b[0m     \u001b[0mtype_pred\u001b[0m \u001b[0;34m=\u001b[0m \u001b[0mtype_of_target\u001b[0m\u001b[0;34m(\u001b[0m\u001b[0my_pred\u001b[0m\u001b[0;34m)\u001b[0m\u001b[0;34m\u001b[0m\u001b[0m\n",
      "\u001b[0;32m~/anaconda3/envs/pytorch_p36/lib/python3.6/site-packages/sklearn/utils/validation.py\u001b[0m in \u001b[0;36mcheck_consistent_length\u001b[0;34m(*arrays)\u001b[0m\n\u001b[1;32m    202\u001b[0m     \u001b[0;32mif\u001b[0m \u001b[0mlen\u001b[0m\u001b[0;34m(\u001b[0m\u001b[0muniques\u001b[0m\u001b[0;34m)\u001b[0m \u001b[0;34m>\u001b[0m \u001b[0;36m1\u001b[0m\u001b[0;34m:\u001b[0m\u001b[0;34m\u001b[0m\u001b[0m\n\u001b[1;32m    203\u001b[0m         raise ValueError(\"Found input variables with inconsistent numbers of\"\n\u001b[0;32m--> 204\u001b[0;31m                          \" samples: %r\" % [int(l) for l in lengths])\n\u001b[0m\u001b[1;32m    205\u001b[0m \u001b[0;34m\u001b[0m\u001b[0m\n\u001b[1;32m    206\u001b[0m \u001b[0;34m\u001b[0m\u001b[0m\n",
      "\u001b[0;31mValueError\u001b[0m: Found input variables with inconsistent numbers of samples: [25000, 0]"
     ]
    }
   ],
   "source": [
    "from sklearn.metrics import accuracy_score\n",
    "accuracy_score(test_y, predictions)"
   ]
  },
  {
   "cell_type": "markdown",
   "metadata": {},
   "source": [
    "**Question:** How does this model compare to the XGBoost model you created earlier? Why might these two models perform differently on this dataset? Which do *you* think is better for sentiment analysis?"
   ]
  },
  {
   "cell_type": "markdown",
   "metadata": {},
   "source": [
    "**Answer:**"
   ]
  },
  {
   "cell_type": "markdown",
   "metadata": {},
   "source": [
    "### (TODO) More testing\n",
    "\n",
    "We now have a trained model which has been deployed and which we can send processed reviews to and which returns the predicted sentiment. However, ultimately we would like to be able to send our model an unprocessed review. That is, we would like to send the review itself as a string. For example, suppose we wish to send the following review to our model."
   ]
  },
  {
   "cell_type": "code",
   "execution_count": 111,
   "metadata": {},
   "outputs": [],
   "source": [
    "test_review = 'The simplest pleasures in life are the best, and this film is one of them. Combining a rather basic storyline of love and adventure this movie transcends the usual weekend fair with wit and unmitigated charm.'"
   ]
  },
  {
   "cell_type": "markdown",
   "metadata": {},
   "source": [
    "The question we now need to answer is, how do we send this review to our model?\n",
    "\n",
    "Recall in the first section of this notebook we did a bunch of data processing to the IMDb dataset. In particular, we did two specific things to the provided reviews.\n",
    " - Removed any html tags and stemmed the input\n",
    " - Encoded the review as a sequence of integers using `word_dict`\n",
    " \n",
    "In order process the review we will need to repeat these two steps.\n",
    "\n",
    "**TODO**: Using the `review_to_words` and `convert_and_pad` methods from section one, convert `test_review` into a numpy array `test_data` suitable to send to our model. Remember that our model expects input of the form `review_length, review[500]`."
   ]
  },
  {
   "cell_type": "code",
   "execution_count": 112,
   "metadata": {},
   "outputs": [
    {
     "name": "stdout",
     "output_type": "stream",
     "text": [
      "['simplest', 'pleasur', 'life', 'best', 'film', 'one', 'combin', 'rather', 'basic', 'storylin', 'love', 'adventur', 'movi', 'transcend', 'usual', 'weekend', 'fair', 'wit', 'unmitig', 'charm']\n",
      "[1, 1376, 50, 53, 3, 4, 878, 173, 392, 682, 29, 724, 2, 4409, 275, 2080, 1061, 760, 1, 582, 0, 0, 0, 0, 0, 0, 0, 0, 0, 0, 0, 0, 0, 0, 0, 0, 0, 0, 0, 0, 0, 0, 0, 0, 0, 0, 0, 0, 0, 0, 0, 0, 0, 0, 0, 0, 0, 0, 0, 0, 0, 0, 0, 0, 0, 0, 0, 0, 0, 0, 0, 0, 0, 0, 0, 0, 0, 0, 0, 0, 0, 0, 0, 0, 0, 0, 0, 0, 0, 0, 0, 0, 0, 0, 0, 0, 0, 0, 0, 0, 0, 0, 0, 0, 0, 0, 0, 0, 0, 0, 0, 0, 0, 0, 0, 0, 0, 0, 0, 0, 0, 0, 0, 0, 0, 0, 0, 0, 0, 0, 0, 0, 0, 0, 0, 0, 0, 0, 0, 0, 0, 0, 0, 0, 0, 0, 0, 0, 0, 0, 0, 0, 0, 0, 0, 0, 0, 0, 0, 0, 0, 0, 0, 0, 0, 0, 0, 0, 0, 0, 0, 0, 0, 0, 0, 0, 0, 0, 0, 0, 0, 0, 0, 0, 0, 0, 0, 0, 0, 0, 0, 0, 0, 0, 0, 0, 0, 0, 0, 0, 0, 0, 0, 0, 0, 0, 0, 0, 0, 0, 0, 0, 0, 0, 0, 0, 0, 0, 0, 0, 0, 0, 0, 0, 0, 0, 0, 0, 0, 0, 0, 0, 0, 0, 0, 0, 0, 0, 0, 0, 0, 0, 0, 0, 0, 0, 0, 0, 0, 0, 0, 0, 0, 0, 0, 0, 0, 0, 0, 0, 0, 0, 0, 0, 0, 0, 0, 0, 0, 0, 0, 0, 0, 0, 0, 0, 0, 0, 0, 0, 0, 0, 0, 0, 0, 0, 0, 0, 0, 0, 0, 0, 0, 0, 0, 0, 0, 0, 0, 0, 0, 0, 0, 0, 0, 0, 0, 0, 0, 0, 0, 0, 0, 0, 0, 0, 0, 0, 0, 0, 0, 0, 0, 0, 0, 0, 0, 0, 0, 0, 0, 0, 0, 0, 0, 0, 0, 0, 0, 0, 0, 0, 0, 0, 0, 0, 0, 0, 0, 0, 0, 0, 0, 0, 0, 0, 0, 0, 0, 0, 0, 0, 0, 0, 0, 0, 0, 0, 0, 0, 0, 0, 0, 0, 0, 0, 0, 0, 0, 0, 0, 0, 0, 0, 0, 0, 0, 0, 0, 0, 0, 0, 0, 0, 0, 0, 0, 0, 0, 0, 0, 0, 0, 0, 0, 0, 0, 0, 0, 0, 0, 0, 0, 0, 0, 0, 0, 0, 0, 0, 0, 0, 0, 0, 0, 0, 0, 0, 0, 0, 0, 0, 0, 0, 0, 0, 0, 0, 0, 0, 0, 0, 0, 0, 0, 0, 0, 0, 0, 0, 0, 0, 0, 0, 0, 0, 0, 0, 0, 0, 0, 0, 0, 0, 0, 0, 0, 0, 0, 0, 0, 0, 0, 0, 0, 0, 0, 0, 0, 0, 0, 0, 0, 0, 0, 0, 0, 0, 0, 0, 0, 0, 0, 0, 0, 0, 0, 0, 0, 0] 20\n"
     ]
    }
   ],
   "source": [
    "# TODO: Convert test_review into a form usable by the model and save the results in test_data\n",
    "\n",
    "test_review = 'The simplest pleasures in life are the best, and this film is one of them. Combining a rather basic storyline of love and adventure this movie transcends the usual weekend fair with wit and unmitigated charm.'\n",
    "\n",
    "# Step 1: remove html tags and stem the text\n",
    "test_data = review_to_words(test_review)\n",
    "print(test_data)\n",
    "\n",
    "# Step 2: encode the review text using convert_and_pad\n",
    "test_data, test_data_len = convert_and_pad(word_dict, test_data)\n",
    "print(test_data, test_data_len)"
   ]
  },
  {
   "cell_type": "code",
   "execution_count": null,
   "metadata": {},
   "outputs": [],
   "source": [
    "# An alternative, which allows custom entry of review text\n",
    "\n",
    "test_review = input('Enter review text: ')\n",
    "\n",
    "# Step 1: remove html tags and stem the text\n",
    "test_data = review_to_words(test_review)\n",
    "print(test_data)\n",
    "\n",
    "# Step 2: encode the review text using convert_and_pad\n",
    "test_data, test_data_len = convert_and_pad(word_dict, test_data)\n",
    "print(test_data, test_data_len)"
   ]
  },
  {
   "cell_type": "markdown",
   "metadata": {},
   "source": [
    "Now that we have processed the review, we can send the resulting array to our model to predict the sentiment of the review."
   ]
  },
  {
   "cell_type": "code",
   "execution_count": 113,
   "metadata": {},
   "outputs": [
    {
     "ename": "ModelError",
     "evalue": "An error occurred (ModelError) when calling the InvokeEndpoint operation: Received server error (500) from model with message \"<!DOCTYPE HTML PUBLIC \"-//W3C//DTD HTML 3.2 Final//EN\">\n<title>500 Internal Server Error</title>\n<h1>Internal Server Error</h1>\n<p>The server encountered an internal error and was unable to complete your request.  Either the server is overloaded or there is an error in the application.</p>\n\". See https://eu-west-1.console.aws.amazon.com/cloudwatch/home?region=eu-west-1#logEventViewer:group=/aws/sagemaker/Endpoints/sagemaker-pytorch-2019-05-24-12-09-23-783 in account 447243987276 for more information.",
     "output_type": "error",
     "traceback": [
      "\u001b[0;31m---------------------------------------------------------------------------\u001b[0m",
      "\u001b[0;31mModelError\u001b[0m                                Traceback (most recent call last)",
      "\u001b[0;32m<ipython-input-113-61ff0951d88d>\u001b[0m in \u001b[0;36m<module>\u001b[0;34m()\u001b[0m\n\u001b[0;32m----> 1\u001b[0;31m \u001b[0mpredictor\u001b[0m\u001b[0;34m.\u001b[0m\u001b[0mpredict\u001b[0m\u001b[0;34m(\u001b[0m\u001b[0mtest_data\u001b[0m\u001b[0;34m)\u001b[0m\u001b[0;34m\u001b[0m\u001b[0m\n\u001b[0m",
      "\u001b[0;32m~/anaconda3/envs/pytorch_p36/lib/python3.6/site-packages/sagemaker/predictor.py\u001b[0m in \u001b[0;36mpredict\u001b[0;34m(self, data, initial_args)\u001b[0m\n\u001b[1;32m     78\u001b[0m \u001b[0;34m\u001b[0m\u001b[0m\n\u001b[1;32m     79\u001b[0m         \u001b[0mrequest_args\u001b[0m \u001b[0;34m=\u001b[0m \u001b[0mself\u001b[0m\u001b[0;34m.\u001b[0m\u001b[0m_create_request_args\u001b[0m\u001b[0;34m(\u001b[0m\u001b[0mdata\u001b[0m\u001b[0;34m,\u001b[0m \u001b[0minitial_args\u001b[0m\u001b[0;34m)\u001b[0m\u001b[0;34m\u001b[0m\u001b[0m\n\u001b[0;32m---> 80\u001b[0;31m         \u001b[0mresponse\u001b[0m \u001b[0;34m=\u001b[0m \u001b[0mself\u001b[0m\u001b[0;34m.\u001b[0m\u001b[0msagemaker_session\u001b[0m\u001b[0;34m.\u001b[0m\u001b[0msagemaker_runtime_client\u001b[0m\u001b[0;34m.\u001b[0m\u001b[0minvoke_endpoint\u001b[0m\u001b[0;34m(\u001b[0m\u001b[0;34m**\u001b[0m\u001b[0mrequest_args\u001b[0m\u001b[0;34m)\u001b[0m\u001b[0;34m\u001b[0m\u001b[0m\n\u001b[0m\u001b[1;32m     81\u001b[0m         \u001b[0;32mreturn\u001b[0m \u001b[0mself\u001b[0m\u001b[0;34m.\u001b[0m\u001b[0m_handle_response\u001b[0m\u001b[0;34m(\u001b[0m\u001b[0mresponse\u001b[0m\u001b[0;34m)\u001b[0m\u001b[0;34m\u001b[0m\u001b[0m\n\u001b[1;32m     82\u001b[0m \u001b[0;34m\u001b[0m\u001b[0m\n",
      "\u001b[0;32m~/anaconda3/envs/pytorch_p36/lib/python3.6/site-packages/botocore/client.py\u001b[0m in \u001b[0;36m_api_call\u001b[0;34m(self, *args, **kwargs)\u001b[0m\n\u001b[1;32m    355\u001b[0m                     \"%s() only accepts keyword arguments.\" % py_operation_name)\n\u001b[1;32m    356\u001b[0m             \u001b[0;31m# The \"self\" in this scope is referring to the BaseClient.\u001b[0m\u001b[0;34m\u001b[0m\u001b[0;34m\u001b[0m\u001b[0m\n\u001b[0;32m--> 357\u001b[0;31m             \u001b[0;32mreturn\u001b[0m \u001b[0mself\u001b[0m\u001b[0;34m.\u001b[0m\u001b[0m_make_api_call\u001b[0m\u001b[0;34m(\u001b[0m\u001b[0moperation_name\u001b[0m\u001b[0;34m,\u001b[0m \u001b[0mkwargs\u001b[0m\u001b[0;34m)\u001b[0m\u001b[0;34m\u001b[0m\u001b[0m\n\u001b[0m\u001b[1;32m    358\u001b[0m \u001b[0;34m\u001b[0m\u001b[0m\n\u001b[1;32m    359\u001b[0m         \u001b[0m_api_call\u001b[0m\u001b[0;34m.\u001b[0m\u001b[0m__name__\u001b[0m \u001b[0;34m=\u001b[0m \u001b[0mstr\u001b[0m\u001b[0;34m(\u001b[0m\u001b[0mpy_operation_name\u001b[0m\u001b[0;34m)\u001b[0m\u001b[0;34m\u001b[0m\u001b[0m\n",
      "\u001b[0;32m~/anaconda3/envs/pytorch_p36/lib/python3.6/site-packages/botocore/client.py\u001b[0m in \u001b[0;36m_make_api_call\u001b[0;34m(self, operation_name, api_params)\u001b[0m\n\u001b[1;32m    659\u001b[0m             \u001b[0merror_code\u001b[0m \u001b[0;34m=\u001b[0m \u001b[0mparsed_response\u001b[0m\u001b[0;34m.\u001b[0m\u001b[0mget\u001b[0m\u001b[0;34m(\u001b[0m\u001b[0;34m\"Error\"\u001b[0m\u001b[0;34m,\u001b[0m \u001b[0;34m{\u001b[0m\u001b[0;34m}\u001b[0m\u001b[0;34m)\u001b[0m\u001b[0;34m.\u001b[0m\u001b[0mget\u001b[0m\u001b[0;34m(\u001b[0m\u001b[0;34m\"Code\"\u001b[0m\u001b[0;34m)\u001b[0m\u001b[0;34m\u001b[0m\u001b[0m\n\u001b[1;32m    660\u001b[0m             \u001b[0merror_class\u001b[0m \u001b[0;34m=\u001b[0m \u001b[0mself\u001b[0m\u001b[0;34m.\u001b[0m\u001b[0mexceptions\u001b[0m\u001b[0;34m.\u001b[0m\u001b[0mfrom_code\u001b[0m\u001b[0;34m(\u001b[0m\u001b[0merror_code\u001b[0m\u001b[0;34m)\u001b[0m\u001b[0;34m\u001b[0m\u001b[0m\n\u001b[0;32m--> 661\u001b[0;31m             \u001b[0;32mraise\u001b[0m \u001b[0merror_class\u001b[0m\u001b[0;34m(\u001b[0m\u001b[0mparsed_response\u001b[0m\u001b[0;34m,\u001b[0m \u001b[0moperation_name\u001b[0m\u001b[0;34m)\u001b[0m\u001b[0;34m\u001b[0m\u001b[0m\n\u001b[0m\u001b[1;32m    662\u001b[0m         \u001b[0;32melse\u001b[0m\u001b[0;34m:\u001b[0m\u001b[0;34m\u001b[0m\u001b[0m\n\u001b[1;32m    663\u001b[0m             \u001b[0;32mreturn\u001b[0m \u001b[0mparsed_response\u001b[0m\u001b[0;34m\u001b[0m\u001b[0m\n",
      "\u001b[0;31mModelError\u001b[0m: An error occurred (ModelError) when calling the InvokeEndpoint operation: Received server error (500) from model with message \"<!DOCTYPE HTML PUBLIC \"-//W3C//DTD HTML 3.2 Final//EN\">\n<title>500 Internal Server Error</title>\n<h1>Internal Server Error</h1>\n<p>The server encountered an internal error and was unable to complete your request.  Either the server is overloaded or there is an error in the application.</p>\n\". See https://eu-west-1.console.aws.amazon.com/cloudwatch/home?region=eu-west-1#logEventViewer:group=/aws/sagemaker/Endpoints/sagemaker-pytorch-2019-05-24-12-09-23-783 in account 447243987276 for more information."
     ]
    }
   ],
   "source": [
    "predictor.predict(test_data)"
   ]
  },
  {
   "cell_type": "markdown",
   "metadata": {},
   "source": [
    "Since the return value of our model is close to `1`, we can be certain that the review we submitted is positive."
   ]
  },
  {
   "cell_type": "markdown",
   "metadata": {},
   "source": [
    "### Delete the endpoint\n",
    "\n",
    "Of course, just like in the XGBoost notebook, once we've deployed an endpoint it continues to run until we tell it to shut down. Since we are done using our endpoint for now, we can delete it."
   ]
  },
  {
   "cell_type": "code",
   "execution_count": 82,
   "metadata": {},
   "outputs": [],
   "source": [
    "estimator.delete_endpoint()"
   ]
  },
  {
   "cell_type": "markdown",
   "metadata": {},
   "source": [
    "## Step 6 (again) - Deploy the model for the web app\n",
    "\n",
    "Now that we know that our model is working, it's time to create some custom inference code so that we can send the model a review which has not been processed and have it determine the sentiment of the review.\n",
    "\n",
    "As we saw above, by default the estimator which we created, when deployed, will use the entry script and directory which we provided when creating the model. However, since we now wish to accept a string as input and our model expects a processed review, we need to write some custom inference code.\n",
    "\n",
    "We will store the code that we write in the `serve` directory. Provided in this directory is the `model.py` file that we used to construct our model, a `utils.py` file which contains the `review_to_words` and `convert_and_pad` pre-processing functions which we used during the initial data processing, and `predict.py`, the file which will contain our custom inference code. Note also that `requirements.txt` is present which will tell SageMaker what Python libraries are required by our custom inference code.\n",
    "\n",
    "When deploying a PyTorch model in SageMaker, you are expected to provide four functions which the SageMaker inference container will use.\n",
    " - `model_fn`: This function is the same function that we used in the training script and it tells SageMaker how to load our model.\n",
    " - `input_fn`: This function receives the raw serialized input that has been sent to the model's endpoint and its job is to de-serialize and make the input available for the inference code.\n",
    " - `output_fn`: This function takes the output of the inference code and its job is to serialize this output and return it to the caller of the model's endpoint.\n",
    " - `predict_fn`: The heart of the inference script, this is where the actual prediction is done and is the function which you will need to complete.\n",
    "\n",
    "For the simple website that we are constructing during this project, the `input_fn` and `output_fn` methods are relatively straightforward. We only require being able to accept a string as input and we expect to return a single value as output. You might imagine though that in a more complex application the input or output may be image data or some other binary data which would require some effort to serialize.\n",
    "\n",
    "### (TODO) Writing inference code\n",
    "\n",
    "Before writing our custom inference code, we will begin by taking a look at the code which has been provided."
   ]
  },
  {
   "cell_type": "code",
   "execution_count": 41,
   "metadata": {},
   "outputs": [
    {
     "name": "stdout",
     "output_type": "stream",
     "text": [
      "\u001b[34mimport\u001b[39;49;00m \u001b[04m\u001b[36margparse\u001b[39;49;00m\n",
      "\u001b[34mimport\u001b[39;49;00m \u001b[04m\u001b[36mjson\u001b[39;49;00m\n",
      "\u001b[34mimport\u001b[39;49;00m \u001b[04m\u001b[36mos\u001b[39;49;00m\n",
      "\u001b[34mimport\u001b[39;49;00m \u001b[04m\u001b[36mpickle\u001b[39;49;00m\n",
      "\u001b[34mimport\u001b[39;49;00m \u001b[04m\u001b[36msys\u001b[39;49;00m\n",
      "\u001b[34mimport\u001b[39;49;00m \u001b[04m\u001b[36msagemaker_containers\u001b[39;49;00m\n",
      "\u001b[34mimport\u001b[39;49;00m \u001b[04m\u001b[36mpandas\u001b[39;49;00m \u001b[34mas\u001b[39;49;00m \u001b[04m\u001b[36mpd\u001b[39;49;00m\n",
      "\u001b[34mimport\u001b[39;49;00m \u001b[04m\u001b[36mnumpy\u001b[39;49;00m \u001b[34mas\u001b[39;49;00m \u001b[04m\u001b[36mnp\u001b[39;49;00m\n",
      "\u001b[34mimport\u001b[39;49;00m \u001b[04m\u001b[36mtorch\u001b[39;49;00m\n",
      "\u001b[34mimport\u001b[39;49;00m \u001b[04m\u001b[36mtorch.nn\u001b[39;49;00m \u001b[34mas\u001b[39;49;00m \u001b[04m\u001b[36mnn\u001b[39;49;00m\n",
      "\u001b[34mimport\u001b[39;49;00m \u001b[04m\u001b[36mtorch.optim\u001b[39;49;00m \u001b[34mas\u001b[39;49;00m \u001b[04m\u001b[36moptim\u001b[39;49;00m\n",
      "\u001b[34mimport\u001b[39;49;00m \u001b[04m\u001b[36mtorch.utils.data\u001b[39;49;00m\n",
      "\n",
      "\u001b[34mfrom\u001b[39;49;00m \u001b[04m\u001b[36mmodel\u001b[39;49;00m \u001b[34mimport\u001b[39;49;00m LSTMClassifier\n",
      "\n",
      "\u001b[34mfrom\u001b[39;49;00m \u001b[04m\u001b[36mutils\u001b[39;49;00m \u001b[34mimport\u001b[39;49;00m review_to_words, convert_and_pad\n",
      "\n",
      "\u001b[34mdef\u001b[39;49;00m \u001b[32mmodel_fn\u001b[39;49;00m(model_dir):\n",
      "    \u001b[33m\"\"\"Load the PyTorch model from the `model_dir` directory.\"\"\"\u001b[39;49;00m\n",
      "    \u001b[34mprint\u001b[39;49;00m(\u001b[33m\"\u001b[39;49;00m\u001b[33mLoading model.\u001b[39;49;00m\u001b[33m\"\u001b[39;49;00m)\n",
      "\n",
      "    \u001b[37m# First, load the parameters used to create the model.\u001b[39;49;00m\n",
      "    model_info = {}\n",
      "    model_info_path = os.path.join(model_dir, \u001b[33m'\u001b[39;49;00m\u001b[33mmodel_info.pth\u001b[39;49;00m\u001b[33m'\u001b[39;49;00m)\n",
      "    \u001b[34mwith\u001b[39;49;00m \u001b[36mopen\u001b[39;49;00m(model_info_path, \u001b[33m'\u001b[39;49;00m\u001b[33mrb\u001b[39;49;00m\u001b[33m'\u001b[39;49;00m) \u001b[34mas\u001b[39;49;00m f:\n",
      "        model_info = torch.load(f)\n",
      "\n",
      "    \u001b[34mprint\u001b[39;49;00m(\u001b[33m\"\u001b[39;49;00m\u001b[33mmodel_info: {}\u001b[39;49;00m\u001b[33m\"\u001b[39;49;00m.format(model_info))\n",
      "\n",
      "    \u001b[37m# Determine the device and construct the model.\u001b[39;49;00m\n",
      "    device = torch.device(\u001b[33m\"\u001b[39;49;00m\u001b[33mcuda\u001b[39;49;00m\u001b[33m\"\u001b[39;49;00m \u001b[34mif\u001b[39;49;00m torch.cuda.is_available() \u001b[34melse\u001b[39;49;00m \u001b[33m\"\u001b[39;49;00m\u001b[33mcpu\u001b[39;49;00m\u001b[33m\"\u001b[39;49;00m)\n",
      "    model = LSTMClassifier(model_info[\u001b[33m'\u001b[39;49;00m\u001b[33membedding_dim\u001b[39;49;00m\u001b[33m'\u001b[39;49;00m], model_info[\u001b[33m'\u001b[39;49;00m\u001b[33mhidden_dim\u001b[39;49;00m\u001b[33m'\u001b[39;49;00m], model_info[\u001b[33m'\u001b[39;49;00m\u001b[33mvocab_size\u001b[39;49;00m\u001b[33m'\u001b[39;49;00m])\n",
      "\n",
      "    \u001b[37m# Load the store model parameters.\u001b[39;49;00m\n",
      "    model_path = os.path.join(model_dir, \u001b[33m'\u001b[39;49;00m\u001b[33mmodel.pth\u001b[39;49;00m\u001b[33m'\u001b[39;49;00m)\n",
      "    \u001b[34mwith\u001b[39;49;00m \u001b[36mopen\u001b[39;49;00m(model_path, \u001b[33m'\u001b[39;49;00m\u001b[33mrb\u001b[39;49;00m\u001b[33m'\u001b[39;49;00m) \u001b[34mas\u001b[39;49;00m f:\n",
      "        model.load_state_dict(torch.load(f))\n",
      "\n",
      "    \u001b[37m# Load the saved word_dict.\u001b[39;49;00m\n",
      "    word_dict_path = os.path.join(model_dir, \u001b[33m'\u001b[39;49;00m\u001b[33mword_dict.pkl\u001b[39;49;00m\u001b[33m'\u001b[39;49;00m)\n",
      "    \u001b[34mwith\u001b[39;49;00m \u001b[36mopen\u001b[39;49;00m(word_dict_path, \u001b[33m'\u001b[39;49;00m\u001b[33mrb\u001b[39;49;00m\u001b[33m'\u001b[39;49;00m) \u001b[34mas\u001b[39;49;00m f:\n",
      "        model.word_dict = pickle.load(f)\n",
      "\n",
      "    model.to(device).eval()\n",
      "\n",
      "    \u001b[34mprint\u001b[39;49;00m(\u001b[33m\"\u001b[39;49;00m\u001b[33mDone loading model.\u001b[39;49;00m\u001b[33m\"\u001b[39;49;00m)\n",
      "    \u001b[34mreturn\u001b[39;49;00m model\n",
      "\n",
      "\u001b[34mdef\u001b[39;49;00m \u001b[32minput_fn\u001b[39;49;00m(serialized_input_data, content_type):\n",
      "    \u001b[34mprint\u001b[39;49;00m(\u001b[33m'\u001b[39;49;00m\u001b[33mDeserializing the input data.\u001b[39;49;00m\u001b[33m'\u001b[39;49;00m)\n",
      "    \u001b[34mif\u001b[39;49;00m content_type == \u001b[33m'\u001b[39;49;00m\u001b[33mtext/plain\u001b[39;49;00m\u001b[33m'\u001b[39;49;00m:\n",
      "        data = serialized_input_data.decode(\u001b[33m'\u001b[39;49;00m\u001b[33mutf-8\u001b[39;49;00m\u001b[33m'\u001b[39;49;00m)\n",
      "        \u001b[34mreturn\u001b[39;49;00m data\n",
      "    \u001b[34mraise\u001b[39;49;00m \u001b[36mException\u001b[39;49;00m(\u001b[33m'\u001b[39;49;00m\u001b[33mRequested unsupported ContentType in content_type: \u001b[39;49;00m\u001b[33m'\u001b[39;49;00m + content_type)\n",
      "\n",
      "\u001b[34mdef\u001b[39;49;00m \u001b[32moutput_fn\u001b[39;49;00m(prediction_output, accept):\n",
      "    \u001b[34mprint\u001b[39;49;00m(\u001b[33m'\u001b[39;49;00m\u001b[33mSerializing the generated output.\u001b[39;49;00m\u001b[33m'\u001b[39;49;00m)\n",
      "    \u001b[34mreturn\u001b[39;49;00m \u001b[36mstr\u001b[39;49;00m(prediction_output)\n",
      "\n",
      "\u001b[34mdef\u001b[39;49;00m \u001b[32mpredict_fn\u001b[39;49;00m(input_data, model):\n",
      "    \u001b[34mprint\u001b[39;49;00m(\u001b[33m'\u001b[39;49;00m\u001b[33mInferring sentiment of input data.\u001b[39;49;00m\u001b[33m'\u001b[39;49;00m)\n",
      "\n",
      "    device = torch.device(\u001b[33m\"\u001b[39;49;00m\u001b[33mcuda\u001b[39;49;00m\u001b[33m\"\u001b[39;49;00m \u001b[34mif\u001b[39;49;00m torch.cuda.is_available() \u001b[34melse\u001b[39;49;00m \u001b[33m\"\u001b[39;49;00m\u001b[33mcpu\u001b[39;49;00m\u001b[33m\"\u001b[39;49;00m)\n",
      "    \n",
      "    \u001b[34mif\u001b[39;49;00m model.word_dict \u001b[35mis\u001b[39;49;00m \u001b[36mNone\u001b[39;49;00m:\n",
      "        \u001b[34mraise\u001b[39;49;00m \u001b[36mException\u001b[39;49;00m(\u001b[33m'\u001b[39;49;00m\u001b[33mModel has not been loaded properly, no word_dict.\u001b[39;49;00m\u001b[33m'\u001b[39;49;00m)\n",
      "    \n",
      "    \u001b[37m# TODO: Process input_data so that it is ready to be sent to our model.\u001b[39;49;00m\n",
      "    \u001b[37m#       You should produce two variables:\u001b[39;49;00m\n",
      "    \u001b[37m#         data_X   - A sequence of length 500 which represents the converted review\u001b[39;49;00m\n",
      "    \u001b[37m#         data_len - The length of the review\u001b[39;49;00m\n",
      "\n",
      "    data_X = \u001b[36mNone\u001b[39;49;00m\n",
      "    data_len = \u001b[36mNone\u001b[39;49;00m\n",
      "\n",
      "    \u001b[37m# Using data_X and data_len we construct an appropriate input tensor. Remember\u001b[39;49;00m\n",
      "    \u001b[37m# that our model expects input data of the form 'len, review[500]'.\u001b[39;49;00m\n",
      "    data_pack = np.hstack((data_len, data_X))\n",
      "    data_pack = data_pack.reshape(\u001b[34m1\u001b[39;49;00m, -\u001b[34m1\u001b[39;49;00m)\n",
      "    \n",
      "    data = torch.from_numpy(data_pack)\n",
      "    data = data.to(device)\n",
      "\n",
      "    \u001b[37m# Make sure to put the model into evaluation mode\u001b[39;49;00m\n",
      "    model.eval()\n",
      "\n",
      "    \u001b[37m# TODO: Compute the result of applying the model to the input data. The variable `result` should\u001b[39;49;00m\n",
      "    \u001b[37m#       be a numpy array which contains a single integer which is either 1 or 0\u001b[39;49;00m\n",
      "\n",
      "    result = \u001b[36mNone\u001b[39;49;00m\n",
      "\n",
      "    \u001b[34mreturn\u001b[39;49;00m result\n"
     ]
    }
   ],
   "source": [
    "!pygmentize serve/predict.py"
   ]
  },
  {
   "cell_type": "markdown",
   "metadata": {},
   "source": [
    "As mentioned earlier, the `model_fn` method is the same as the one provided in the training code and the `input_fn` and `output_fn` methods are very simple and your task will be to complete the `predict_fn` method. Make sure that you save the completed file as `predict.py` in the `serve` directory.\n",
    "\n",
    "**TODO**: Complete the `predict_fn()` method in the `serve/predict.py` file."
   ]
  },
  {
   "cell_type": "markdown",
   "metadata": {},
   "source": [
    "### Deploying the model\n",
    "\n",
    "Now that the custom inference code has been written, we will create and deploy our model. To begin with, we need to construct a new PyTorchModel object which points to the model artifacts created during training and also points to the inference code that we wish to use. Then we can call the deploy method to launch the deployment container.\n",
    "\n",
    "**NOTE**: The default behaviour for a deployed PyTorch model is to assume that any input passed to the predictor is a `numpy` array. In our case we want to send a string so we need to construct a simple wrapper around the `RealTimePredictor` class to accomodate simple strings. In a more complicated situation you may want to provide a serialization object, for example if you wanted to sent image data."
   ]
  },
  {
   "cell_type": "code",
   "execution_count": 114,
   "metadata": {},
   "outputs": [
    {
     "name": "stdout",
     "output_type": "stream",
     "text": [
      "---------------------------------------------------------------------------------------!"
     ]
    }
   ],
   "source": [
    "from sagemaker.predictor import RealTimePredictor\n",
    "from sagemaker.pytorch import PyTorchModel\n",
    "\n",
    "class StringPredictor(RealTimePredictor):\n",
    "    def __init__(self, endpoint_name, sagemaker_session):\n",
    "        super(StringPredictor, self).__init__(endpoint_name, sagemaker_session, content_type='text/plain')\n",
    "\n",
    "model = PyTorchModel(model_data=estimator.model_data,\n",
    "                     role = role,\n",
    "                     framework_version='0.4.0',\n",
    "                     entry_point='predict.py',\n",
    "                     source_dir='serve',\n",
    "                     predictor_cls=StringPredictor)\n",
    "predictor = model.deploy(initial_instance_count=1, instance_type='ml.m4.xlarge')"
   ]
  },
  {
   "cell_type": "markdown",
   "metadata": {},
   "source": [
    "### Testing the model\n",
    "\n",
    "Now that we have deployed our model with the custom inference code, we should test to see if everything is working. Here we test our model by loading the first `250` positive and negative reviews and send them to the endpoint, then collect the results. The reason for only sending some of the data is that the amount of time it takes for our model to process the input and then perform inference is quite long and so testing the entire data set would be prohibitive."
   ]
  },
  {
   "cell_type": "code",
   "execution_count": null,
   "metadata": {},
   "outputs": [],
   "source": [
    "import glob\n",
    "\n",
    "def test_reviews(data_dir='../data/aclImdb', stop=250):\n",
    "    \n",
    "    results = []\n",
    "    ground = []\n",
    "    \n",
    "    # We make sure to test both positive and negative reviews    \n",
    "    for sentiment in ['pos', 'neg']:\n",
    "        \n",
    "        path = os.path.join(data_dir, 'test', sentiment, '*.txt')\n",
    "        files = glob.glob(path)\n",
    "        \n",
    "        files_read = 0\n",
    "        \n",
    "        print('Starting ', sentiment, ' files')\n",
    "        \n",
    "        # Iterate through the files and send them to the predictor\n",
    "        for f in files:\n",
    "            with open(f) as review:\n",
    "                # First, we store the ground truth (was the review positive or negative)\n",
    "                if sentiment == 'pos':\n",
    "                    ground.append(1)\n",
    "                else:\n",
    "                    ground.append(0)\n",
    "                # Read in the review and convert to 'utf-8' for transmission via HTTP\n",
    "                review_input = review.read().encode('utf-8')\n",
    "                # Send the review to the predictor and store the results\n",
    "                results.append(int(predictor.predict(review_input)))\n",
    "                \n",
    "            # Sending reviews to our endpoint one at a time takes a while so we\n",
    "            # only send a small number of reviews\n",
    "            files_read += 1\n",
    "            if files_read == stop:\n",
    "                break\n",
    "            \n",
    "    return ground, results"
   ]
  },
  {
   "cell_type": "code",
   "execution_count": null,
   "metadata": {},
   "outputs": [],
   "source": [
    "ground, results = test_reviews()"
   ]
  },
  {
   "cell_type": "code",
   "execution_count": null,
   "metadata": {},
   "outputs": [],
   "source": [
    "from sklearn.metrics import accuracy_score\n",
    "accuracy_score(ground, results)"
   ]
  },
  {
   "cell_type": "markdown",
   "metadata": {},
   "source": [
    "As an additional test, we can try sending the `test_review` that we looked at earlier."
   ]
  },
  {
   "cell_type": "code",
   "execution_count": null,
   "metadata": {},
   "outputs": [],
   "source": [
    "predictor.predict(test_review)"
   ]
  },
  {
   "cell_type": "markdown",
   "metadata": {},
   "source": [
    "Now that we know our endpoint is working as expected, we can set up the web page that will interact with it. If you don't have time to finish the project now, make sure to skip down to the end of this notebook and shut down your endpoint. You can deploy it again when you come back."
   ]
  },
  {
   "cell_type": "markdown",
   "metadata": {},
   "source": [
    "## Step 7 (again): Use the model for the web app\n",
    "\n",
    "> **TODO:** This entire section and the next contain tasks for you to complete, mostly using the AWS console.\n",
    "\n",
    "So far we have been accessing our model endpoint by constructing a predictor object which uses the endpoint and then just using the predictor object to perform inference. What if we wanted to create a web app which accessed our model? The way things are set up currently makes that not possible since in order to access a SageMaker endpoint the app would first have to authenticate with AWS using an IAM role which included access to SageMaker endpoints. However, there is an easier way! We just need to use some additional AWS services.\n",
    "\n",
    "<img src=\"Web App Diagram.svg\">\n",
    "\n",
    "The diagram above gives an overview of how the various services will work together. On the far right is the model which we trained above and which is deployed using SageMaker. On the far left is our web app that collects a user's movie review, sends it off and expects a positive or negative sentiment in return.\n",
    "\n",
    "In the middle is where some of the magic happens. We will construct a Lambda function, which you can think of as a straightforward Python function that can be executed whenever a specified event occurs. We will give this function permission to send and recieve data from a SageMaker endpoint.\n",
    "\n",
    "Lastly, the method we will use to execute the Lambda function is a new endpoint that we will create using API Gateway. This endpoint will be a url that listens for data to be sent to it. Once it gets some data it will pass that data on to the Lambda function and then return whatever the Lambda function returns. Essentially it will act as an interface that lets our web app communicate with the Lambda function.\n",
    "\n",
    "### Setting up a Lambda function\n",
    "\n",
    "The first thing we are going to do is set up a Lambda function. This Lambda function will be executed whenever our public API has data sent to it. When it is executed it will receive the data, perform any sort of processing that is required, send the data (the review) to the SageMaker endpoint we've created and then return the result.\n",
    "\n",
    "#### Part A: Create an IAM Role for the Lambda function\n",
    "\n",
    "Since we want the Lambda function to call a SageMaker endpoint, we need to make sure that it has permission to do so. To do this, we will construct a role that we can later give the Lambda function.\n",
    "\n",
    "Using the AWS Console, navigate to the **IAM** page and click on **Roles**. Then, click on **Create role**. Make sure that the **AWS service** is the type of trusted entity selected and choose **Lambda** as the service that will use this role, then click **Next: Permissions**.\n",
    "\n",
    "In the search box type `sagemaker` and select the check box next to the **AmazonSageMakerFullAccess** policy. Then, click on **Next: Review**.\n",
    "\n",
    "Lastly, give this role a name. Make sure you use a name that you will remember later on, for example `LambdaSageMakerRole`. Then, click on **Create role**.\n",
    "\n",
    "#### Part B: Create a Lambda function\n",
    "\n",
    "Now it is time to actually create the Lambda function.\n",
    "\n",
    "Using the AWS Console, navigate to the AWS Lambda page and click on **Create a function**. When you get to the next page, make sure that **Author from scratch** is selected. Now, name your Lambda function, using a name that you will remember later on, for example `sentiment_analysis_func`. Make sure that the **Python 3.6** runtime is selected and then choose the role that you created in the previous part. Then, click on **Create Function**.\n",
    "\n",
    "On the next page you will see some information about the Lambda function you've just created. If you scroll down you should see an editor in which you can write the code that will be executed when your Lambda function is triggered. In our example, we will use the code below. \n",
    "\n",
    "```python\n",
    "# We need to use the low-level library to interact with SageMaker since the SageMaker API\n",
    "# is not available natively through Lambda.\n",
    "import boto3\n",
    "\n",
    "def lambda_handler(event, context):\n",
    "\n",
    "    # The SageMaker runtime is what allows us to invoke the endpoint that we've created.\n",
    "    runtime = boto3.Session().client('sagemaker-runtime')\n",
    "\n",
    "    # Now we use the SageMaker runtime to invoke our endpoint, sending the review we were given\n",
    "    response = runtime.invoke_endpoint(EndpointName = '**ENDPOINT NAME HERE**',    # The name of the endpoint we created\n",
    "                                       ContentType = 'text/plain',                 # The data format that is expected\n",
    "                                       Body = event['body'])                       # The actual review\n",
    "\n",
    "    # The response is an HTTP response whose body contains the result of our inference\n",
    "    result = response['Body'].read().decode('utf-8')\n",
    "\n",
    "    return {\n",
    "        'statusCode' : 200,\n",
    "        'headers' : { 'Content-Type' : 'text/plain', 'Access-Control-Allow-Origin' : '*' },\n",
    "        'body' : result\n",
    "    }\n",
    "```\n",
    "\n",
    "Once you have copy and pasted the code above into the Lambda code editor, replace the `**ENDPOINT NAME HERE**` portion with the name of the endpoint that we deployed earlier. You can determine the name of the endpoint using the code cell below."
   ]
  },
  {
   "cell_type": "code",
   "execution_count": null,
   "metadata": {},
   "outputs": [],
   "source": [
    "predictor.endpoint"
   ]
  },
  {
   "cell_type": "markdown",
   "metadata": {},
   "source": [
    "Once you have added the endpoint name to the Lambda function, click on **Save**. Your Lambda function is now up and running. Next we need to create a way for our web app to execute the Lambda function.\n",
    "\n",
    "### Setting up API Gateway\n",
    "\n",
    "Now that our Lambda function is set up, it is time to create a new API using API Gateway that will trigger the Lambda function we have just created.\n",
    "\n",
    "Using AWS Console, navigate to **Amazon API Gateway** and then click on **Get started**.\n",
    "\n",
    "On the next page, make sure that **New API** is selected and give the new api a name, for example, `sentiment_analysis_api`. Then, click on **Create API**.\n",
    "\n",
    "Now we have created an API, however it doesn't currently do anything. What we want it to do is to trigger the Lambda function that we created earlier.\n",
    "\n",
    "Select the **Actions** dropdown menu and click **Create Method**. A new blank method will be created, select its dropdown menu and select **POST**, then click on the check mark beside it.\n",
    "\n",
    "For the integration point, make sure that **Lambda Function** is selected and click on the **Use Lambda Proxy integration**. This option makes sure that the data that is sent to the API is then sent directly to the Lambda function with no processing. It also means that the return value must be a proper response object as it will also not be processed by API Gateway.\n",
    "\n",
    "Type the name of the Lambda function you created earlier into the **Lambda Function** text entry box and then click on **Save**. Click on **OK** in the pop-up box that then appears, giving permission to API Gateway to invoke the Lambda function you created.\n",
    "\n",
    "The last step in creating the API Gateway is to select the **Actions** dropdown and click on **Deploy API**. You will need to create a new Deployment stage and name it anything you like, for example `prod`.\n",
    "\n",
    "You have now successfully set up a public API to access your SageMaker model. Make sure to copy or write down the URL provided to invoke your newly created public API as this will be needed in the next step. This URL can be found at the top of the page, highlighted in blue next to the text **Invoke URL**."
   ]
  },
  {
   "cell_type": "markdown",
   "metadata": {},
   "source": [
    "## Step 4: Deploying our web app\n",
    "\n",
    "Now that we have a publicly available API, we can start using it in a web app. For our purposes, we have provided a simple static html file which can make use of the public api you created earlier.\n",
    "\n",
    "In the `website` folder there should be a file called `index.html`. Download the file to your computer and open that file up in a text editor of your choice. There should be a line which contains **\\*\\*REPLACE WITH PUBLIC API URL\\*\\***. Replace this string with the url that you wrote down in the last step and then save the file.\n",
    "\n",
    "Now, if you open `index.html` on your local computer, your browser will behave as a local web server and you can use the provided site to interact with your SageMaker model.\n",
    "\n",
    "If you'd like to go further, you can host this html file anywhere you'd like, for example using github or hosting a static site on Amazon's S3. Once you have done this you can share the link with anyone you'd like and have them play with it too!\n",
    "\n",
    "> **Important Note** In order for the web app to communicate with the SageMaker endpoint, the endpoint has to actually be deployed and running. This means that you are paying for it. Make sure that the endpoint is running when you want to use the web app but that you shut it down when you don't need it, otherwise you will end up with a surprisingly large AWS bill.\n",
    "\n",
    "**TODO:** Make sure that you include the edited `index.html` file in your project submission."
   ]
  },
  {
   "cell_type": "markdown",
   "metadata": {},
   "source": [
    "Now that your web app is working, trying playing around with it and see how well it works.\n",
    "\n",
    "**Question**: Give an example of a review that you entered into your web app. What was the predicted sentiment of your example review?"
   ]
  },
  {
   "cell_type": "markdown",
   "metadata": {},
   "source": [
    "**Answer:**"
   ]
  },
  {
   "cell_type": "markdown",
   "metadata": {},
   "source": [
    "### Delete the endpoint\n",
    "\n",
    "Remember to always shut down your endpoint if you are no longer using it. You are charged for the length of time that the endpoint is running so if you forget and leave it on you could end up with an unexpectedly large bill."
   ]
  },
  {
   "cell_type": "code",
   "execution_count": null,
   "metadata": {},
   "outputs": [],
   "source": [
    "predictor.delete_endpoint()"
   ]
  },
  {
   "cell_type": "code",
   "execution_count": null,
   "metadata": {},
   "outputs": [],
   "source": []
  }
 ],
 "metadata": {
  "kernelspec": {
   "display_name": "conda_pytorch_p36",
   "language": "python",
   "name": "conda_pytorch_p36"
  },
  "language_info": {
   "codemirror_mode": {
    "name": "ipython",
    "version": 3
   },
   "file_extension": ".py",
   "mimetype": "text/x-python",
   "name": "python",
   "nbconvert_exporter": "python",
   "pygments_lexer": "ipython3",
   "version": "3.6.5"
  }
 },
 "nbformat": 4,
 "nbformat_minor": 2
}
